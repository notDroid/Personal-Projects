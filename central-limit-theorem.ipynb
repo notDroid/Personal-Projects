{
 "cells": [
  {
   "cell_type": "code",
   "execution_count": 1,
   "id": "c72495f0",
   "metadata": {
    "_cell_guid": "b1076dfc-b9ad-4769-8c92-a6c4dae69d19",
    "_uuid": "8f2839f25d086af736a60e9eeb907d3b93b6e0e5",
    "execution": {
     "iopub.execute_input": "2023-08-15T14:01:13.536317Z",
     "iopub.status.busy": "2023-08-15T14:01:13.535860Z",
     "iopub.status.idle": "2023-08-15T14:01:15.009517Z",
     "shell.execute_reply": "2023-08-15T14:01:15.006421Z"
    },
    "papermill": {
     "duration": 1.486762,
     "end_time": "2023-08-15T14:01:15.013759",
     "exception": false,
     "start_time": "2023-08-15T14:01:13.526997",
     "status": "completed"
    },
    "tags": []
   },
   "outputs": [
    {
     "name": "stderr",
     "output_type": "stream",
     "text": [
      "/opt/conda/lib/python3.10/site-packages/scipy/__init__.py:146: UserWarning: A NumPy version >=1.16.5 and <1.23.0 is required for this version of SciPy (detected version 1.23.5\n",
      "  warnings.warn(f\"A NumPy version >={np_minversion} and <{np_maxversion}\"\n"
     ]
    }
   ],
   "source": [
    "# This Python 3 environment comes with many helpful analytics libraries installed\n",
    "# It is defined by the kaggle/python Docker image: https://github.com/kaggle/docker-python\n",
    "# For example, here's several helpful packages to load\n",
    "\n",
    "import numpy as np # linear algebra\n",
    "import pandas as pd # data processing, CSV file I/O (e.g. pd.read_csv)\n",
    "import matplotlib.pyplot as plt\n",
    "import seaborn as sns\n",
    "from ipywidgets import interact\n",
    "import ipywidgets as widgets\n",
    "# Input data files are available in the read-only \"../input/\" directory\n",
    "# For example, running this (by clicking run or pressing Shift+Enter) will list all files under the input directory\n",
    "\n",
    "import os\n",
    "for dirname, _, filenames in os.walk('/kaggle/input'):\n",
    "    for filename in filenames:\n",
    "        print(os.path.join(dirname, filename))\n",
    "\n",
    "# You can write up to 20GB to the current directory (/kaggle/working/) that gets preserved as output when you create a version using \"Save & Run All\" \n",
    "# You can also write temporary files to /kaggle/temp/, but they won't be saved outside of the current session"
   ]
  },
  {
   "cell_type": "code",
   "execution_count": 2,
   "id": "138e760c",
   "metadata": {
    "execution": {
     "iopub.execute_input": "2023-08-15T14:01:15.028801Z",
     "iopub.status.busy": "2023-08-15T14:01:15.028345Z",
     "iopub.status.idle": "2023-08-15T14:01:15.035659Z",
     "shell.execute_reply": "2023-08-15T14:01:15.034133Z"
    },
    "papermill": {
     "duration": 0.018184,
     "end_time": "2023-08-15T14:01:15.038531",
     "exception": false,
     "start_time": "2023-08-15T14:01:15.020347",
     "status": "completed"
    },
    "tags": []
   },
   "outputs": [],
   "source": [
    "#default values\n",
    "N = 1000\n",
    "m = 1000\n",
    "\n",
    "#can be changed into a valid probabilty-value pair\n",
    "#E = 3\n",
    "#values = np.arange(E)\n",
    "#p = np.ones(E)/E\n",
    "values = np.arange(5)\n",
    "p = np.array([0.4,0.2,0.1,0.2,0.1])"
   ]
  },
  {
   "cell_type": "code",
   "execution_count": 3,
   "id": "cb123490",
   "metadata": {
    "execution": {
     "iopub.execute_input": "2023-08-15T14:01:15.053640Z",
     "iopub.status.busy": "2023-08-15T14:01:15.053137Z",
     "iopub.status.idle": "2023-08-15T14:01:15.068514Z",
     "shell.execute_reply": "2023-08-15T14:01:15.067216Z"
    },
    "papermill": {
     "duration": 0.026175,
     "end_time": "2023-08-15T14:01:15.071068",
     "exception": false,
     "start_time": "2023-08-15T14:01:15.044893",
     "status": "completed"
    },
    "tags": []
   },
   "outputs": [],
   "source": [
    "class Distribution():\n",
    "    def __init__(self, values, p, df = 0.01, range_ = 3.2):\n",
    "        self.p = p\n",
    "        self.values = values\n",
    "        self.f = np.arange(-range_,range_,df).reshape((-1,1))\n",
    "\n",
    "    def sample_from_distribution(self,m,N):\n",
    "        distribution = np.random.choice(self.values, (m,N), p = self.p)\n",
    "        return distribution\n",
    "    \n",
    "    def get_mean(self):\n",
    "        return np.dot(self.values,self.p)\n",
    "    \n",
    "    def get_std(self):\n",
    "        return np.sqrt(np.dot((self.values - self.get_mean())**2,self.p))\n",
    "    \n",
    "    def plot_samples(self,N,m):\n",
    "        samples = self.sample_from_distribution(int(m),int(N))\n",
    "        random_sum = np.sum(samples, axis = -1)\n",
    "            \n",
    "        sns.histplot(random_sum, kde = True)\n",
    "    \n",
    "    def plot_distribution(self):        \n",
    "        plt.bar(self.values, self.p, width = (self.values[1] - self.values[0]) * 0.95)\n",
    "        plt.show()  \n",
    "        \n",
    "    def get_limit_fourier_transform(self):\n",
    "        F_p = np.exp(-2*(np.pi**2)*(self.f**2))\n",
    "        return np.squeeze(F_p)\n",
    "\n",
    "    def get_fourier_transform(self,N):\n",
    "        p = self.p.reshape(-1,1)\n",
    "        values = self.values.reshape(1,-1)\n",
    "        f_hat = np.dot(np.cos(2*np.pi*values*self.f/np.sqrt(N)),p)\n",
    "        return np.squeeze(f_hat**N)"
   ]
  },
  {
   "cell_type": "code",
   "execution_count": 4,
   "id": "73fc83c2",
   "metadata": {
    "execution": {
     "iopub.execute_input": "2023-08-15T14:01:15.085702Z",
     "iopub.status.busy": "2023-08-15T14:01:15.085286Z",
     "iopub.status.idle": "2023-08-15T14:01:15.461614Z",
     "shell.execute_reply": "2023-08-15T14:01:15.460346Z"
    },
    "papermill": {
     "duration": 0.386687,
     "end_time": "2023-08-15T14:01:15.464203",
     "exception": false,
     "start_time": "2023-08-15T14:01:15.077516",
     "status": "completed"
    },
    "tags": []
   },
   "outputs": [
    {
     "data": {
      "image/png": "[encoded data removed]",
      "text/plain": [
       "<Figure size 640x480 with 1 Axes>"
      ]
     },
     "metadata": {},
     "output_type": "display_data"
    }
   ],
   "source": [
    "sns.set(style = 'darkgrid', context = 'notebook', palette = 'Paired')\n",
    "dist = Distribution(values,p)\n",
    "\n",
    "dist.plot_distribution()"
   ]
  },
  {
   "cell_type": "code",
   "execution_count": 5,
   "id": "82f93a14",
   "metadata": {
    "execution": {
     "iopub.execute_input": "2023-08-15T14:01:15.479369Z",
     "iopub.status.busy": "2023-08-15T14:01:15.477979Z",
     "iopub.status.idle": "2023-08-15T14:01:15.486903Z",
     "shell.execute_reply": "2023-08-15T14:01:15.485790Z"
    },
    "papermill": {
     "duration": 0.019371,
     "end_time": "2023-08-15T14:01:15.489723",
     "exception": false,
     "start_time": "2023-08-15T14:01:15.470352",
     "status": "completed"
    },
    "tags": []
   },
   "outputs": [],
   "source": [
    "sns.set(palette = 'Dark2')\n",
    "def interactive_plot_samples(N,m,dist):\n",
    "    fig, ax = plt.subplots()\n",
    "    dist.plot_samples(N,m)"
   ]
  },
  {
   "cell_type": "code",
   "execution_count": 6,
   "id": "4a4e8c63",
   "metadata": {
    "execution": {
     "iopub.execute_input": "2023-08-15T14:01:15.503637Z",
     "iopub.status.busy": "2023-08-15T14:01:15.503242Z",
     "iopub.status.idle": "2023-08-15T14:01:16.034001Z",
     "shell.execute_reply": "2023-08-15T14:01:16.032564Z"
    },
    "papermill": {
     "duration": 0.540826,
     "end_time": "2023-08-15T14:01:16.036532",
     "exception": false,
     "start_time": "2023-08-15T14:01:15.495706",
     "status": "completed"
    },
    "tags": []
   },
   "outputs": [
    {
     "data": {
      "application/vnd.jupyter.widget-view+json": {
       "model_id": "a616efabd14e45bfb05fec79adc49108",
       "version_major": 2,
       "version_minor": 0
      },
      "text/plain": [
       "interactive(children=(FloatLogSlider(value=1000.0, description='N', max=3.0), FloatLogSlider(value=1000.0, des…"
      ]
     },
     "metadata": {},
     "output_type": "display_data"
    },
    {
     "data": {
      "text/plain": [
       "<function __main__.<lambda>(N, m)>"
      ]
     },
     "execution_count": 6,
     "metadata": {},
     "output_type": "execute_result"
    }
   ],
   "source": [
    "interact(\n",
    "    lambda N,m: interactive_plot_samples(N,m,dist), \n",
    "    N = widgets.FloatLogSlider(base = 10, min = np.log10(1), max = 3, value = N), \n",
    "    m = widgets.FloatLogSlider(base = 10, min = 1, max = 4, value = m)\n",
    ")"
   ]
  },
  {
   "cell_type": "code",
   "execution_count": 7,
   "id": "3218e785",
   "metadata": {
    "execution": {
     "iopub.execute_input": "2023-08-15T14:01:16.052589Z",
     "iopub.status.busy": "2023-08-15T14:01:16.052173Z",
     "iopub.status.idle": "2023-08-15T14:01:16.059650Z",
     "shell.execute_reply": "2023-08-15T14:01:16.058379Z"
    },
    "papermill": {
     "duration": 0.018458,
     "end_time": "2023-08-15T14:01:16.062024",
     "exception": false,
     "start_time": "2023-08-15T14:01:16.043566",
     "status": "completed"
    },
    "tags": []
   },
   "outputs": [],
   "source": [
    "class NormalizedDistribution(Distribution):\n",
    "    def __init__(self, values, p, df = 0.01):\n",
    "        super().__init__(values, p, df)\n",
    "        self.p = p\n",
    "        self.values = self.normalize(values, p)\n",
    "        \n",
    "    def normalize(self, values, p):\n",
    "        mean = self.get_mean()\n",
    "        std = self.get_std()\n",
    "    \n",
    "        values_norm = (values - mean)/std\n",
    "    \n",
    "        return values_norm"
   ]
  },
  {
   "cell_type": "code",
   "execution_count": 8,
   "id": "7769daf1",
   "metadata": {
    "execution": {
     "iopub.execute_input": "2023-08-15T14:01:16.078186Z",
     "iopub.status.busy": "2023-08-15T14:01:16.077727Z",
     "iopub.status.idle": "2023-08-15T14:01:16.449721Z",
     "shell.execute_reply": "2023-08-15T14:01:16.448243Z"
    },
    "papermill": {
     "duration": 0.383622,
     "end_time": "2023-08-15T14:01:16.452407",
     "exception": false,
     "start_time": "2023-08-15T14:01:16.068785",
     "status": "completed"
    },
    "tags": []
   },
   "outputs": [
    {
     "data": {
      "image/png": "[encoded data removed]",
      "text/plain": [
       "<Figure size 640x480 with 1 Axes>"
      ]
     },
     "metadata": {},
     "output_type": "display_data"
    }
   ],
   "source": [
    "normalized_dist = NormalizedDistribution(values,p)\n",
    "\n",
    "normalized_dist.plot_distribution()"
   ]
  },
  {
   "attachments": {
    "7e94c67d-d732-42d6-992b-6793311e9616.png": {
     "image/png": "[encoded data removed]"
    }
   },
   "cell_type": "markdown",
   "id": "9f6f6d91",
   "metadata": {
    "papermill": {
     "duration": 0.007113,
     "end_time": "2023-08-15T14:01:16.466837",
     "exception": false,
     "start_time": "2023-08-15T14:01:16.459724",
     "status": "completed"
    },
    "tags": []
   },
   "source": [
    "## Using The Fourier Transform Convolution Property\n",
    "For a sum of random variables to converge it must satisfy have finite mean, variance, and skewness. Then it can be converted to the following: \n",
    "<br>\n",
    "$$\n",
    "    \\int_{-\\infty}^{\\infty} p_{1}(x) dx = 1 \\qquad \\int_{-\\infty}^{\\infty} x p_{1}(x) dx = 0 \\qquad \\int_{-\\infty}^{\\infty} x^2 p_{1}(x) dx = 1 \\qquad \\left| \\int_{-\\infty}^{\\infty} x^3 p_{1} (x) dx \\right| < \\infty \\iff \\int_{-\\infty}^{\\infty} |x|^3 p_{1} (x) dx < \\infty\n",
    "$$\n",
    "<br>\n",
    "$$\n",
    "    P(X + Y = x) = [ p_{X} \\ast p_{Y} ] (x) \\qquad Var(X+Y) = Var(X) + Var(Y)\n",
    "$$\n",
    "<br>\n",
    "$$\n",
    "    P_{N} = (P(X_{1} + X_{2} + \\cdots + X_{N}) = [p_{1}*\\cdots*p_{N}](x) \\qquad Var(X_{1} + X_{2} + \\cdots + X_{N}) = N\n",
    "$$\n",
    "<br>\n",
    "Because the probabilty is broken down into convolutions its a good idea to apply the fourier transform to simplify the expression.\n",
    "<br>\n",
    "$$\n",
    "    \\mathcal{F}[P_{N}] = (\\mathcal{F}[p_{1}])^N \\qquad \\mathcal{F}[p_{1}] = \\hat{f}(f) = \\hat{f}(0) + \\hat{f}'(0) f + \\frac{1}{2} \\hat{f}''(0) f^2 + \\big| \\hat{f}^{(3)} \\big| O(f^3)\n",
    "$$\n",
    "<br>\n",
    "We can get information about $\\hat{f}$ from its taylor expansion because it represents the moments of the distribution.\n",
    "<br>\n",
    "$$\n",
    "    \\hat{f}(0) = \\int_{-\\infty}^{\\infty} p_{1}(x) dx = 1 \\qquad \\hat{f}'(0) = -2\\pi i \\int_{-\\infty}^{\\infty} x p_{1}(x) dx = 0 \\qquad \\hat{f}''(0) = -4\\pi^2 \\int_{-\\infty}^{\\infty} x^2 p_{1}(x) dx = -4 \\pi^2  \\qquad \\big| \\hat{f}^{(3)} \\big| <= \\int_{-\\infty}^{\\infty} |x|^3 p_{1} (x) dx\n",
    "$$\n",
    "<br>\n",
    "$$\n",
    "    \\hat{f}(f) = \\left[ 1 - 2 \\pi^2 f^2 + O(f^3) \\right]^N \\qquad p_N = Normalize(P_N) = \\sqrt{N} P_N(\\sqrt{N} x)\n",
    "$$\n",
    "<br>\n",
    "$$\n",
    "    \\mathcal{F}[p_N] = \\mathcal{F}[\\sqrt{N}P_N(\\sqrt{N} x)] = \\hat{f}(\\frac{f}{\\sqrt{N}}) = \\left[ 1 + \\frac{-2 \\pi^2 f^2}{N} + O\\left( \\frac{f^3}{N^{\\frac{3}{2}}} \\right) \\right]^N\n",
    "$$\n",
    "<br>\n",
    "$$\n",
    "    \\mathcal{F}[p] = \\lim_{N \\to \\infty} \\mathcal{F}[p_N] = \\lim_{N \\to \\infty} \\left[ 1 + \\frac{-2 \\pi^2 f^2}{N} + O\\left( \\frac{f^3}{N^{\\frac{3}{2}}} \\right) \\right]^N = e^{-2 \\pi^2 f^2}\n",
    "$$\n",
    "<br>\n",
    "$$\n",
    "    p(x) = \\mathcal{F}^{-1}[\\mathcal{F}[p]] = \\int_{-\\infty}^{\\infty} e^{-2 \\pi^2 f^2 +2 \\pi i f x} df = e^{- \\frac{1}{2} x^2} \\int_{-\\infty}^{\\infty} e^{ -2 \\pi^2 ( f -\\frac{i}{2 \\pi} x)^2 } df = e^{- \\frac{1}{2} x^2} \\int_{\\gamma} e^{-2 \\pi^2 z^2} dz\n",
    "$$\n",
    "<br>\n",
    "From here using properties of countor integrals we can simplify the integral into a easily solvable form.\n",
    "<br>\n",
    "$$\n",
    "    \\int_{\\gamma} e^{-2 \\pi^2 z^2} dz + \\int_{\\Gamma} e^{-2 \\pi^2 z^2} dz = 0 \\qquad \\Gamma: z = f, f: \\infty \\rightarrow - \\infty\n",
    "$$\n",
    "<br>\n",
    "![contour_drawing.png](attachment:7e94c67d-d732-42d6-992b-6793311e9616.png)\n",
    "<br>\n",
    "$$\n",
    "    p(x) = e^{- \\frac{1}{2} x^2} \\int_{-\\infty}^{\\infty} e^{-2 \\pi^2 f^2} df = \\frac{1}{\\sqrt{2\\pi}} e^{- \\frac{1}{2} x^2}\n",
    "$$"
   ]
  },
  {
   "cell_type": "code",
   "execution_count": 9,
   "id": "4f65fdb0",
   "metadata": {
    "execution": {
     "iopub.execute_input": "2023-08-15T14:01:16.484235Z",
     "iopub.status.busy": "2023-08-15T14:01:16.482781Z",
     "iopub.status.idle": "2023-08-15T14:01:16.945760Z",
     "shell.execute_reply": "2023-08-15T14:01:16.944383Z"
    },
    "papermill": {
     "duration": 0.475016,
     "end_time": "2023-08-15T14:01:16.949161",
     "exception": false,
     "start_time": "2023-08-15T14:01:16.474145",
     "status": "completed"
    },
    "tags": []
   },
   "outputs": [
    {
     "data": {
      "application/vnd.jupyter.widget-view+json": {
       "model_id": "8089a51c80914501a8c952c2680e8f62",
       "version_major": 2,
       "version_minor": 0
      },
      "text/plain": [
       "interactive(children=(IntSlider(value=2, description='N', min=1), Output()), _dom_classes=('widget-interact',)…"
      ]
     },
     "metadata": {},
     "output_type": "display_data"
    },
    {
     "data": {
      "text/plain": [
       "<function __main__.<lambda>(N)>"
      ]
     },
     "execution_count": 9,
     "metadata": {},
     "output_type": "execute_result"
    }
   ],
   "source": [
    "def fourier_plots(N, dist):\n",
    "    fig, ax = plt.subplots()\n",
    "    f = np.squeeze(normalized_dist.f)\n",
    "\n",
    "    F_p = normalized_dist.get_limit_fourier_transform()\n",
    "    F_p_N = normalized_dist.get_fourier_transform(N)\n",
    "    \n",
    "    sns.lineplot(x = f, y = F_p, ax = ax, label = 'Fourier Transform Limit', linewidth = 2, linestyle = 'dashed', color = 'g')\n",
    "    sns.lineplot(x = f, y = F_p_N, ax = ax, label = 'Fourier Transform', color = 'b')\n",
    "    plt.legend(loc='best')\n",
    "    plt.show()\n",
    "\n",
    "interact(lambda N: fourier_plots(N,dist), N = widgets.IntSlider(value = 2, min = 1, max = 100))"
   ]
  },
  {
   "cell_type": "code",
   "execution_count": 10,
   "id": "f6271643",
   "metadata": {
    "execution": {
     "iopub.execute_input": "2023-08-15T14:01:16.970492Z",
     "iopub.status.busy": "2023-08-15T14:01:16.969108Z",
     "iopub.status.idle": "2023-08-15T14:01:16.983736Z",
     "shell.execute_reply": "2023-08-15T14:01:16.982505Z"
    },
    "papermill": {
     "duration": 0.029191,
     "end_time": "2023-08-15T14:01:16.986908",
     "exception": false,
     "start_time": "2023-08-15T14:01:16.957717",
     "status": "completed"
    },
    "tags": []
   },
   "outputs": [],
   "source": [
    "df = 0.001\n",
    "def all_together(N,m,dist):\n",
    "    fig, axs = plt.subplots(nrows = 3)\n",
    "    \n",
    "    normalized_dist = NormalizedDistribution(dist.values,dist.p)\n",
    "    samples = dist.sample_from_distribution(int(m),int(N))\n",
    "    random_sum = np.sum(samples, axis = -1)\n",
    "            \n",
    "    f = np.squeeze(normalized_dist.f)\n",
    "    F_p_N = normalized_dist.get_fourier_transform(N)\n",
    "    \n",
    "    values_N = f*dist.get_std()*np.sqrt(N) + dist.get_mean()*N\n",
    "    p_N = np.exp(-((values_N-dist.get_mean()*N)**2)/(2*N*(dist.get_std())**2))/(np.sqrt(2*N*np.pi)*dist.get_std())\n",
    "    \n",
    "    sns.barplot(x = dist.values, y = dist.p, ax = axs[0], palette = 'pastel', label = 'Initial Distribution')\n",
    "    sns.lineplot(x = f, y = F_p_N, ax = axs[1], label = 'Normalized Fourier Transform')\n",
    "    sns.lineplot(x = values_N, y = p_N, ax = axs[2], label = 'Distribution', color = 'b')  \n",
    "    sns.histplot(random_sum, ax = axs[2], stat = 'density', color = 'lightblue', label = 'Sample Distribution')\n",
    "    plt.tight_layout()"
   ]
  },
  {
   "cell_type": "code",
   "execution_count": 11,
   "id": "74e21dd5",
   "metadata": {
    "execution": {
     "iopub.execute_input": "2023-08-15T14:01:17.005320Z",
     "iopub.status.busy": "2023-08-15T14:01:17.004452Z",
     "iopub.status.idle": "2023-08-15T14:01:18.152648Z",
     "shell.execute_reply": "2023-08-15T14:01:18.151342Z"
    },
    "papermill": {
     "duration": 1.161387,
     "end_time": "2023-08-15T14:01:18.156076",
     "exception": false,
     "start_time": "2023-08-15T14:01:16.994689",
     "status": "completed"
    },
    "tags": []
   },
   "outputs": [
    {
     "data": {
      "application/vnd.jupyter.widget-view+json": {
       "model_id": "9b3442addf4a4f859abf1f3e6d874d20",
       "version_major": 2,
       "version_minor": 0
      },
      "text/plain": [
       "interactive(children=(IntSlider(value=2, description='N', min=1), IntSlider(value=1000, description='m', max=5…"
      ]
     },
     "metadata": {},
     "output_type": "display_data"
    },
    {
     "data": {
      "text/plain": [
       "<function __main__.<lambda>(N, m)>"
      ]
     },
     "execution_count": 11,
     "metadata": {},
     "output_type": "execute_result"
    }
   ],
   "source": [
    "interact(lambda N,m: all_together(N,m, dist), \n",
    "        N = widgets.IntSlider(value = 2, min = 1, max = 100), \n",
    "    m = widgets.IntSlider(min = 50, max = 5000, value = m)\n",
    "        )"
   ]
  },
  {
   "cell_type": "code",
   "execution_count": null,
   "id": "1a835ad0",
   "metadata": {
    "papermill": {
     "duration": 0.00782,
     "end_time": "2023-08-15T14:01:18.173493",
     "exception": false,
     "start_time": "2023-08-15T14:01:18.165673",
     "status": "completed"
    },
    "tags": []
   },
   "outputs": [],
   "source": []
  },
  {
   "cell_type": "code",
   "execution_count": null,
   "id": "f25cfd7f",
   "metadata": {
    "papermill": {
     "duration": 0.007651,
     "end_time": "2023-08-15T14:01:18.189390",
     "exception": false,
     "start_time": "2023-08-15T14:01:18.181739",
     "status": "completed"
    },
    "tags": []
   },
   "outputs": [],
   "source": []
  }
 ],
 "metadata": {
  "kernelspec": {
   "display_name": "Python 3",
   "language": "python",
   "name": "python3"
  },
  "language_info": {
   "codemirror_mode": {
    "name": "ipython",
    "version": 3
   },
   "file_extension": ".py",
   "mimetype": "text/x-python",
   "name": "python",
   "nbconvert_exporter": "python",
   "pygments_lexer": "ipython3",
   "version": "3.10.12"
  },
  "papermill": {
   "default_parameters": {},
   "duration": 18.399397,
   "end_time": "2023-08-15T14:01:19.624635",
   "environment_variables": {},
   "exception": null,
   "input_path": "__notebook__.ipynb",
   "output_path": "__notebook__.ipynb",
   "parameters": {},
   "start_time": "2023-08-15T14:01:01.225238",
   "version": "2.4.0"
  },
  "widgets": {
   "application/vnd.jupyter.widget-state+json": {
    "state": {
     "03f1502c883e4919bc20dfd7ed62a5c8": {
      "model_module": "@jupyter-widgets/base",
      "model_module_version": "1.2.0",
      "model_name": "LayoutModel",
      "state": {
       "_model_module": "@jupyter-widgets/base",
       "_model_module_version": "1.2.0",
       "_model_name": "LayoutModel",
       "_view_count": null,
       "_view_module": "@jupyter-widgets/base",
       "_view_module_version": "1.2.0",
       "_view_name": "LayoutView",
       "align_content": null,
       "align_items": null,
       "align_self": null,
       "border": null,
       "bottom": null,
       "display": null,
       "flex": null,
       "flex_flow": null,
       "grid_area": null,
       "grid_auto_columns": null,
       "grid_auto_flow": null,
       "grid_auto_rows": null,
       "grid_column": null,
       "grid_gap": null,
       "grid_row": null,
       "grid_template_areas": null,
       "grid_template_columns": null,
       "grid_template_rows": null,
       "height": null,
       "justify_content": null,
       "justify_items": null,
       "left": null,
       "margin": null,
       "max_height": null,
       "max_width": null,
       "min_height": null,
       "min_width": null,
       "object_fit": null,
       "object_position": null,
       "order": null,
       "overflow": null,
       "overflow_x": null,
       "overflow_y": null,
       "padding": null,
       "right": null,
       "top": null,
       "visibility": null,
       "width": null
      }
     },
     "0a0dedab0c184458988e38063554ca61": {
      "model_module": "@jupyter-widgets/output",
      "model_module_version": "1.0.0",
      "model_name": "OutputModel",
      "state": {
       "_dom_classes": [],
       "_model_module": "@jupyter-widgets/output",
       "_model_module_version": "1.0.0",
       "_model_name": "OutputModel",
       "_view_count": null,
       "_view_module": "@jupyter-widgets/output",
       "_view_module_version": "1.0.0",
       "_view_name": "OutputView",
       "layout": "IPY_MODEL_ec92d3c10a1f48368a41132606fe5838",
       "msg_id": "",
       "outputs": [
        {
         "data": {
          "image/png": "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",
          "text/plain": "<Figure size 640x480 with 1 Axes>"
         },
         "metadata": {},
         "output_type": "display_data"
        }
       ]
      }
     },
     "243e8aee1fed4d999e17a9beb6b7f195": {
      "model_module": "@jupyter-widgets/base",
      "model_module_version": "1.2.0",
      "model_name": "LayoutModel",
      "state": {
       "_model_module": "@jupyter-widgets/base",
       "_model_module_version": "1.2.0",
       "_model_name": "LayoutModel",
       "_view_count": null,
       "_view_module": "@jupyter-widgets/base",
       "_view_module_version": "1.2.0",
       "_view_name": "LayoutView",
       "align_content": null,
       "align_items": null,
       "align_self": null,
       "border": null,
       "bottom": null,
       "display": null,
       "flex": null,
       "flex_flow": null,
       "grid_area": null,
       "grid_auto_columns": null,
       "grid_auto_flow": null,
       "grid_auto_rows": null,
       "grid_column": null,
       "grid_gap": null,
       "grid_row": null,
       "grid_template_areas": null,
       "grid_template_columns": null,
       "grid_template_rows": null,
       "height": null,
       "justify_content": null,
       "justify_items": null,
       "left": null,
       "margin": null,
       "max_height": null,
       "max_width": null,
       "min_height": null,
       "min_width": null,
       "object_fit": null,
       "object_position": null,
       "order": null,
       "overflow": null,
       "overflow_x": null,
       "overflow_y": null,
       "padding": null,
       "right": null,
       "top": null,
       "visibility": null,
       "width": null
      }
     },
     "3e31b170f6cb4ea38615ad3c08ac6d2f": {
      "model_module": "@jupyter-widgets/controls",
      "model_module_version": "1.5.0",
      "model_name": "SliderStyleModel",
      "state": {
       "_model_module": "@jupyter-widgets/controls",
       "_model_module_version": "1.5.0",
       "_model_name": "SliderStyleModel",
       "_view_count": null,
       "_view_module": "@jupyter-widgets/base",
       "_view_module_version": "1.2.0",
       "_view_name": "StyleView",
       "description_width": "",
       "handle_color": null
      }
     },
     "44aa51de6e10435bb550af8b759a65bf": {
      "model_module": "@jupyter-widgets/controls",
      "model_module_version": "1.5.0",
      "model_name": "IntSliderModel",
      "state": {
       "_dom_classes": [],
       "_model_module": "@jupyter-widgets/controls",
       "_model_module_version": "1.5.0",
       "_model_name": "IntSliderModel",
       "_view_count": null,
       "_view_module": "@jupyter-widgets/controls",
       "_view_module_version": "1.5.0",
       "_view_name": "IntSliderView",
       "continuous_update": true,
       "description": "m",
       "description_tooltip": null,
       "disabled": false,
       "layout": "IPY_MODEL_e9cd3c50363c4391a7ed4c9505fa34e1",
       "max": 5000,
       "min": 50,
       "orientation": "horizontal",
       "readout": true,
       "readout_format": "d",
       "step": 1,
       "style": "IPY_MODEL_c99d48f0aa14412daa1a702cbf26a2b7",
       "value": 1000
      }
     },
     "48df526ac9374c71bdc4d63f9cd01dbb": {
      "model_module": "@jupyter-widgets/base",
      "model_module_version": "1.2.0",
      "model_name": "LayoutModel",
      "state": {
       "_model_module": "@jupyter-widgets/base",
       "_model_module_version": "1.2.0",
       "_model_name": "LayoutModel",
       "_view_count": null,
       "_view_module": "@jupyter-widgets/base",
       "_view_module_version": "1.2.0",
       "_view_name": "LayoutView",
       "align_content": null,
       "align_items": null,
       "align_self": null,
       "border": null,
       "bottom": null,
       "display": null,
       "flex": null,
       "flex_flow": null,
       "grid_area": null,
       "grid_auto_columns": null,
       "grid_auto_flow": null,
       "grid_auto_rows": null,
       "grid_column": null,
       "grid_gap": null,
       "grid_row": null,
       "grid_template_areas": null,
       "grid_template_columns": null,
       "grid_template_rows": null,
       "height": null,
       "justify_content": null,
       "justify_items": null,
       "left": null,
       "margin": null,
       "max_height": null,
       "max_width": null,
       "min_height": null,
       "min_width": null,
       "object_fit": null,
       "object_position": null,
       "order": null,
       "overflow": null,
       "overflow_x": null,
       "overflow_y": null,
       "padding": null,
       "right": null,
       "top": null,
       "visibility": null,
       "width": null
      }
     },
     "53d868280baf4165a80fd256125caf9e": {
      "model_module": "@jupyter-widgets/base",
      "model_module_version": "1.2.0",
      "model_name": "LayoutModel",
      "state": {
       "_model_module": "@jupyter-widgets/base",
       "_model_module_version": "1.2.0",
       "_model_name": "LayoutModel",
       "_view_count": null,
       "_view_module": "@jupyter-widgets/base",
       "_view_module_version": "1.2.0",
       "_view_name": "LayoutView",
       "align_content": null,
       "align_items": null,
       "align_self": null,
       "border": null,
       "bottom": null,
       "display": null,
       "flex": null,
       "flex_flow": null,
       "grid_area": null,
       "grid_auto_columns": null,
       "grid_auto_flow": null,
       "grid_auto_rows": null,
       "grid_column": null,
       "grid_gap": null,
       "grid_row": null,
       "grid_template_areas": null,
       "grid_template_columns": null,
       "grid_template_rows": null,
       "height": null,
       "justify_content": null,
       "justify_items": null,
       "left": null,
       "margin": null,
       "max_height": null,
       "max_width": null,
       "min_height": null,
       "min_width": null,
       "object_fit": null,
       "object_position": null,
       "order": null,
       "overflow": null,
       "overflow_x": null,
       "overflow_y": null,
       "padding": null,
       "right": null,
       "top": null,
       "visibility": null,
       "width": null
      }
     },
     "5a852f949c0444a48923ba389dce9c19": {
      "model_module": "@jupyter-widgets/output",
      "model_module_version": "1.0.0",
      "model_name": "OutputModel",
      "state": {
       "_dom_classes": [],
       "_model_module": "@jupyter-widgets/output",
       "_model_module_version": "1.0.0",
       "_model_name": "OutputModel",
       "_view_count": null,
       "_view_module": "@jupyter-widgets/output",
       "_view_module_version": "1.0.0",
       "_view_name": "OutputView",
       "layout": "IPY_MODEL_d2bdf5d7accf47f1a38245f503124e8d",
       "msg_id": "",
       "outputs": [
        {
         "data": {
          "image/png": "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",
          "text/plain": "<Figure size 640x480 with 3 Axes>"
         },
         "metadata": {},
         "output_type": "display_data"
        }
       ]
      }
     },
     "5cc79f35ca5044d6ae295aa600560922": {
      "model_module": "@jupyter-widgets/controls",
      "model_module_version": "1.5.0",
      "model_name": "IntSliderModel",
      "state": {
       "_dom_classes": [],
       "_model_module": "@jupyter-widgets/controls",
       "_model_module_version": "1.5.0",
       "_model_name": "IntSliderModel",
       "_view_count": null,
       "_view_module": "@jupyter-widgets/controls",
       "_view_module_version": "1.5.0",
       "_view_name": "IntSliderView",
       "continuous_update": true,
       "description": "N",
       "description_tooltip": null,
       "disabled": false,
       "layout": "IPY_MODEL_03f1502c883e4919bc20dfd7ed62a5c8",
       "max": 100,
       "min": 1,
       "orientation": "horizontal",
       "readout": true,
       "readout_format": "d",
       "step": 1,
       "style": "IPY_MODEL_b3fa3a05ed6d441ba4542ed0bd0d8d31",
       "value": 2
      }
     },
     "61648952a6ec4d6bbdff9e271b1305dd": {
      "model_module": "@jupyter-widgets/controls",
      "model_module_version": "1.5.0",
      "model_name": "FloatLogSliderModel",
      "state": {
       "_dom_classes": [],
       "_model_module": "@jupyter-widgets/controls",
       "_model_module_version": "1.5.0",
       "_model_name": "FloatLogSliderModel",
       "_view_count": null,
       "_view_module": "@jupyter-widgets/controls",
       "_view_module_version": "1.5.0",
       "_view_name": "FloatLogSliderView",
       "base": 10.0,
       "continuous_update": true,
       "description": "m",
       "description_tooltip": null,
       "disabled": false,
       "layout": "IPY_MODEL_f4b604cf917044538c89f6e4cb0ee668",
       "max": 4.0,
       "min": 1.0,
       "orientation": "horizontal",
       "readout": true,
       "readout_format": ".3g",
       "step": 0.1,
       "style": "IPY_MODEL_745ee86e6ce44f1b86bbe664a1390967",
       "value": 1000.0
      }
     },
     "644b115f4a794be1bb43c9681ff8f394": {
      "model_module": "@jupyter-widgets/base",
      "model_module_version": "1.2.0",
      "model_name": "LayoutModel",
      "state": {
       "_model_module": "@jupyter-widgets/base",
       "_model_module_version": "1.2.0",
       "_model_name": "LayoutModel",
       "_view_count": null,
       "_view_module": "@jupyter-widgets/base",
       "_view_module_version": "1.2.0",
       "_view_name": "LayoutView",
       "align_content": null,
       "align_items": null,
       "align_self": null,
       "border": null,
       "bottom": null,
       "display": null,
       "flex": null,
       "flex_flow": null,
       "grid_area": null,
       "grid_auto_columns": null,
       "grid_auto_flow": null,
       "grid_auto_rows": null,
       "grid_column": null,
       "grid_gap": null,
       "grid_row": null,
       "grid_template_areas": null,
       "grid_template_columns": null,
       "grid_template_rows": null,
       "height": null,
       "justify_content": null,
       "justify_items": null,
       "left": null,
       "margin": null,
       "max_height": null,
       "max_width": null,
       "min_height": null,
       "min_width": null,
       "object_fit": null,
       "object_position": null,
       "order": null,
       "overflow": null,
       "overflow_x": null,
       "overflow_y": null,
       "padding": null,
       "right": null,
       "top": null,
       "visibility": null,
       "width": null
      }
     },
     "745ee86e6ce44f1b86bbe664a1390967": {
      "model_module": "@jupyter-widgets/controls",
      "model_module_version": "1.5.0",
      "model_name": "SliderStyleModel",
      "state": {
       "_model_module": "@jupyter-widgets/controls",
       "_model_module_version": "1.5.0",
       "_model_name": "SliderStyleModel",
       "_view_count": null,
       "_view_module": "@jupyter-widgets/base",
       "_view_module_version": "1.2.0",
       "_view_name": "StyleView",
       "description_width": "",
       "handle_color": null
      }
     },
     "8089a51c80914501a8c952c2680e8f62": {
      "model_module": "@jupyter-widgets/controls",
      "model_module_version": "1.5.0",
      "model_name": "VBoxModel",
      "state": {
       "_dom_classes": [
        "widget-interact"
       ],
       "_model_module": "@jupyter-widgets/controls",
       "_model_module_version": "1.5.0",
       "_model_name": "VBoxModel",
       "_view_count": null,
       "_view_module": "@jupyter-widgets/controls",
       "_view_module_version": "1.5.0",
       "_view_name": "VBoxView",
       "box_style": "",
       "children": [
        "IPY_MODEL_9c04564917b94ad9b8bf47226d34890b",
        "IPY_MODEL_9590042fd3f0491fbf138e4ffc3e84d8"
       ],
       "layout": "IPY_MODEL_caefe7b75f1d40319efb33212d91fac4"
      }
     },
     "8fda8221df68457f813050a736ddf560": {
      "model_module": "@jupyter-widgets/controls",
      "model_module_version": "1.5.0",
      "model_name": "SliderStyleModel",
      "state": {
       "_model_module": "@jupyter-widgets/controls",
       "_model_module_version": "1.5.0",
       "_model_name": "SliderStyleModel",
       "_view_count": null,
       "_view_module": "@jupyter-widgets/base",
       "_view_module_version": "1.2.0",
       "_view_name": "StyleView",
       "description_width": "",
       "handle_color": null
      }
     },
     "9590042fd3f0491fbf138e4ffc3e84d8": {
      "model_module": "@jupyter-widgets/output",
      "model_module_version": "1.0.0",
      "model_name": "OutputModel",
      "state": {
       "_dom_classes": [],
       "_model_module": "@jupyter-widgets/output",
       "_model_module_version": "1.0.0",
       "_model_name": "OutputModel",
       "_view_count": null,
       "_view_module": "@jupyter-widgets/output",
       "_view_module_version": "1.0.0",
       "_view_name": "OutputView",
       "layout": "IPY_MODEL_243e8aee1fed4d999e17a9beb6b7f195",
       "msg_id": "",
       "outputs": [
        {
         "data": {
          "image/png": "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",
          "text/plain": "<Figure size 640x480 with 1 Axes>"
         },
         "metadata": {},
         "output_type": "display_data"
        }
       ]
      }
     },
     "9b3442addf4a4f859abf1f3e6d874d20": {
      "model_module": "@jupyter-widgets/controls",
      "model_module_version": "1.5.0",
      "model_name": "VBoxModel",
      "state": {
       "_dom_classes": [
        "widget-interact"
       ],
       "_model_module": "@jupyter-widgets/controls",
       "_model_module_version": "1.5.0",
       "_model_name": "VBoxModel",
       "_view_count": null,
       "_view_module": "@jupyter-widgets/controls",
       "_view_module_version": "1.5.0",
       "_view_name": "VBoxView",
       "box_style": "",
       "children": [
        "IPY_MODEL_5cc79f35ca5044d6ae295aa600560922",
        "IPY_MODEL_44aa51de6e10435bb550af8b759a65bf",
        "IPY_MODEL_5a852f949c0444a48923ba389dce9c19"
       ],
       "layout": "IPY_MODEL_48df526ac9374c71bdc4d63f9cd01dbb"
      }
     },
     "9c04564917b94ad9b8bf47226d34890b": {
      "model_module": "@jupyter-widgets/controls",
      "model_module_version": "1.5.0",
      "model_name": "IntSliderModel",
      "state": {
       "_dom_classes": [],
       "_model_module": "@jupyter-widgets/controls",
       "_model_module_version": "1.5.0",
       "_model_name": "IntSliderModel",
       "_view_count": null,
       "_view_module": "@jupyter-widgets/controls",
       "_view_module_version": "1.5.0",
       "_view_name": "IntSliderView",
       "continuous_update": true,
       "description": "N",
       "description_tooltip": null,
       "disabled": false,
       "layout": "IPY_MODEL_d7a52d8ea6474ec29abbc9042f1c207b",
       "max": 100,
       "min": 1,
       "orientation": "horizontal",
       "readout": true,
       "readout_format": "d",
       "step": 1,
       "style": "IPY_MODEL_3e31b170f6cb4ea38615ad3c08ac6d2f",
       "value": 2
      }
     },
     "a616efabd14e45bfb05fec79adc49108": {
      "model_module": "@jupyter-widgets/controls",
      "model_module_version": "1.5.0",
      "model_name": "VBoxModel",
      "state": {
       "_dom_classes": [
        "widget-interact"
       ],
       "_model_module": "@jupyter-widgets/controls",
       "_model_module_version": "1.5.0",
       "_model_name": "VBoxModel",
       "_view_count": null,
       "_view_module": "@jupyter-widgets/controls",
       "_view_module_version": "1.5.0",
       "_view_name": "VBoxView",
       "box_style": "",
       "children": [
        "IPY_MODEL_e0c36d14392645c89c7240e605b44336",
        "IPY_MODEL_61648952a6ec4d6bbdff9e271b1305dd",
        "IPY_MODEL_0a0dedab0c184458988e38063554ca61"
       ],
       "layout": "IPY_MODEL_53d868280baf4165a80fd256125caf9e"
      }
     },
     "b3fa3a05ed6d441ba4542ed0bd0d8d31": {
      "model_module": "@jupyter-widgets/controls",
      "model_module_version": "1.5.0",
      "model_name": "SliderStyleModel",
      "state": {
       "_model_module": "@jupyter-widgets/controls",
       "_model_module_version": "1.5.0",
       "_model_name": "SliderStyleModel",
       "_view_count": null,
       "_view_module": "@jupyter-widgets/base",
       "_view_module_version": "1.2.0",
       "_view_name": "StyleView",
       "description_width": "",
       "handle_color": null
      }
     },
     "c99d48f0aa14412daa1a702cbf26a2b7": {
      "model_module": "@jupyter-widgets/controls",
      "model_module_version": "1.5.0",
      "model_name": "SliderStyleModel",
      "state": {
       "_model_module": "@jupyter-widgets/controls",
       "_model_module_version": "1.5.0",
       "_model_name": "SliderStyleModel",
       "_view_count": null,
       "_view_module": "@jupyter-widgets/base",
       "_view_module_version": "1.2.0",
       "_view_name": "StyleView",
       "description_width": "",
       "handle_color": null
      }
     },
     "caefe7b75f1d40319efb33212d91fac4": {
      "model_module": "@jupyter-widgets/base",
      "model_module_version": "1.2.0",
      "model_name": "LayoutModel",
      "state": {
       "_model_module": "@jupyter-widgets/base",
       "_model_module_version": "1.2.0",
       "_model_name": "LayoutModel",
       "_view_count": null,
       "_view_module": "@jupyter-widgets/base",
       "_view_module_version": "1.2.0",
       "_view_name": "LayoutView",
       "align_content": null,
       "align_items": null,
       "align_self": null,
       "border": null,
       "bottom": null,
       "display": null,
       "flex": null,
       "flex_flow": null,
       "grid_area": null,
       "grid_auto_columns": null,
       "grid_auto_flow": null,
       "grid_auto_rows": null,
       "grid_column": null,
       "grid_gap": null,
       "grid_row": null,
       "grid_template_areas": null,
       "grid_template_columns": null,
       "grid_template_rows": null,
       "height": null,
       "justify_content": null,
       "justify_items": null,
       "left": null,
       "margin": null,
       "max_height": null,
       "max_width": null,
       "min_height": null,
       "min_width": null,
       "object_fit": null,
       "object_position": null,
       "order": null,
       "overflow": null,
       "overflow_x": null,
       "overflow_y": null,
       "padding": null,
       "right": null,
       "top": null,
       "visibility": null,
       "width": null
      }
     },
     "d2bdf5d7accf47f1a38245f503124e8d": {
      "model_module": "@jupyter-widgets/base",
      "model_module_version": "1.2.0",
      "model_name": "LayoutModel",
      "state": {
       "_model_module": "@jupyter-widgets/base",
       "_model_module_version": "1.2.0",
       "_model_name": "LayoutModel",
       "_view_count": null,
       "_view_module": "@jupyter-widgets/base",
       "_view_module_version": "1.2.0",
       "_view_name": "LayoutView",
       "align_content": null,
       "align_items": null,
       "align_self": null,
       "border": null,
       "bottom": null,
       "display": null,
       "flex": null,
       "flex_flow": null,
       "grid_area": null,
       "grid_auto_columns": null,
       "grid_auto_flow": null,
       "grid_auto_rows": null,
       "grid_column": null,
       "grid_gap": null,
       "grid_row": null,
       "grid_template_areas": null,
       "grid_template_columns": null,
       "grid_template_rows": null,
       "height": null,
       "justify_content": null,
       "justify_items": null,
       "left": null,
       "margin": null,
       "max_height": null,
       "max_width": null,
       "min_height": null,
       "min_width": null,
       "object_fit": null,
       "object_position": null,
       "order": null,
       "overflow": null,
       "overflow_x": null,
       "overflow_y": null,
       "padding": null,
       "right": null,
       "top": null,
       "visibility": null,
       "width": null
      }
     },
     "d7a52d8ea6474ec29abbc9042f1c207b": {
      "model_module": "@jupyter-widgets/base",
      "model_module_version": "1.2.0",
      "model_name": "LayoutModel",
      "state": {
       "_model_module": "@jupyter-widgets/base",
       "_model_module_version": "1.2.0",
       "_model_name": "LayoutModel",
       "_view_count": null,
       "_view_module": "@jupyter-widgets/base",
       "_view_module_version": "1.2.0",
       "_view_name": "LayoutView",
       "align_content": null,
       "align_items": null,
       "align_self": null,
       "border": null,
       "bottom": null,
       "display": null,
       "flex": null,
       "flex_flow": null,
       "grid_area": null,
       "grid_auto_columns": null,
       "grid_auto_flow": null,
       "grid_auto_rows": null,
       "grid_column": null,
       "grid_gap": null,
       "grid_row": null,
       "grid_template_areas": null,
       "grid_template_columns": null,
       "grid_template_rows": null,
       "height": null,
       "justify_content": null,
       "justify_items": null,
       "left": null,
       "margin": null,
       "max_height": null,
       "max_width": null,
       "min_height": null,
       "min_width": null,
       "object_fit": null,
       "object_position": null,
       "order": null,
       "overflow": null,
       "overflow_x": null,
       "overflow_y": null,
       "padding": null,
       "right": null,
       "top": null,
       "visibility": null,
       "width": null
      }
     },
     "e0c36d14392645c89c7240e605b44336": {
      "model_module": "@jupyter-widgets/controls",
      "model_module_version": "1.5.0",
      "model_name": "FloatLogSliderModel",
      "state": {
       "_dom_classes": [],
       "_model_module": "@jupyter-widgets/controls",
       "_model_module_version": "1.5.0",
       "_model_name": "FloatLogSliderModel",
       "_view_count": null,
       "_view_module": "@jupyter-widgets/controls",
       "_view_module_version": "1.5.0",
       "_view_name": "FloatLogSliderView",
       "base": 10.0,
       "continuous_update": true,
       "description": "N",
       "description_tooltip": null,
       "disabled": false,
       "layout": "IPY_MODEL_644b115f4a794be1bb43c9681ff8f394",
       "max": 3.0,
       "min": 0.0,
       "orientation": "horizontal",
       "readout": true,
       "readout_format": ".3g",
       "step": 0.1,
       "style": "IPY_MODEL_8fda8221df68457f813050a736ddf560",
       "value": 1000.0
      }
     },
     "e9cd3c50363c4391a7ed4c9505fa34e1": {
      "model_module": "@jupyter-widgets/base",
      "model_module_version": "1.2.0",
      "model_name": "LayoutModel",
      "state": {
       "_model_module": "@jupyter-widgets/base",
       "_model_module_version": "1.2.0",
       "_model_name": "LayoutModel",
       "_view_count": null,
       "_view_module": "@jupyter-widgets/base",
       "_view_module_version": "1.2.0",
       "_view_name": "LayoutView",
       "align_content": null,
       "align_items": null,
       "align_self": null,
       "border": null,
       "bottom": null,
       "display": null,
       "flex": null,
       "flex_flow": null,
       "grid_area": null,
       "grid_auto_columns": null,
       "grid_auto_flow": null,
       "grid_auto_rows": null,
       "grid_column": null,
       "grid_gap": null,
       "grid_row": null,
       "grid_template_areas": null,
       "grid_template_columns": null,
       "grid_template_rows": null,
       "height": null,
       "justify_content": null,
       "justify_items": null,
       "left": null,
       "margin": null,
       "max_height": null,
       "max_width": null,
       "min_height": null,
       "min_width": null,
       "object_fit": null,
       "object_position": null,
       "order": null,
       "overflow": null,
       "overflow_x": null,
       "overflow_y": null,
       "padding": null,
       "right": null,
       "top": null,
       "visibility": null,
       "width": null
      }
     },
     "ec92d3c10a1f48368a41132606fe5838": {
      "model_module": "@jupyter-widgets/base",
      "model_module_version": "1.2.0",
      "model_name": "LayoutModel",
      "state": {
       "_model_module": "@jupyter-widgets/base",
       "_model_module_version": "1.2.0",
       "_model_name": "LayoutModel",
       "_view_count": null,
       "_view_module": "@jupyter-widgets/base",
       "_view_module_version": "1.2.0",
       "_view_name": "LayoutView",
       "align_content": null,
       "align_items": null,
       "align_self": null,
       "border": null,
       "bottom": null,
       "display": null,
       "flex": null,
       "flex_flow": null,
       "grid_area": null,
       "grid_auto_columns": null,
       "grid_auto_flow": null,
       "grid_auto_rows": null,
       "grid_column": null,
       "grid_gap": null,
       "grid_row": null,
       "grid_template_areas": null,
       "grid_template_columns": null,
       "grid_template_rows": null,
       "height": null,
       "justify_content": null,
       "justify_items": null,
       "left": null,
       "margin": null,
       "max_height": null,
       "max_width": null,
       "min_height": null,
       "min_width": null,
       "object_fit": null,
       "object_position": null,
       "order": null,
       "overflow": null,
       "overflow_x": null,
       "overflow_y": null,
       "padding": null,
       "right": null,
       "top": null,
       "visibility": null,
       "width": null
      }
     },
     "f4b604cf917044538c89f6e4cb0ee668": {
      "model_module": "@jupyter-widgets/base",
      "model_module_version": "1.2.0",
      "model_name": "LayoutModel",
      "state": {
       "_model_module": "@jupyter-widgets/base",
       "_model_module_version": "1.2.0",
       "_model_name": "LayoutModel",
       "_view_count": null,
       "_view_module": "@jupyter-widgets/base",
       "_view_module_version": "1.2.0",
       "_view_name": "LayoutView",
       "align_content": null,
       "align_items": null,
       "align_self": null,
       "border": null,
       "bottom": null,
       "display": null,
       "flex": null,
       "flex_flow": null,
       "grid_area": null,
       "grid_auto_columns": null,
       "grid_auto_flow": null,
       "grid_auto_rows": null,
       "grid_column": null,
       "grid_gap": null,
       "grid_row": null,
       "grid_template_areas": null,
       "grid_template_columns": null,
       "grid_template_rows": null,
       "height": null,
       "justify_content": null,
       "justify_items": null,
       "left": null,
       "margin": null,
       "max_height": null,
       "max_width": null,
       "min_height": null,
       "min_width": null,
       "object_fit": null,
       "object_position": null,
       "order": null,
       "overflow": null,
       "overflow_x": null,
       "overflow_y": null,
       "padding": null,
       "right": null,
       "top": null,
       "visibility": null,
       "width": null
      }
     }
    },
    "version_major": 2,
    "version_minor": 0
   }
  }
 },
 "nbformat": 4,
 "nbformat_minor": 5
}
