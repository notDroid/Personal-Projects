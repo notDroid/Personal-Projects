{
 "cells": [
  {
   "cell_type": "code",
   "execution_count": 1,
   "id": "4ad48e54",
   "metadata": {
    "_cell_guid": "b1076dfc-b9ad-4769-8c92-a6c4dae69d19",
    "_uuid": "8f2839f25d086af736a60e9eeb907d3b93b6e0e5",
    "execution": {
     "iopub.execute_input": "2023-08-16T01:27:58.630893Z",
     "iopub.status.busy": "2023-08-16T01:27:58.630550Z",
     "iopub.status.idle": "2023-08-16T01:27:59.788816Z",
     "shell.execute_reply": "2023-08-16T01:27:59.787923Z"
    },
    "papermill": {
     "duration": 1.165836,
     "end_time": "2023-08-16T01:27:59.790951",
     "exception": false,
     "start_time": "2023-08-16T01:27:58.625115",
     "status": "completed"
    },
    "tags": []
   },
   "outputs": [
    {
     "name": "stderr",
     "output_type": "stream",
     "text": [
      "/opt/conda/lib/python3.10/site-packages/scipy/__init__.py:146: UserWarning: A NumPy version >=1.16.5 and <1.23.0 is required for this version of SciPy (detected version 1.23.5\n",
      "  warnings.warn(f\"A NumPy version >={np_minversion} and <{np_maxversion}\"\n"
     ]
    }
   ],
   "source": [
    "# This Python 3 environment comes with many helpful analytics libraries installed\n",
    "# It is defined by the kaggle/python Docker image: https://github.com/kaggle/docker-python\n",
    "# For example, here's several helpful packages to load\n",
    "\n",
    "import numpy as np # linear algebra\n",
    "import pandas as pd # data processing, CSV file I/O (e.g. pd.read_csv)\n",
    "import matplotlib.pyplot as plt\n",
    "import seaborn as sns\n",
    "from ipywidgets import interact\n",
    "import ipywidgets as widgets\n",
    "# Input data files are available in the read-only \"../input/\" directory\n",
    "# For example, running this (by clicking run or pressing Shift+Enter) will list all files under the input directory\n",
    "\n",
    "import os\n",
    "for dirname, _, filenames in os.walk('/kaggle/input'):\n",
    "    for filename in filenames:\n",
    "        print(os.path.join(dirname, filename))\n",
    "\n",
    "# You can write up to 20GB to the current directory (/kaggle/working/) that gets preserved as output when you create a version using \"Save & Run All\" \n",
    "# You can also write temporary files to /kaggle/temp/, but they won't be saved outside of the current session"
   ]
  },
  {
   "cell_type": "markdown",
   "id": "0171e6ae",
   "metadata": {
    "papermill": {
     "duration": 0.00321,
     "end_time": "2023-08-16T01:27:59.798052",
     "exception": false,
     "start_time": "2023-08-16T01:27:59.794842",
     "status": "completed"
    },
    "tags": []
   },
   "source": [
    "## Sample from distribution and sum results\n",
    "Choose and visualize a distribution to draw from, including continous distributions. "
   ]
  },
  {
   "cell_type": "code",
   "execution_count": 2,
   "id": "804c92e3",
   "metadata": {
    "execution": {
     "iopub.execute_input": "2023-08-16T01:27:59.806131Z",
     "iopub.status.busy": "2023-08-16T01:27:59.805573Z",
     "iopub.status.idle": "2023-08-16T01:27:59.810765Z",
     "shell.execute_reply": "2023-08-16T01:27:59.809707Z"
    },
    "papermill": {
     "duration": 0.011616,
     "end_time": "2023-08-16T01:27:59.813043",
     "exception": false,
     "start_time": "2023-08-16T01:27:59.801427",
     "status": "completed"
    },
    "tags": []
   },
   "outputs": [],
   "source": [
    "#default values\n",
    "N = 1000\n",
    "m = 1000\n",
    "\n",
    "#can be changed into a valid probabilty-value pair\n",
    "#E = 3\n",
    "#values = np.arange(E)\n",
    "#p = np.ones(E)/E\n",
    "values = np.arange(5)\n",
    "p = np.array([0.4,0.2,0.1,0.2,0.1])"
   ]
  },
  {
   "cell_type": "code",
   "execution_count": 3,
   "id": "b8aa447c",
   "metadata": {
    "execution": {
     "iopub.execute_input": "2023-08-16T01:27:59.822320Z",
     "iopub.status.busy": "2023-08-16T01:27:59.822005Z",
     "iopub.status.idle": "2023-08-16T01:27:59.831507Z",
     "shell.execute_reply": "2023-08-16T01:27:59.830337Z"
    },
    "papermill": {
     "duration": 0.016403,
     "end_time": "2023-08-16T01:27:59.833809",
     "exception": false,
     "start_time": "2023-08-16T01:27:59.817406",
     "status": "completed"
    },
    "tags": []
   },
   "outputs": [],
   "source": [
    "class Distribution():\n",
    "    def __init__(self, values, p, df = 0.01, range_ = 3.2):\n",
    "        self.p = p\n",
    "        self.values = values\n",
    "        self.f = np.arange(-range_,range_,df).reshape((-1,1))\n",
    "\n",
    "    def sample_from_distribution(self,m,N):\n",
    "        distribution = np.random.choice(self.values, (m,N), p = self.p)\n",
    "        return distribution\n",
    "    \n",
    "    def get_mean(self):\n",
    "        return np.dot(self.values,self.p)\n",
    "    \n",
    "    def get_std(self):\n",
    "        return np.sqrt(np.dot((self.values - self.get_mean())**2,self.p))\n",
    "    \n",
    "    def plot_samples(self,N,m):\n",
    "        samples = self.sample_from_distribution(int(m),int(N))\n",
    "        random_sum = np.sum(samples, axis = -1)\n",
    "            \n",
    "        sns.histplot(random_sum, kde = True)\n",
    "    \n",
    "    def plot_distribution(self):        \n",
    "        plt.bar(self.values, self.p, width = (self.values[1] - self.values[0]) * 0.95)\n",
    "        plt.show()  \n",
    "        \n",
    "    def get_limit_fourier_transform(self):\n",
    "        F_p = np.exp(-2*(np.pi**2)*(self.f**2))\n",
    "        return np.squeeze(F_p)\n",
    "\n",
    "    def get_fourier_transform(self,N):\n",
    "        p = self.p.reshape(-1,1)\n",
    "        values = self.values.reshape(1,-1)\n",
    "        f_hat = np.dot(np.cos(2*np.pi*values*self.f/np.sqrt(N)),p)\n",
    "        return np.squeeze(f_hat**N)"
   ]
  },
  {
   "cell_type": "code",
   "execution_count": 4,
   "id": "17d36c31",
   "metadata": {
    "execution": {
     "iopub.execute_input": "2023-08-16T01:27:59.843000Z",
     "iopub.status.busy": "2023-08-16T01:27:59.842669Z",
     "iopub.status.idle": "2023-08-16T01:28:00.107867Z",
     "shell.execute_reply": "2023-08-16T01:28:00.106987Z"
    },
    "papermill": {
     "duration": 0.27172,
     "end_time": "2023-08-16T01:28:00.109619",
     "exception": false,
     "start_time": "2023-08-16T01:27:59.837899",
     "status": "completed"
    },
    "tags": []
   },
   "outputs": [
    {
     "data": {
      "image/png": "[encoded data removed]",
      "text/plain": [
       "<Figure size 640x480 with 1 Axes>"
      ]
     },
     "metadata": {},
     "output_type": "display_data"
    }
   ],
   "source": [
    "sns.set(style = 'darkgrid', context = 'notebook', palette = 'Paired')\n",
    "dist = Distribution(values,p)\n",
    "\n",
    "dist.plot_distribution()"
   ]
  },
  {
   "cell_type": "code",
   "execution_count": 5,
   "id": "ebe0fbc0",
   "metadata": {
    "execution": {
     "iopub.execute_input": "2023-08-16T01:28:00.119219Z",
     "iopub.status.busy": "2023-08-16T01:28:00.118603Z",
     "iopub.status.idle": "2023-08-16T01:28:00.124338Z",
     "shell.execute_reply": "2023-08-16T01:28:00.123225Z"
    },
    "papermill": {
     "duration": 0.013186,
     "end_time": "2023-08-16T01:28:00.126780",
     "exception": false,
     "start_time": "2023-08-16T01:28:00.113594",
     "status": "completed"
    },
    "tags": []
   },
   "outputs": [],
   "source": [
    "sns.set(palette = 'Dark2')\n",
    "def interactive_plot_samples(N,m,dist):\n",
    "    fig, ax = plt.subplots()\n",
    "    dist.plot_samples(N,m)"
   ]
  },
  {
   "cell_type": "code",
   "execution_count": 6,
   "id": "0a50ca23",
   "metadata": {
    "execution": {
     "iopub.execute_input": "2023-08-16T01:28:00.136040Z",
     "iopub.status.busy": "2023-08-16T01:28:00.135645Z",
     "iopub.status.idle": "2023-08-16T01:28:00.504092Z",
     "shell.execute_reply": "2023-08-16T01:28:00.502921Z"
    },
    "papermill": {
     "duration": 0.375555,
     "end_time": "2023-08-16T01:28:00.506385",
     "exception": false,
     "start_time": "2023-08-16T01:28:00.130830",
     "status": "completed"
    },
    "tags": []
   },
   "outputs": [
    {
     "data": {
      "application/vnd.jupyter.widget-view+json": {
       "model_id": "0dfe411eb85b4322ab01201f3272b55f",
       "version_major": 2,
       "version_minor": 0
      },
      "text/plain": [
       "interactive(children=(FloatLogSlider(value=1000.0, description='N', max=3.0), FloatLogSlider(value=1000.0, des…"
      ]
     },
     "metadata": {},
     "output_type": "display_data"
    },
    {
     "data": {
      "text/plain": [
       "<function __main__.<lambda>(N, m)>"
      ]
     },
     "execution_count": 6,
     "metadata": {},
     "output_type": "execute_result"
    }
   ],
   "source": [
    "interact(\n",
    "    lambda N,m: interactive_plot_samples(N,m,dist), \n",
    "    N = widgets.FloatLogSlider(base = 10, min = np.log10(1), max = 3, value = N), \n",
    "    m = widgets.FloatLogSlider(base = 10, min = 1, max = 4, value = m)\n",
    ")"
   ]
  },
  {
   "cell_type": "markdown",
   "id": "fd68d3e2",
   "metadata": {
    "papermill": {
     "duration": 0.003946,
     "end_time": "2023-08-16T01:28:00.515222",
     "exception": false,
     "start_time": "2023-08-16T01:28:00.511276",
     "status": "completed"
    },
    "tags": []
   },
   "source": [
    "## Normalize Distribution"
   ]
  },
  {
   "cell_type": "code",
   "execution_count": 7,
   "id": "badd73c2",
   "metadata": {
    "execution": {
     "iopub.execute_input": "2023-08-16T01:28:00.525111Z",
     "iopub.status.busy": "2023-08-16T01:28:00.524778Z",
     "iopub.status.idle": "2023-08-16T01:28:00.530642Z",
     "shell.execute_reply": "2023-08-16T01:28:00.529769Z"
    },
    "papermill": {
     "duration": 0.013174,
     "end_time": "2023-08-16T01:28:00.532503",
     "exception": false,
     "start_time": "2023-08-16T01:28:00.519329",
     "status": "completed"
    },
    "tags": []
   },
   "outputs": [],
   "source": [
    "class NormalizedDistribution(Distribution):\n",
    "    def __init__(self, values, p, df = 0.01):\n",
    "        super().__init__(values, p, df)\n",
    "        self.p = p\n",
    "        self.values = self.normalize(values, p)\n",
    "        \n",
    "    def normalize(self, values, p):\n",
    "        mean = self.get_mean()\n",
    "        std = self.get_std()\n",
    "    \n",
    "        values_norm = (values - mean)/std\n",
    "    \n",
    "        return values_norm"
   ]
  },
  {
   "cell_type": "code",
   "execution_count": 8,
   "id": "74d7615a",
   "metadata": {
    "execution": {
     "iopub.execute_input": "2023-08-16T01:28:00.542319Z",
     "iopub.status.busy": "2023-08-16T01:28:00.542046Z",
     "iopub.status.idle": "2023-08-16T01:28:00.790946Z",
     "shell.execute_reply": "2023-08-16T01:28:00.789902Z"
    },
    "papermill": {
     "duration": 0.256492,
     "end_time": "2023-08-16T01:28:00.793354",
     "exception": false,
     "start_time": "2023-08-16T01:28:00.536862",
     "status": "completed"
    },
    "tags": []
   },
   "outputs": [
    {
     "data": {
      "image/png": "[encoded data removed]",
      "text/plain": [
       "<Figure size 640x480 with 1 Axes>"
      ]
     },
     "metadata": {},
     "output_type": "display_data"
    }
   ],
   "source": [
    "normalized_dist = NormalizedDistribution(values,p)\n",
    "\n",
    "normalized_dist.plot_distribution()"
   ]
  },
  {
   "attachments": {
    "7e94c67d-d732-42d6-992b-6793311e9616.png": {
     "image/png": "[encoded data removed]"
    }
   },
   "cell_type": "markdown",
   "id": "03124e96",
   "metadata": {
    "papermill": {
     "duration": 0.005145,
     "end_time": "2023-08-16T01:28:00.803169",
     "exception": false,
     "start_time": "2023-08-16T01:28:00.798024",
     "status": "completed"
    },
    "tags": []
   },
   "source": [
    "## Using The Fourier Transform Convolution Property\n",
    "For a sum of random variables to converge it must satisfy have finite mean, variance, and skewness. Then it can be converted to the following: \n",
    "<br>\n",
    "$$\n",
    "    \\int_{-\\infty}^{\\infty} p_{1}(x) dx = 1 \\qquad \\int_{-\\infty}^{\\infty} x p_{1}(x) dx = 0 \\qquad \\int_{-\\infty}^{\\infty} x^2 p_{1}(x) dx = 1 \\qquad \\left| \\int_{-\\infty}^{\\infty} x^3 p_{1} (x) dx \\right| < \\infty \\iff \\int_{-\\infty}^{\\infty} |x|^3 p_{1} (x) dx < \\infty\n",
    "$$\n",
    "<br>\n",
    "$$\n",
    "    P(X + Y = x) = [ p_{X} \\ast p_{Y} ] (x) \\qquad Var(X+Y) = Var(X) + Var(Y)\n",
    "$$\n",
    "<br>\n",
    "$$\n",
    "    P_{N} = (P(X_{1} + X_{2} + \\cdots + X_{N}) = [p_{1}*\\cdots*p_{N}](x) \\qquad Var(X_{1} + X_{2} + \\cdots + X_{N}) = N\n",
    "$$\n",
    "<br>\n",
    "Because the probabilty is broken down into convolutions its a good idea to apply the fourier transform to simplify the expression.\n",
    "<br>\n",
    "$$\n",
    "    \\mathcal{F}[P_{N}] = (\\mathcal{F}[p_{1}])^N \\qquad \\mathcal{F}[p_{1}] = \\hat{f}(f) = \\hat{f}(0) + \\hat{f}'(0) f + \\frac{1}{2} \\hat{f}''(0) f^2 + \\big| \\hat{f}^{(3)} \\big| O(f^3)\n",
    "$$\n",
    "<br>\n",
    "We can get information about $\\hat{f}$ from its taylor expansion because it represents the moments of the distribution.\n",
    "<br>\n",
    "$$\n",
    "    \\hat{f}(0) = \\int_{-\\infty}^{\\infty} p_{1}(x) dx = 1 \\qquad \\hat{f}'(0) = -2\\pi i \\int_{-\\infty}^{\\infty} x p_{1}(x) dx = 0 \\qquad \\hat{f}''(0) = -4\\pi^2 \\int_{-\\infty}^{\\infty} x^2 p_{1}(x) dx = -4 \\pi^2  \\qquad \\big| \\hat{f}^{(3)} \\big| <= \\int_{-\\infty}^{\\infty} |x|^3 p_{1} (x) dx\n",
    "$$\n",
    "<br>\n",
    "$$\n",
    "    \\hat{f}(f) = \\left[ 1 - 2 \\pi^2 f^2 + O(f^3) \\right]^N \\qquad p_N = Normalize(P_N) = \\sqrt{N} P_N(\\sqrt{N} x)\n",
    "$$\n",
    "<br>\n",
    "$$\n",
    "    \\mathcal{F}[p_N] = \\mathcal{F}[\\sqrt{N}P_N(\\sqrt{N} x)] = \\hat{f}(\\frac{f}{\\sqrt{N}}) = \\left[ 1 + \\frac{-2 \\pi^2 f^2}{N} + O\\left( \\frac{f^3}{N^{\\frac{3}{2}}} \\right) \\right]^N\n",
    "$$\n",
    "<br>\n",
    "$$\n",
    "    \\mathcal{F}[p] = \\lim_{N \\to \\infty} \\mathcal{F}[p_N] = \\lim_{N \\to \\infty} \\left[ 1 + \\frac{-2 \\pi^2 f^2}{N} + O\\left( \\frac{f^3}{N^{\\frac{3}{2}}} \\right) \\right]^N = e^{-2 \\pi^2 f^2}\n",
    "$$\n",
    "<br>\n",
    "$$\n",
    "    p(x) = \\mathcal{F}^{-1}[\\mathcal{F}[p]] = \\int_{-\\infty}^{\\infty} e^{-2 \\pi^2 f^2 +2 \\pi i f x} df = e^{- \\frac{1}{2} x^2} \\int_{-\\infty}^{\\infty} e^{ -2 \\pi^2 ( f -\\frac{i}{2 \\pi} x)^2 } df = e^{- \\frac{1}{2} x^2} \\int_{\\gamma} e^{-2 \\pi^2 z^2} dz\n",
    "$$\n",
    "<br>\n",
    "From here using properties of countor integrals we can simplify the integral into a easily solvable form.\n",
    "<br>\n",
    "$$\n",
    "    \\int_{\\gamma} e^{-2 \\pi^2 z^2} dz + \\int_{\\Gamma} e^{-2 \\pi^2 z^2} dz = 0 \\qquad \\Gamma: z = f, f: \\infty \\rightarrow - \\infty\n",
    "$$\n",
    "<br>\n",
    "![contour_drawing.png](attachment:7e94c67d-d732-42d6-992b-6793311e9616.png)\n",
    "<br>\n",
    "$$\n",
    "    p(x) = e^{- \\frac{1}{2} x^2} \\int_{-\\infty}^{\\infty} e^{-2 \\pi^2 f^2} df = \\frac{1}{\\sqrt{2\\pi}} e^{- \\frac{1}{2} x^2}\n",
    "$$"
   ]
  },
  {
   "cell_type": "code",
   "execution_count": 9,
   "id": "88ef5a90",
   "metadata": {
    "execution": {
     "iopub.execute_input": "2023-08-16T01:28:00.812996Z",
     "iopub.status.busy": "2023-08-16T01:28:00.812606Z",
     "iopub.status.idle": "2023-08-16T01:28:01.152689Z",
     "shell.execute_reply": "2023-08-16T01:28:01.151797Z"
    },
    "papermill": {
     "duration": 0.347377,
     "end_time": "2023-08-16T01:28:01.154650",
     "exception": false,
     "start_time": "2023-08-16T01:28:00.807273",
     "status": "completed"
    },
    "tags": []
   },
   "outputs": [
    {
     "data": {
      "application/vnd.jupyter.widget-view+json": {
       "model_id": "cb456e1ef7c74de5a9b48fdc46ba35aa",
       "version_major": 2,
       "version_minor": 0
      },
      "text/plain": [
       "interactive(children=(IntSlider(value=2, description='N', min=1), Output()), _dom_classes=('widget-interact',)…"
      ]
     },
     "metadata": {},
     "output_type": "display_data"
    },
    {
     "data": {
      "text/plain": [
       "<function __main__.<lambda>(N)>"
      ]
     },
     "execution_count": 9,
     "metadata": {},
     "output_type": "execute_result"
    }
   ],
   "source": [
    "def fourier_plots(N, dist):\n",
    "    fig, ax = plt.subplots()\n",
    "    f = np.squeeze(normalized_dist.f)\n",
    "\n",
    "    F_p = normalized_dist.get_limit_fourier_transform()\n",
    "    F_p_N = normalized_dist.get_fourier_transform(N)\n",
    "    \n",
    "    sns.lineplot(x = f, y = F_p, ax = ax, label = 'Fourier Transform Limit', linewidth = 2, linestyle = 'dashed', color = 'g')\n",
    "    sns.lineplot(x = f, y = F_p_N, ax = ax, label = 'Fourier Transform', color = 'b')\n",
    "    plt.legend(loc='best')\n",
    "    plt.show()\n",
    "\n",
    "interact(lambda N: fourier_plots(N,dist), N = widgets.IntSlider(value = 2, min = 1, max = 100))"
   ]
  },
  {
   "cell_type": "code",
   "execution_count": 10,
   "id": "b46967f1",
   "metadata": {
    "execution": {
     "iopub.execute_input": "2023-08-16T01:28:01.165842Z",
     "iopub.status.busy": "2023-08-16T01:28:01.164886Z",
     "iopub.status.idle": "2023-08-16T01:28:01.173539Z",
     "shell.execute_reply": "2023-08-16T01:28:01.172676Z"
    },
    "papermill": {
     "duration": 0.015964,
     "end_time": "2023-08-16T01:28:01.175648",
     "exception": false,
     "start_time": "2023-08-16T01:28:01.159684",
     "status": "completed"
    },
    "tags": []
   },
   "outputs": [],
   "source": [
    "df = 0.001\n",
    "def all_together(N,m,dist):\n",
    "    fig, axs = plt.subplots(nrows = 3)\n",
    "    \n",
    "    normalized_dist = NormalizedDistribution(dist.values,dist.p)\n",
    "    samples = dist.sample_from_distribution(int(m),int(N))\n",
    "    random_sum = np.sum(samples, axis = -1)\n",
    "            \n",
    "    f = np.squeeze(normalized_dist.f)\n",
    "    F_p_N = normalized_dist.get_fourier_transform(N)\n",
    "    \n",
    "    values_N = f*dist.get_std()*np.sqrt(N) + dist.get_mean()*N\n",
    "    p_N = np.exp(-((values_N-dist.get_mean()*N)**2)/(2*N*(dist.get_std())**2))/(np.sqrt(2*N*np.pi)*dist.get_std())\n",
    "    \n",
    "    sns.barplot(x = dist.values, y = dist.p, ax = axs[0], palette = 'pastel', label = 'Initial Distribution')\n",
    "    sns.lineplot(x = f, y = F_p_N, ax = axs[1], label = 'Normalized Fourier Transform')\n",
    "    sns.lineplot(x = values_N, y = p_N, ax = axs[2], label = 'Distribution', color = 'b')  \n",
    "    sns.histplot(random_sum, ax = axs[2], stat = 'density', color = 'lightblue', label = 'Sample Distribution')\n",
    "    plt.tight_layout()"
   ]
  },
  {
   "cell_type": "code",
   "execution_count": 11,
   "id": "b4311dd8",
   "metadata": {
    "execution": {
     "iopub.execute_input": "2023-08-16T01:28:01.186544Z",
     "iopub.status.busy": "2023-08-16T01:28:01.186164Z",
     "iopub.status.idle": "2023-08-16T01:28:01.945046Z",
     "shell.execute_reply": "2023-08-16T01:28:01.943967Z"
    },
    "papermill": {
     "duration": 0.766762,
     "end_time": "2023-08-16T01:28:01.947262",
     "exception": false,
     "start_time": "2023-08-16T01:28:01.180500",
     "status": "completed"
    },
    "tags": []
   },
   "outputs": [
    {
     "data": {
      "application/vnd.jupyter.widget-view+json": {
       "model_id": "9250e40d25024a4784450e547e557f2f",
       "version_major": 2,
       "version_minor": 0
      },
      "text/plain": [
       "interactive(children=(IntSlider(value=2, description='N', min=1), IntSlider(value=1000, description='m', max=5…"
      ]
     },
     "metadata": {},
     "output_type": "display_data"
    },
    {
     "data": {
      "text/plain": [
       "<function __main__.<lambda>(N, m)>"
      ]
     },
     "execution_count": 11,
     "metadata": {},
     "output_type": "execute_result"
    }
   ],
   "source": [
    "interact(lambda N,m: all_together(N,m, dist), \n",
    "        N = widgets.IntSlider(value = 2, min = 1, max = 100), \n",
    "    m = widgets.IntSlider(min = 50, max = 5000, value = m)\n",
    "        )"
   ]
  }
 ],
 "metadata": {
  "kernelspec": {
   "display_name": "Python 3",
   "language": "python",
   "name": "python3"
  },
  "language_info": {
   "codemirror_mode": {
    "name": "ipython",
    "version": 3
   },
   "file_extension": ".py",
   "mimetype": "text/x-python",
   "name": "python",
   "nbconvert_exporter": "python",
   "pygments_lexer": "ipython3",
   "version": "3.10.12"
  },
  "papermill": {
   "default_parameters": {},
   "duration": 11.744802,
   "end_time": "2023-08-16T01:28:02.772906",
   "environment_variables": {},
   "exception": null,
   "input_path": "__notebook__.ipynb",
   "output_path": "__notebook__.ipynb",
   "parameters": {},
   "start_time": "2023-08-16T01:27:51.028104",
   "version": "2.4.0"
  },
  "widgets": {
   "application/vnd.jupyter.widget-state+json": {
    "state": {
     "0dcdeb85d8a940f2aa87329e028f42a1": {
      "model_module": "@jupyter-widgets/output",
      "model_module_version": "1.0.0",
      "model_name": "OutputModel",
      "state": {
       "_dom_classes": [],
       "_model_module": "@jupyter-widgets/output",
       "_model_module_version": "1.0.0",
       "_model_name": "OutputModel",
       "_view_count": null,
       "_view_module": "@jupyter-widgets/output",
       "_view_module_version": "1.0.0",
       "_view_name": "OutputView",
       "layout": "IPY_MODEL_6798c5198c9a46118d27e63e2d3fe64c",
       "msg_id": "",
       "outputs": [
        {
         "data": {
          "image/png": "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",
          "text/plain": "<Figure size 640x480 with 1 Axes>"
         },
         "metadata": {},
         "output_type": "display_data"
        }
       ]
      }
     },
     "0dfe411eb85b4322ab01201f3272b55f": {
      "model_module": "@jupyter-widgets/controls",
      "model_module_version": "1.5.0",
      "model_name": "VBoxModel",
      "state": {
       "_dom_classes": [
        "widget-interact"
       ],
       "_model_module": "@jupyter-widgets/controls",
       "_model_module_version": "1.5.0",
       "_model_name": "VBoxModel",
       "_view_count": null,
       "_view_module": "@jupyter-widgets/controls",
       "_view_module_version": "1.5.0",
       "_view_name": "VBoxView",
       "box_style": "",
       "children": [
        "IPY_MODEL_b4db182ef5e04983a752556479b67e5a",
        "IPY_MODEL_886c07f8f1f54831b43c0d89042eff77",
        "IPY_MODEL_f1cc1fa2241f479c809d9c5d22eb89c0"
       ],
       "layout": "IPY_MODEL_5e5f41fc4b9b4a1083963e3964b33f43"
      }
     },
     "104f60ab33fc4b5eb304bc73af1a19ae": {
      "model_module": "@jupyter-widgets/base",
      "model_module_version": "1.2.0",
      "model_name": "LayoutModel",
      "state": {
       "_model_module": "@jupyter-widgets/base",
       "_model_module_version": "1.2.0",
       "_model_name": "LayoutModel",
       "_view_count": null,
       "_view_module": "@jupyter-widgets/base",
       "_view_module_version": "1.2.0",
       "_view_name": "LayoutView",
       "align_content": null,
       "align_items": null,
       "align_self": null,
       "border": null,
       "bottom": null,
       "display": null,
       "flex": null,
       "flex_flow": null,
       "grid_area": null,
       "grid_auto_columns": null,
       "grid_auto_flow": null,
       "grid_auto_rows": null,
       "grid_column": null,
       "grid_gap": null,
       "grid_row": null,
       "grid_template_areas": null,
       "grid_template_columns": null,
       "grid_template_rows": null,
       "height": null,
       "justify_content": null,
       "justify_items": null,
       "left": null,
       "margin": null,
       "max_height": null,
       "max_width": null,
       "min_height": null,
       "min_width": null,
       "object_fit": null,
       "object_position": null,
       "order": null,
       "overflow": null,
       "overflow_x": null,
       "overflow_y": null,
       "padding": null,
       "right": null,
       "top": null,
       "visibility": null,
       "width": null
      }
     },
     "14a1f713c3b542de940cd9d6fadc2fe2": {
      "model_module": "@jupyter-widgets/controls",
      "model_module_version": "1.5.0",
      "model_name": "SliderStyleModel",
      "state": {
       "_model_module": "@jupyter-widgets/controls",
       "_model_module_version": "1.5.0",
       "_model_name": "SliderStyleModel",
       "_view_count": null,
       "_view_module": "@jupyter-widgets/base",
       "_view_module_version": "1.2.0",
       "_view_name": "StyleView",
       "description_width": "",
       "handle_color": null
      }
     },
     "260cbc54b85343c785f7ad7d48b55a96": {
      "model_module": "@jupyter-widgets/base",
      "model_module_version": "1.2.0",
      "model_name": "LayoutModel",
      "state": {
       "_model_module": "@jupyter-widgets/base",
       "_model_module_version": "1.2.0",
       "_model_name": "LayoutModel",
       "_view_count": null,
       "_view_module": "@jupyter-widgets/base",
       "_view_module_version": "1.2.0",
       "_view_name": "LayoutView",
       "align_content": null,
       "align_items": null,
       "align_self": null,
       "border": null,
       "bottom": null,
       "display": null,
       "flex": null,
       "flex_flow": null,
       "grid_area": null,
       "grid_auto_columns": null,
       "grid_auto_flow": null,
       "grid_auto_rows": null,
       "grid_column": null,
       "grid_gap": null,
       "grid_row": null,
       "grid_template_areas": null,
       "grid_template_columns": null,
       "grid_template_rows": null,
       "height": null,
       "justify_content": null,
       "justify_items": null,
       "left": null,
       "margin": null,
       "max_height": null,
       "max_width": null,
       "min_height": null,
       "min_width": null,
       "object_fit": null,
       "object_position": null,
       "order": null,
       "overflow": null,
       "overflow_x": null,
       "overflow_y": null,
       "padding": null,
       "right": null,
       "top": null,
       "visibility": null,
       "width": null
      }
     },
     "3185018bc46043018b690d6d9cef379e": {
      "model_module": "@jupyter-widgets/controls",
      "model_module_version": "1.5.0",
      "model_name": "IntSliderModel",
      "state": {
       "_dom_classes": [],
       "_model_module": "@jupyter-widgets/controls",
       "_model_module_version": "1.5.0",
       "_model_name": "IntSliderModel",
       "_view_count": null,
       "_view_module": "@jupyter-widgets/controls",
       "_view_module_version": "1.5.0",
       "_view_name": "IntSliderView",
       "continuous_update": true,
       "description": "N",
       "description_tooltip": null,
       "disabled": false,
       "layout": "IPY_MODEL_51b49bdd7ea74d1f972263bd8a968e63",
       "max": 100,
       "min": 1,
       "orientation": "horizontal",
       "readout": true,
       "readout_format": "d",
       "step": 1,
       "style": "IPY_MODEL_4ddd2b00cc354879ae09af02d0fab2da",
       "value": 2
      }
     },
     "4ddd2b00cc354879ae09af02d0fab2da": {
      "model_module": "@jupyter-widgets/controls",
      "model_module_version": "1.5.0",
      "model_name": "SliderStyleModel",
      "state": {
       "_model_module": "@jupyter-widgets/controls",
       "_model_module_version": "1.5.0",
       "_model_name": "SliderStyleModel",
       "_view_count": null,
       "_view_module": "@jupyter-widgets/base",
       "_view_module_version": "1.2.0",
       "_view_name": "StyleView",
       "description_width": "",
       "handle_color": null
      }
     },
     "514ee742be154487bddf1d2fdf50ece7": {
      "model_module": "@jupyter-widgets/base",
      "model_module_version": "1.2.0",
      "model_name": "LayoutModel",
      "state": {
       "_model_module": "@jupyter-widgets/base",
       "_model_module_version": "1.2.0",
       "_model_name": "LayoutModel",
       "_view_count": null,
       "_view_module": "@jupyter-widgets/base",
       "_view_module_version": "1.2.0",
       "_view_name": "LayoutView",
       "align_content": null,
       "align_items": null,
       "align_self": null,
       "border": null,
       "bottom": null,
       "display": null,
       "flex": null,
       "flex_flow": null,
       "grid_area": null,
       "grid_auto_columns": null,
       "grid_auto_flow": null,
       "grid_auto_rows": null,
       "grid_column": null,
       "grid_gap": null,
       "grid_row": null,
       "grid_template_areas": null,
       "grid_template_columns": null,
       "grid_template_rows": null,
       "height": null,
       "justify_content": null,
       "justify_items": null,
       "left": null,
       "margin": null,
       "max_height": null,
       "max_width": null,
       "min_height": null,
       "min_width": null,
       "object_fit": null,
       "object_position": null,
       "order": null,
       "overflow": null,
       "overflow_x": null,
       "overflow_y": null,
       "padding": null,
       "right": null,
       "top": null,
       "visibility": null,
       "width": null
      }
     },
     "51b49bdd7ea74d1f972263bd8a968e63": {
      "model_module": "@jupyter-widgets/base",
      "model_module_version": "1.2.0",
      "model_name": "LayoutModel",
      "state": {
       "_model_module": "@jupyter-widgets/base",
       "_model_module_version": "1.2.0",
       "_model_name": "LayoutModel",
       "_view_count": null,
       "_view_module": "@jupyter-widgets/base",
       "_view_module_version": "1.2.0",
       "_view_name": "LayoutView",
       "align_content": null,
       "align_items": null,
       "align_self": null,
       "border": null,
       "bottom": null,
       "display": null,
       "flex": null,
       "flex_flow": null,
       "grid_area": null,
       "grid_auto_columns": null,
       "grid_auto_flow": null,
       "grid_auto_rows": null,
       "grid_column": null,
       "grid_gap": null,
       "grid_row": null,
       "grid_template_areas": null,
       "grid_template_columns": null,
       "grid_template_rows": null,
       "height": null,
       "justify_content": null,
       "justify_items": null,
       "left": null,
       "margin": null,
       "max_height": null,
       "max_width": null,
       "min_height": null,
       "min_width": null,
       "object_fit": null,
       "object_position": null,
       "order": null,
       "overflow": null,
       "overflow_x": null,
       "overflow_y": null,
       "padding": null,
       "right": null,
       "top": null,
       "visibility": null,
       "width": null
      }
     },
     "5e5f41fc4b9b4a1083963e3964b33f43": {
      "model_module": "@jupyter-widgets/base",
      "model_module_version": "1.2.0",
      "model_name": "LayoutModel",
      "state": {
       "_model_module": "@jupyter-widgets/base",
       "_model_module_version": "1.2.0",
       "_model_name": "LayoutModel",
       "_view_count": null,
       "_view_module": "@jupyter-widgets/base",
       "_view_module_version": "1.2.0",
       "_view_name": "LayoutView",
       "align_content": null,
       "align_items": null,
       "align_self": null,
       "border": null,
       "bottom": null,
       "display": null,
       "flex": null,
       "flex_flow": null,
       "grid_area": null,
       "grid_auto_columns": null,
       "grid_auto_flow": null,
       "grid_auto_rows": null,
       "grid_column": null,
       "grid_gap": null,
       "grid_row": null,
       "grid_template_areas": null,
       "grid_template_columns": null,
       "grid_template_rows": null,
       "height": null,
       "justify_content": null,
       "justify_items": null,
       "left": null,
       "margin": null,
       "max_height": null,
       "max_width": null,
       "min_height": null,
       "min_width": null,
       "object_fit": null,
       "object_position": null,
       "order": null,
       "overflow": null,
       "overflow_x": null,
       "overflow_y": null,
       "padding": null,
       "right": null,
       "top": null,
       "visibility": null,
       "width": null
      }
     },
     "60316bc3b22b447cb705be09e2f261c5": {
      "model_module": "@jupyter-widgets/controls",
      "model_module_version": "1.5.0",
      "model_name": "SliderStyleModel",
      "state": {
       "_model_module": "@jupyter-widgets/controls",
       "_model_module_version": "1.5.0",
       "_model_name": "SliderStyleModel",
       "_view_count": null,
       "_view_module": "@jupyter-widgets/base",
       "_view_module_version": "1.2.0",
       "_view_name": "StyleView",
       "description_width": "",
       "handle_color": null
      }
     },
     "6798c5198c9a46118d27e63e2d3fe64c": {
      "model_module": "@jupyter-widgets/base",
      "model_module_version": "1.2.0",
      "model_name": "LayoutModel",
      "state": {
       "_model_module": "@jupyter-widgets/base",
       "_model_module_version": "1.2.0",
       "_model_name": "LayoutModel",
       "_view_count": null,
       "_view_module": "@jupyter-widgets/base",
       "_view_module_version": "1.2.0",
       "_view_name": "LayoutView",
       "align_content": null,
       "align_items": null,
       "align_self": null,
       "border": null,
       "bottom": null,
       "display": null,
       "flex": null,
       "flex_flow": null,
       "grid_area": null,
       "grid_auto_columns": null,
       "grid_auto_flow": null,
       "grid_auto_rows": null,
       "grid_column": null,
       "grid_gap": null,
       "grid_row": null,
       "grid_template_areas": null,
       "grid_template_columns": null,
       "grid_template_rows": null,
       "height": null,
       "justify_content": null,
       "justify_items": null,
       "left": null,
       "margin": null,
       "max_height": null,
       "max_width": null,
       "min_height": null,
       "min_width": null,
       "object_fit": null,
       "object_position": null,
       "order": null,
       "overflow": null,
       "overflow_x": null,
       "overflow_y": null,
       "padding": null,
       "right": null,
       "top": null,
       "visibility": null,
       "width": null
      }
     },
     "886c07f8f1f54831b43c0d89042eff77": {
      "model_module": "@jupyter-widgets/controls",
      "model_module_version": "1.5.0",
      "model_name": "FloatLogSliderModel",
      "state": {
       "_dom_classes": [],
       "_model_module": "@jupyter-widgets/controls",
       "_model_module_version": "1.5.0",
       "_model_name": "FloatLogSliderModel",
       "_view_count": null,
       "_view_module": "@jupyter-widgets/controls",
       "_view_module_version": "1.5.0",
       "_view_name": "FloatLogSliderView",
       "base": 10.0,
       "continuous_update": true,
       "description": "m",
       "description_tooltip": null,
       "disabled": false,
       "layout": "IPY_MODEL_c2a912f988cc42569cc91012a65f978e",
       "max": 4.0,
       "min": 1.0,
       "orientation": "horizontal",
       "readout": true,
       "readout_format": ".3g",
       "step": 0.1,
       "style": "IPY_MODEL_e3261ee91dcc490bad3df59a52e0e37e",
       "value": 1000.0
      }
     },
     "9250e40d25024a4784450e547e557f2f": {
      "model_module": "@jupyter-widgets/controls",
      "model_module_version": "1.5.0",
      "model_name": "VBoxModel",
      "state": {
       "_dom_classes": [
        "widget-interact"
       ],
       "_model_module": "@jupyter-widgets/controls",
       "_model_module_version": "1.5.0",
       "_model_name": "VBoxModel",
       "_view_count": null,
       "_view_module": "@jupyter-widgets/controls",
       "_view_module_version": "1.5.0",
       "_view_name": "VBoxView",
       "box_style": "",
       "children": [
        "IPY_MODEL_b2b84c98ab9a44839c2127207f1b37a5",
        "IPY_MODEL_e37f70ba0a6041e8892c80334e7ae8da",
        "IPY_MODEL_dd14a3dcd10d4f1fa22a79619055bc7b"
       ],
       "layout": "IPY_MODEL_b206fe110a6840e6967c727f5dbd06db"
      }
     },
     "9db48c0894c94e58a12028ecdbcd2b88": {
      "model_module": "@jupyter-widgets/base",
      "model_module_version": "1.2.0",
      "model_name": "LayoutModel",
      "state": {
       "_model_module": "@jupyter-widgets/base",
       "_model_module_version": "1.2.0",
       "_model_name": "LayoutModel",
       "_view_count": null,
       "_view_module": "@jupyter-widgets/base",
       "_view_module_version": "1.2.0",
       "_view_name": "LayoutView",
       "align_content": null,
       "align_items": null,
       "align_self": null,
       "border": null,
       "bottom": null,
       "display": null,
       "flex": null,
       "flex_flow": null,
       "grid_area": null,
       "grid_auto_columns": null,
       "grid_auto_flow": null,
       "grid_auto_rows": null,
       "grid_column": null,
       "grid_gap": null,
       "grid_row": null,
       "grid_template_areas": null,
       "grid_template_columns": null,
       "grid_template_rows": null,
       "height": null,
       "justify_content": null,
       "justify_items": null,
       "left": null,
       "margin": null,
       "max_height": null,
       "max_width": null,
       "min_height": null,
       "min_width": null,
       "object_fit": null,
       "object_position": null,
       "order": null,
       "overflow": null,
       "overflow_x": null,
       "overflow_y": null,
       "padding": null,
       "right": null,
       "top": null,
       "visibility": null,
       "width": null
      }
     },
     "b206fe110a6840e6967c727f5dbd06db": {
      "model_module": "@jupyter-widgets/base",
      "model_module_version": "1.2.0",
      "model_name": "LayoutModel",
      "state": {
       "_model_module": "@jupyter-widgets/base",
       "_model_module_version": "1.2.0",
       "_model_name": "LayoutModel",
       "_view_count": null,
       "_view_module": "@jupyter-widgets/base",
       "_view_module_version": "1.2.0",
       "_view_name": "LayoutView",
       "align_content": null,
       "align_items": null,
       "align_self": null,
       "border": null,
       "bottom": null,
       "display": null,
       "flex": null,
       "flex_flow": null,
       "grid_area": null,
       "grid_auto_columns": null,
       "grid_auto_flow": null,
       "grid_auto_rows": null,
       "grid_column": null,
       "grid_gap": null,
       "grid_row": null,
       "grid_template_areas": null,
       "grid_template_columns": null,
       "grid_template_rows": null,
       "height": null,
       "justify_content": null,
       "justify_items": null,
       "left": null,
       "margin": null,
       "max_height": null,
       "max_width": null,
       "min_height": null,
       "min_width": null,
       "object_fit": null,
       "object_position": null,
       "order": null,
       "overflow": null,
       "overflow_x": null,
       "overflow_y": null,
       "padding": null,
       "right": null,
       "top": null,
       "visibility": null,
       "width": null
      }
     },
     "b2b84c98ab9a44839c2127207f1b37a5": {
      "model_module": "@jupyter-widgets/controls",
      "model_module_version": "1.5.0",
      "model_name": "IntSliderModel",
      "state": {
       "_dom_classes": [],
       "_model_module": "@jupyter-widgets/controls",
       "_model_module_version": "1.5.0",
       "_model_name": "IntSliderModel",
       "_view_count": null,
       "_view_module": "@jupyter-widgets/controls",
       "_view_module_version": "1.5.0",
       "_view_name": "IntSliderView",
       "continuous_update": true,
       "description": "N",
       "description_tooltip": null,
       "disabled": false,
       "layout": "IPY_MODEL_260cbc54b85343c785f7ad7d48b55a96",
       "max": 100,
       "min": 1,
       "orientation": "horizontal",
       "readout": true,
       "readout_format": "d",
       "step": 1,
       "style": "IPY_MODEL_da4f97749bc9489aa84e4da3f27f175e",
       "value": 2
      }
     },
     "b4db182ef5e04983a752556479b67e5a": {
      "model_module": "@jupyter-widgets/controls",
      "model_module_version": "1.5.0",
      "model_name": "FloatLogSliderModel",
      "state": {
       "_dom_classes": [],
       "_model_module": "@jupyter-widgets/controls",
       "_model_module_version": "1.5.0",
       "_model_name": "FloatLogSliderModel",
       "_view_count": null,
       "_view_module": "@jupyter-widgets/controls",
       "_view_module_version": "1.5.0",
       "_view_name": "FloatLogSliderView",
       "base": 10.0,
       "continuous_update": true,
       "description": "N",
       "description_tooltip": null,
       "disabled": false,
       "layout": "IPY_MODEL_eced6df37a65426c936e3b82457169d8",
       "max": 3.0,
       "min": 0.0,
       "orientation": "horizontal",
       "readout": true,
       "readout_format": ".3g",
       "step": 0.1,
       "style": "IPY_MODEL_60316bc3b22b447cb705be09e2f261c5",
       "value": 1000.0
      }
     },
     "c2a912f988cc42569cc91012a65f978e": {
      "model_module": "@jupyter-widgets/base",
      "model_module_version": "1.2.0",
      "model_name": "LayoutModel",
      "state": {
       "_model_module": "@jupyter-widgets/base",
       "_model_module_version": "1.2.0",
       "_model_name": "LayoutModel",
       "_view_count": null,
       "_view_module": "@jupyter-widgets/base",
       "_view_module_version": "1.2.0",
       "_view_name": "LayoutView",
       "align_content": null,
       "align_items": null,
       "align_self": null,
       "border": null,
       "bottom": null,
       "display": null,
       "flex": null,
       "flex_flow": null,
       "grid_area": null,
       "grid_auto_columns": null,
       "grid_auto_flow": null,
       "grid_auto_rows": null,
       "grid_column": null,
       "grid_gap": null,
       "grid_row": null,
       "grid_template_areas": null,
       "grid_template_columns": null,
       "grid_template_rows": null,
       "height": null,
       "justify_content": null,
       "justify_items": null,
       "left": null,
       "margin": null,
       "max_height": null,
       "max_width": null,
       "min_height": null,
       "min_width": null,
       "object_fit": null,
       "object_position": null,
       "order": null,
       "overflow": null,
       "overflow_x": null,
       "overflow_y": null,
       "padding": null,
       "right": null,
       "top": null,
       "visibility": null,
       "width": null
      }
     },
     "cb456e1ef7c74de5a9b48fdc46ba35aa": {
      "model_module": "@jupyter-widgets/controls",
      "model_module_version": "1.5.0",
      "model_name": "VBoxModel",
      "state": {
       "_dom_classes": [
        "widget-interact"
       ],
       "_model_module": "@jupyter-widgets/controls",
       "_model_module_version": "1.5.0",
       "_model_name": "VBoxModel",
       "_view_count": null,
       "_view_module": "@jupyter-widgets/controls",
       "_view_module_version": "1.5.0",
       "_view_name": "VBoxView",
       "box_style": "",
       "children": [
        "IPY_MODEL_3185018bc46043018b690d6d9cef379e",
        "IPY_MODEL_0dcdeb85d8a940f2aa87329e028f42a1"
       ],
       "layout": "IPY_MODEL_9db48c0894c94e58a12028ecdbcd2b88"
      }
     },
     "da4f97749bc9489aa84e4da3f27f175e": {
      "model_module": "@jupyter-widgets/controls",
      "model_module_version": "1.5.0",
      "model_name": "SliderStyleModel",
      "state": {
       "_model_module": "@jupyter-widgets/controls",
       "_model_module_version": "1.5.0",
       "_model_name": "SliderStyleModel",
       "_view_count": null,
       "_view_module": "@jupyter-widgets/base",
       "_view_module_version": "1.2.0",
       "_view_name": "StyleView",
       "description_width": "",
       "handle_color": null
      }
     },
     "dd14a3dcd10d4f1fa22a79619055bc7b": {
      "model_module": "@jupyter-widgets/output",
      "model_module_version": "1.0.0",
      "model_name": "OutputModel",
      "state": {
       "_dom_classes": [],
       "_model_module": "@jupyter-widgets/output",
       "_model_module_version": "1.0.0",
       "_model_name": "OutputModel",
       "_view_count": null,
       "_view_module": "@jupyter-widgets/output",
       "_view_module_version": "1.0.0",
       "_view_name": "OutputView",
       "layout": "IPY_MODEL_ee4558bc2b944858bce019c602b38ac3",
       "msg_id": "",
       "outputs": [
        {
         "data": {
          "image/png": "iVBORw0KGgoAAAANSUhEUgAAAm8AAAHQCAYAAAD3Qo21AAAAOXRFWHRTb2Z0d2FyZQBNYXRwbG90bGliIHZlcnNpb24zLjcuMiwgaHR0cHM6Ly9tYXRwbG90bGliLm9yZy8pXeV/AAAACXBIWXMAAA9hAAAPYQGoP6dpAACW5klEQVR4nOzdd3hTZfvA8W9G06Yj3RRKS4GyN8oqeyhDlooDJyqCAm5x8bpfFH7q60AFRBEFRFyIgIDiYm/Zm1JoKaO76U6Tc35/lBZrgTYlbZL2/lxXL+XknJM7T05O7jxTo6qqihBCCCGEcAtaZwcghBBCCCEqTpI3IYQQQgg3IsmbEEIIIYQbkeRNCCGEEMKNSPImhBBCCOFGJHkTQgghhHAjkrwJIYQQQrgRSd6EEEIIIdyIJG9CCCGEEG7EJZK3uLg4xo4dS4cOHYiJiWHq1Knk5+fbdY41a9bQvHlzhg0bVkVRCiGEEEI4n97ZAZjNZsaMGUN4eDgzZswgLS2NadOmkZGRwTvvvFOhc+Tn5zNt2jRCQkKuOh5VVVEUWTFMCCGEENVLq9Wg0WjK3c/pydvixYsxm80sXbqUoKAgAHQ6HZMnT2bChAlER0eXe45PPvmE8PBwIiIi2L9//1XFoygqaWk5V3UOIYQQQgh7BQX5oNOVn7w5vdl03bp1xMTElCRuAIMGDcJgMLB27dpyj4+Pj2fevHm8+OKLVRmmEEIIIYRLcHryFhsbW6Z2zWAw0KBBA2JjY8s9/o033mDkyJG0aNGiqkIUQgghhHAZTm82NZvNmEymMttNJhOZmZlXPPaPP/5g165drF692qEx6fUVy2k1Gg1abfnVm8J+iqKiqtL3UAghhPg3pydvl6Oq6hU77RUUFPDmm2/y6KOPlmpyvVparYbAQJ8K7VtejKLypGyFEEKIS3N68mYymTCbzWW2Z2VlXXGwwpdffolWq2Xo0KElxxcWFqIoCmazGS8vLwwGg93xKIqK2Zxb7n46nRaTycjWWDNZeTa7n0dcnp9RR9doE2ZzHjab4uxwhBBCiGphMhnR6cpv/XN68hYdHV2mb5vFYiE+Pp5Ro0Zd9rgTJ05w6tQpYmJiyjzWuXNnXn31Ve64445KxWS1VjxhyMqzkZFrrdTziCuz2RS73gshhBCiNnB68ta7d29mzZpFeno6gYGBQNGEuxaLhT59+lz2uHHjxnHTTTeV2jZnzhzi4uKYNm0aDRs2rMqwhRBCCCGcwumjTUePHo2fnx8TJ05k/fr1LF26lP/+978MHz68VLPplClTaNWqVcm/o6Oj6dq1a6m/0NBQvL296dq1K2FhYc54OUIIIYQQVcrpNW8mk4kvv/ySqVOn8uijj+Ll5cWwYcOYPHlyqf0URcFmk75lQgghhKjdNKrMx1CKzaZUaIUFvV5LYKAPv+1Plz5vDhbgree6NoGkp+dInzchhBC1RtEKC+U3ijq92VQIIYQQQlScJG9CCCGEEG5EkjchhBBCCDciyZsQQgghhBuR5E0IIYQQwo1I8iaEEEII4UYkeRNCCCGEcCOSvAkhhBBCuBFJ3oQQQggh3Igkb0IIIYQQbkSSNyGEEEIINyLJmxBCCCGEG5HkTQghhBDCjUjyJoQQQgjhRiR5E0IIIYRwI5K8CSGEEEK4EUnehBBCCCHciCRvQgghhBBuRJI3IYQQQgg3IsmbEEIIIYQbkeRNCCGEEMKNSPImhBBCCOFGJHkTQgghhHAjkrwJIYQQQrgRSd6EEEIIIdyIJG9CCCGEEG5EkjchhBBCCDciyZsQQgghhBuR5E0IIYQQwo1I8iaEEEII4UYkeRNCCCGEcCOSvAkhhBBCuBFJ3oQQQggh3Igkb0IIIYQQbkSSNyGEEEIINyLJmxBCCCGEG5HkTQghhBDCjUjyJoQQQgjhRvTODgAgLi6OqVOnsnPnToxGI0OHDmXy5Ml4eXld9pjs7GzmzZvHunXriIuLQ6/X07p1a5566ilat25djdELIYQQQlQfp9e8mc1mxowZQ05ODjNmzOC5555j+fLlvPjii1c87syZM3zzzTd0796d9957j2nTpqEoCqNHj+bAgQPVFL0QQgghRPVyes3b4sWLMZvNLF26lKCgIAB0Oh2TJ09mwoQJREdHX/K4iIgI1qxZg9FoLNnWvXt3BgwYwMKFC5k2bVq1xC+EEEIIUZ2cXvO2bt06YmJiShI3gEGDBmEwGFi7du1lj/P29i6VuAF4enoSHR1NUlJSlcUrhBBCCOFMTk/eYmNjy9SuGQwGGjRoQGxsrF3nys3N5dChQzRu3NiRIQohhBBCuAynN5uazWZMJlOZ7SaTiczMTLvO9f7775OXl8fdd999VTHp9eXntDqd0/PeGq8qylij0aDVahx+XlFEUVRUVXV2GMIFyGet6sjnTDg9ebscVVXRaCr+wV++fDlffvklL7/8MlFRUZV+Xq1WQ2CgT6WPF45jMhnL38lOqqqg0UjiXVWkfEUxe+/houKkbIXTkzeTyYTZbC6zPSsr67KDFf5t48aNvPDCC4wdO5a77rrrquJRFBWzObfc/XQ6bZUkF+IiszkPm01x2PmK37OcPb+g5KQ77LyiiNYnEJ/2gxz+vgn3U/xZy9+6BSWr7P1dVJ7Wz4RX127yOauhTCZjhVqdnJ68RUdHl+nbZrFYiI+PZ9SoUeUev3fvXh555BEGDx7MM88845CYrFb5QLgCm02pkvdCyUnHZk52+HlFkap634T7UbLMKBnyQ6kqyOesdnN6+0bv3r3ZsmUL6ekXP+Br1qzBYrHQp0+fKx4bGxvLuHHjuOaaa5g2bZpUIwshhBCixnN68jZ69Gj8/PyYOHEi69evZ+nSpfz3v/9l+PDhpZpNp0yZQqtWrUr+nZqaytixY/Hw8ODBBx/kwIED7N69m927d3Pw4EFnvBQhhBBCiCrn9GZTk8nEl19+ydSpU3n00Ufx8vJi2LBhTJ48udR+iqJgs9lK/n38+HHOnj0LwH333Vdq3/r16/PHH39UeexCCCGEENXN6ckbQKNGjZg7d+4V95k+fTrTp08v+XfXrl05cuRIVYcmhBBCCOFSnN5sKoQQQgghKk6SNyGEEEIINyLJmxBCCCGEG5HkTQghhBDCjUjyJoQQQgjhRiR5E0IIIYRwI5K8CSGEEEK4EUnehBBCCCHciCRvQgghhBBuRJI3IYQQQgg3IsmbEEIIIYQbkeRNCCGEEMKNSPImhBBCCOFGJHkTQgghhHAjkrwJIYQQQrgRSd6EEEIIIdyIJG9CCCGEEG5E7+wAhBDiSrRaDVqtxtlh1FiKoqIoqrPDEC5APmtVx9GfM0nehBAuS6vVEBjojVYrjQRVRVEU0tNzJYGr5Yo+az6SvFURRVFJT89x2OdMkjchhMsqqgnQ8vu5zWRYzM4Op8YJMJgYUDcGrVYjyVstV1zrlnDEQkGuXAuO5OmtIbK5waGfM0nehBAuL8NiJqUg3dlhCFHjFeSq5OdI8ubqpC1CCCGEEMKNSPImhBBCCOFGJHkTQgghhHAjkrwJIYQQQrgRSd6EEEIIIdyIJG9CCCGEEG5EkjchhBBCCDciyZsQQgghhBuR5E0IIYQQwo1I8iaEEEII4UYkeRNCCCGEcCOSvAkhhBBCuBFJ3oQQQggh3Igkb0IIIYQQbkSSNyGEEEIINyLJmxBCCCGEG5HkTQghhBDCjbhE8hYXF8fYsWPp0KEDMTExTJ06lfz8/Aod++OPPzJ48GDatm3LsGHDWLVqVRVHK4QQQgjhPHpnB2A2mxkzZgzh4eHMmDGDtLQ0pk2bRkZGBu+8884Vj129ejXPP/8848ePp0ePHvz22288+eST+Pn50bNnz2p6BUIIIYQQ1cfpydvixYsxm80sXbqUoKAgAHQ6HZMnT2bChAlER0df9tgPPviAwYMH8/TTTwPQrVs34uLimDFjhiRvQgghhKiRnN5sum7dOmJiYkoSN4BBgwZhMBhYu3btZY9LSEjgxIkTDBs2rNT2YcOGsXfvXtLS0qosZiGEEEIIZ3F68hYbG1umds1gMNCgQQNiY2Mve9yJEycAaNy4cant0dHRqKpa8rgQQgghRE3i9GZTs9mMyWQqs91kMpGZmXnZ44of+/ex/v7+pR63l1arISjIp9z9NJqi//Zs7o+iqpV6LnFp2guF6+9vxJFFW/ye+Vw7AlTFcScWRTRFvwUd+b4Vv2c3hPdBQd4zR9Pi+PcMLr5vXj17gyLvm0Npq/Y9a9ja4NDziotlW5H3TKvVVOicTk/eLkdVVTSa8l/Ev/dRL5RMRY693Pl0uoof6+Xh9MrLGkurrZqy1Xp6V8l5RZGqeN+Mei+Hn1NcVGWfNS9536pKVb1nekPlvjtF+Rz5njk98zCZTJjN5jLbs7KyLlkjV+xyNWzF57rSsUIIIYQQ7srpyVt0dHSZvm0Wi4X4+PgrjjQt7uv2775tsbGxaDSaMn3hhBBCCCFqAqcnb71792bLli2kp6eXbFuzZg0Wi4U+ffpc9rjIyEgaN27MypUrS21fsWIF7dq1KzV6VQghhBCipnB68jZ69Gj8/PyYOHEi69evZ+nSpfz3v/9l+PDhpWrepkyZQqtWrUod+9hjj7Fq1Sree+89tm7dyptvvsnGjRt57LHHqvtlCCGEEEJUC6cPWDCZTHz55ZdMnTqVRx99FC8vL4YNG8bkyZNL7acoCjabrdS2IUOGkJ+fz+zZs5k7dy5RUVG89957MkGvEEIIIWosjarKoGAhhBBCCHfh9GZTIYQQQghRcZK8CSGEEEK4EUnehBBCCCHciCRvQgghhBBuRJI3IYQQQgg3IsmbEEIIIYQbkeSthouLi2Ps2LF06NCBmJgYpk6dSn5+vrPDEldw6tQpXn75ZUaOHEmrVq0YNmyYs0MSV7Bq1SomTpxInz596NChA8OHD2fRokUoiuLs0MQVrF+/nrvvvptu3brRpk0bBgwYwLRp08jKynJ2aKICcnJy6N27N82bN2ffvn3ODqfaOX2SXlF1zGYzY8aMITw8nBkzZpCWlsa0adPIyMjgnXfecXZ44jKOHTvG2rVrad++PYqiIFMxurZ58+YRHh7Os88+S3BwMFu3buWNN94gISGB5557ztnhicvIzMykY8eOjBkzBpPJxLFjx/jwww85duwYn3/+ubPDE+WYOXNmmYn7axNJ3mqwxYsXYzabWbp0aclarzqdjsmTJzNhwoRSy48J19G/f3+uu+46AJ5//nn279/v5IjElcyePbvUWsrdunUjNzeXr776iieffBKDweDE6MTlDBs2rFStdteuXTEYDLz00kucP3+esLAwJ0YnriQ2NpZFixbx3HPP8corrzg7HKeQZtMabN26dcTExJT6Yhk0aBAGg4G1a9c6MTJxJVqtfCzdyT8/X8VatmxJQUEBGRkZ1R+QqLSAgAAArFarcwMRV/TGG28wevRoGjVq5OxQnEa+JWqw2NjYMrVrBoOBBg0aEBsb66SohKj5du7cSUBAAMHBwc4ORZTDZrNRUFDAgQMH+Pjjj+nXrx/169d3dljiMlavXs3hw4eZNGmSs0NxKmk2rcHMZjMmk6nMdpPJRGZmphMiEqLm27dvH0uWLGHSpEnodDpnhyPK0a9fP86fPw9Ar169ePfdd50ckbicvLw8pk+fzlNPPYWvr6+zw3EqSd5qIVVV0Wg0zg5DiBonOTmZxx57jLZt2zJu3DhnhyMqYM6cOeTm5nL8+HFmzpzJww8/zLx58yTxdkGzZs0iODiYm2++2dmhOJ0kbzWYyWTCbDaX2Z6VlSWDFYRwsKysLMaNG4eXlxezZs3Cw8PD2SGJCmjRogUA11xzDa1atWLUqFGsWbOGwYMHOzky8U+JiYl8/vnnfPzxx2RnZwOQm5tb8t+cnBx8fHycGWK1kuStBouOji7Tt81isRAfH8+oUaOcFJUQNU9BQQETJkwgJSWFb775hsDAQGeHJCqhZcuW6HQ64uPjnR2K+JfTp09TWFjI+PHjyzx277330r59e7799lsnROYckrzVYL1792bWrFmkp6eXfJmsWbMGi8VCnz59nBydEDWD1Wrl8ccf5/DhwyxcuFA6u7uxXbt2YbPZiIiIcHYo4l9atmzJ/PnzS207dOgQ06ZN47XXXqNt27ZOisw5JHmrwUaPHs3ChQuZOHEiEydOJDU1lenTpzN8+HBpNnVheXl5JVO5JCYmkp2dzerVqwHo0qXLJaemEM7z+uuv8+eff/LMM8+Qn5/P7t27Sx5r0qRJre9Y7aoeeeQR2rRpQ/PmzfHy8uLw4cN89tlnNG/evGSeReE6TCYTXbt2veRjrVu3pnXr1tUckXNpVJm+vUaLi4tj6tSp7Ny5Ey8vL4YNG8bkyZPx8vJydmjiMk6fPs2AAQMu+dj8+fMvewMTztG/f38SExMv+Zi8X65rzpw5rFy5kvj4eFRVpX79+lx//fWMHTtWEm43sXXrVu69916+//77WlfzJsmbEEIIIYQbkUl6hRBCCCHciCRvQgghhBBuRJI3IYQQQgg3IsmbEEIIIYQbkeRNCCGEEMKNSPImhBBCCOFGJHkTQgghhHAjkrwJIYQQQrgRSd6EEEIIIdyIJG9CCCGEEG5EkjchhBBCCDciyZsQQgghhBuR5E0IIYQQwo1I8iaEEEII4UYkeRNCCCGEcCOSvAkhhBBCuBFJ3oQQQggh3Igkb0IIIYQQbkSSNyGEEEIINyLJmxBCCCGEG3F68nbq1ClefvllRo4cSatWrRg2bFiFj/3xxx8ZPHgwbdu2ZdiwYaxataoKIxVCCCGEcD69swM4duwYa9eupX379iiKgqqqFTpu9erVPP/884wfP54ePXrw22+/8eSTT+Ln50fPnj0rHY+qqihKxWJwBq1W49LxuSopt8qRcrOflFnlSLlVjpSb/Vy5zLRaDRqNptz9NGpFs6UqoigKWm1RBeDzzz/P/v37WbFiRbnHDRkyhGbNmvHBBx+UbBs7dixZWVl8++23lY7HZlNIS8up9PFVSa/XEhjoQ3p6Dlar4uxw3IaUW+VIudlPyqxypNwqR8rNfq5eZkFBPuh05TeKOr3ZtDhxs0dCQgInTpwo08Q6bNgw9u7dS1pamqPCE0IIIYRwKU5P3irjxIkTADRu3LjU9ujoaFRVLXlcCCGqU1pBDlvOnSDTkufsUIQQNZjT+7xVRmZmJgAmk6nUdn9//1KPV5Ze75o5bXFVakWqVMVFUm6VI+VWcaqqMvfYRj4+tBarquCp1fN8u0Hc0vAaZ4fmFuRaqxwpN/vVlDJzy+St2L879RV336tIZ7/L0Wo1BAb6XFVcVc1kMjo7BLck5VY5Um7lm3twIx8c/BMAk8ELsyWf13b/TL0Af4Y1aufk6NyHXGuVI+VmP3cvM7dM3v5ZwxYSElKy3Ww2A2Vr5OyhKCpmc+7VBVhFdDotJpMRszkPm831Olq6Kim3ypFyq5j47DSmbl8JwFNtBvBEpwG8uOEn5h/fyrMbl9DKWI9AT28nR+na5FqrHCk3+7l6mZlMxgrVCrpl8lbc1+3EiRNER0eXbI+NjUWj0ZTpC2cvVxyB8k82m+LyMboiKbfKkXK7svcO/E6hYiMmtDH3Rceg1Wh5stV1bEmK46g5iVmH1vFsm4HODtMtyLVWOVJu9nP3MnPLRt/IyEgaN27MypUrS21fsWIF7dq1IygoyEmRCSFqk5PZqfx+9jAAT7UcUNJlQ6/V8mTLAQD8GL+LdItr1uYLIdyT02ve8vLyWLt2LQCJiYlkZ2ezevVqALp06UJQUBBTpkxh6dKlHDx4sOS4xx57jCeffJIGDRrQvXt3fv/9dzZu3Mhnn33mlNchhKh9vj/1NyrQO6wpTUx1Sj3WNaQRLf3rcijzHEvjd3N/k+7OCVIIUeM4PXlLTU3l8ccfL7Wt+N/z58+na9euKIqCzWYrtc+QIUPIz89n9uzZzJ07l6ioKN57772rWl1BCCEqyqoo/HLmAACjGnQs87hGo+G2qGt5be/PLE3Yw33RMVc1mEoIIYo5fYUFVyMrLNQ8Um6VI+V2ZZuTTzBx69cEeBj59frH8dDqypRZrtXCdWveJ89WyPwe99E2sL6zw3ZJcq1VjpSb/Vy9zNxmhQUhhHBHKxP3AzAwvBUeWt0l9/HWG+hVpwkAf50/Wm2xCSFqNknehBDCThablT/OHgFgSP02V9y3b93mAPx5TpI3IYRjSPImhBB2+jstgVybhRBPX9qX0xTas040eo2WuOwUTmanVlOEQoiaTJI3IYSw06bkWAB61Glc7iAEPw8vOoc0BOAvqX0TQjiAJG9CCGGnTcknAOgeGl3OnkX6hjUDYF3SsSqLSQhRe0jyJoQQdjiXZyY2KxktGrqGNKrQMd1Ci/bbl55Inq2wKsMTQtQCkrwJIYQdiptM2wSG42+o2OLWkd6B1PUyYVUV9qQlVGV4QohaQJI3IYSww7aUkwDEhFR8DWWNRlPS721byqkqiEoIUZtI8iaEEBWkqiq7LtScXRvcwK5jOwVHAbAj9aSjwxJC1DKSvAkhRAWdycskKT8LvUZLGztXS+gcUpS8Hcg4S1ZhflWEJ4SoJSR5E0KICvo7LR6Alv71MOo87Dq2ntGfSO9AFFR2p52uivCEELWEJG9CCFFBu1KLmkyvCYqs1PEdLhy3N0OSNyFE5UnyJoQQFVTc361jcOWSt3YXmlr3pic6LCYhRO0jyZsQQlRAWkEOJ3OKlrfqEHh1ydv+9DPYVMVhsQkhahdJ3oQQogIOZp4FoJFvcIXnd/u3aL9QfPQGcm0WjmclOzI8IUQtIsmbEEJUwKHMc0DRYIXK0mm0tAkobjqVfm9CiMqR5E0IISrgUEZRzVtL/7pXdZ7iptM9adLvTQhROZK8CSFEBRTXvLVwUPK2L0OSNyFE5UjyJoQQ5UgryOFcvhmAFqarS95aB4QDEJ+TJpP1CiEqRZI3IYQoR3GtW5RPEL4enld1rkCDN/WM/gAcvnBeIYSwhyRvQghRjkOZxf3dKj9Y4Z9aXTjPIUnehBCVIMmbEEKU4+JI06trMi3WKqAoeTtwISkUQgh7SPImhBDlKE7eWjms5q0oCSwewSqEEPaQ5E0IIa4gw5LL2bxMAJr7hznknMXNrwm56ZgteQ45pxCi9pDkTQghrqC41q2BTxB+Hl4OOae/wUiEd0DR+c3S700IYR+9swMQoiqcyzPzzckdxGYlU98ngAfb9yQMP2eHJdzQwUzHTM77b63863E6N4ODGWfpGtLIoecWtcPetERWHNzHmcwMWpjqclvDawny9HF2WKIaSPImapy/zh3lP7t+ItdmKdn23cm/mdJuMDdHdnRiZMIdHcpw7GCFYi396/Hr2UMlyaEQFaWqKp8e28Cso+tKtq09f4xvT+3kf51uoWNQpBOjE9VBkjdRo2xLOckzO3/Aqiq0C6zPDfXbsCXlBH+dO8Z/96zEW2tgcP3Wdp9XURRsNmsVROy6FEVDfr4Oi6UAm011djhOk5abSX1PP9r41aWw0HLFfe0ps7amutT39CM1J7Pc89Z0tfVa0+n0aLX2915aFLe9JHG7qXEHmvuE8cPJXRzLSuKRrYv5vPs9NHfwjw3hWjSqqtaeT0oF2GwKaWk5zg7jkvR6LYGBPqSn52C1Ks4Ox+WkFmRz29rPSLPkMLBeS97oeCN6rRadTsOHx//i0wMb8NEb+Lb3OMIv9Dcqj6qqmM1p5OVlV23wLkqr1aIotfdaU1SVc3lFKyvUNZrQajTlHlPRMqvMuWuy2nqtGY2+mExBaCr4/h/OPMc9G+ZhVRWebD2Ap7tcT3p6DtkFBTy+7Vu2pZ4k0juQxb0fxFtvqOLo3Y+rf48GBfmg05Wf0EvNm6gxZhz6kzRLDk396vB6hxHoL/yi1Wg0vNjpBnacPcWutATeObCGdzvfWqFzFiduvr6BGAyeFb7B1hQ6naZW1YT8W67VgtGgx0OrI9Q3uELH2FNmudmeFCo2fLwDav0XbW271lRVxWIpIDs7HQB///KvL1VVeevAr1hVhQF1W3B/k5iSx7x0Hrx17c2MXvcZCbnpzDu+iUkt+lZV+MLJJHkTNcLBjLMsO70XgJfa3YCnrvSlrdNqeaXDUEb9+Ql/nj/K7rTTdAiKuOI5FcVWkrj5+pqqLHZXptdrXfLXaXUptFlQdTq8PLzw8KhYcmVPmXkZvLAU5lOoocLnr6lq47VmMBQttZadnY6fX2C5Taibkk+wKy0BT62eZ1tfX+bHpL/ByDOtr+fpnT8w/8QWbmrQocKtDMK9yFQhokb438HfABhavw1tA+tfcp9oUyjDI9oBMD92c7nntNlswMUbrKh98myFQFGtRlUoPm/+hecRtU/x/aW8PrWqqvLxkb8AuK3htdQxXvoHZb+6zekcHIVFsTHj8J8OjVW4DknehNvbnZbA32nxeGh1PNqi3xX3vTe6GwB/nT/KqezUCp2/tjWViovyqyl5y5Pkrdaq6P1la8pJDmWew1tn4P4m3a94vqdbXQfAmjOHSMhJd0icwrVI8ibc3pexWwAYVr8tYZf5NVqskW8IvcOaogILTmythuiEu7IpCoVKUe2rscqSt6Lm/ULFhq0WdtYXFff9qb8BGB7RlkCD9xX3be5flx6h0SioLJT7XI0kyZtwayezU1l7/igA90R3rdAx9zQq2m9V4gHyrLVjioa5cz+hZ89OTJo07pKPXX99LydEVTl//72Dnj07cfjwwZJtt9wynHff/T+HPk9xbZiHVofuH32R3n33/7jlluFXPHblyuX07NmpzF///qVrTPRaHR5aHVA1TaePPDKeZ599wuHnBTh79swlX+O///7+e0eVPL89jhw5zPjx9zFgQA969uxEVlaWs0OyS0p+dsl9blTUNRU6ZsyFVoZlCXtIK3DNGRRE5bnEgIW4uDimTp3Kzp07MRqNDB06lMmTJ+PldeWlaO655x62bdtWZvvKlSuJjo6uqnCFC/nu1E5UoHdYUxr5hlTomGuDGxDhHcDp3Az+PHeUGyLaVG2QLmTPnl3s3Lmda6/t7OxQHOrNN9/Gz8+xg0oc0WT6v/99iI+Pb8m/tdqyTWReOj2Fio08WyE+Ho7tX/n0089XaNqByggODmH27Hkl/05NTeE//3mGhx6aRMeOnUq2N2rk/NUj3n33/1AUhbff/gCDwRNv7yvXXLmanxL2YFUV2gdG0NRUp0LHdAqOopV/PQ5mnmVpwh4euEJTq3A/Tk/ezGYzY8aMITw8nBkzZpCWlsa0adPIyMjgnXfeKff4a665hueee67UtoiIK48iFDWDxWZl5en9ANwWdW2Fj9NoNAyLaMvso+tZkbiv1iRvRqORRo2imTfv0ypJ3mw2G6qqotdX/22lWbMWDj9ncfJ2NU2mzZu3JCAg4Ir7eOk8yCoscGjNW0FBPp6eXjRq1Nih5/sng8FAmzZtS/599uwZACIiIktt/ydVVSksLMRgqN6RtadOxXHLLaO55ppO5e9cjoKCAjw9q28Qk6qqrDi9D4CbG1R8hRiNRsNtDa/l1T0rWBq/m/ujY6T/bg3i9ORt8eLFmM1mli5dSlBQEAA6nY7JkyczYcKEcmvQTCYTHTp0qIZIhatZe/4YGYV51PHyo1uofb/ub6hflLxtTY4jKc982ZFbNc399z/IM888wd9/77jiF5nZnMnMmTPYsGEtubl5REdHM27cRLp06VayzyOPjMfb25t+/a5j/vzPOXMmkdmzP2fJku84fPggjzzyJB9//D6nT5+mRYuWvPjia/j6+vLOO9PZsmUTAQEBPPTQJAYMGFhyzk2bNvDtt4s4fvwYFouFqKiGjB37EN26XbnW4JZbhtO9e0+eeuo5zp49w623jrjkflOmvMINNxQ1ee7fv5c5c2Zy8OB+dDodMTE9efzxpwkMLLoP5dkKyUhNZe4n09m9cwd+fiZuu+2OCpd1ec6dO8dHH73H9u1bsVgtNGnRgqcfnUyLFq1K9unZsxMTJz7OnXfeU7Jt0aIFzJz5ARs2FDVH/v33Dh577GHeeut9Vq5cxrZtW+nQoSNvvfV+yXv01lvvlxx/8mQcs2d/yK5dO7HZbHTseC1PPPEM9etHlHrehx56hKwsM6tX/0xeXi5r1qy3+zW+8carHD58kIkTH2P27I85dSqOl1+eSkxMD2bNmsH27VtJSjpPYGAQMTHdeeihR/H1vVhTWfy+RkU1ZNGiBWRnZ3HNNZ149tkXCQwMBMBqtfLJJx/zxx9rSEtLxWQy0bx5K15++b8cPXqYxx57GIAvvviML774jA4druGjj+agKAoLF37B8uVLSUlJJiysLjfffCu33XZnyfPPnfsJixcv5IMPZvHBB//j2LEjPPjgwwQEBPLmm68xZ84XfPLJx+zfv5fQ0DCefPIZOnfuyty5n7B8+VIURWHYsJGMHz+xUispABzNSuJkTioGrY7+dZvbdezAei15+8CvJOSmsyP1FJ1DGlYqBuF6nJ68rVu3jpiYmJLEDWDQoEFMmTKFtWvXSvOnuKylCbsBGBHRDp3GvhtjpE8gHQIj2J1+ml/PHuLuxhXrLwdFv4SdObWDl86j0r+gY2J60rJlKz7/fM5lkzebzcbTTz9GYuJpJk58hODgUH788QeeeeZx3nvv41LHHT58iPPnz/HggxPw8/OjTp0wAFJTU5k160PGjHkQvV7H+++/w+uvv4TRaKR9+44MHz6SZcuW8vrrL9G6dVvq1q0HwNmzifTo0Zs77rgHrVbDli2beOaZx/ngg1kVrjX5d3MewOrVK1i27Efq1y9a83H//r08+uhDdOvWg9dem0Z+fh6ffjqL5557ijlzvigZrPDx1KlkpaYzefIL+Pr6smDBFyQnJ6HT6SoUi6LYsFovTgGh0+nQaDTk5ubw6KPjUVWVJ558hnQs/PLDEh599CE++2wBUVENK3T+f3r77TcZOHAIb755y2UThcTE0zz88AM0bhzNlCmvotVqmD//cx5/fAKLFv1Qqkbs+++/pk2bdrzwwksUFlZ+abiUlBQ++OB/jBkzljp1wqhTJ4z8/HwURWH8+IkEBASSlHSe+fM/Z8qUycyYMbvU8Rs2rOP06QSeeuo5MjMzmDHjf7z//lu89to0ABYsmMfSpT8wYcKjNGrUmMzMDLZt20JhoYXmzVswe/Y8Hn/8Ya6/fjDDht2Ij0/Rwu0ff/wB3333Nffccz/t23dk+/atzJjxLrm5udx334Mlz19YWMjrr7/EbbfdyUMPTcLPz8SxY0cAePPN17jxxlHceee9LFz4BS+++Bw33DCMnJwc/vOfVzl4cD9z535C48ZNGDhwcKXKb82Zor6dPes0wdfOZnWj3sDg8Nb8EL+LJfG7JXmrQZyevMXGxjJq1KhS2wwGAw0aNCA2Nrbc47dt20aHDh2w2Wy0b9+exx9/nM6da1Z/HlHWuTwzm5NPADA8sl2lznF9vZbsTj/NH+eOVDh5U1WV+zfNZ0/66Uo9pyN0CIzg8+73VjqBu+++cTz33JPs2rWTjh3LNjdv3ryBQ4cO8Pbb79OrV2+sVoWuXbtz7723l0n6srLMfPbZ/JKk7Z/bZ878jIYNi2pEU1KSee+9t7nrrjElX4wtWrRm3bo/Wbfur5IarVGjbi85h6IodOzYibi4Eyxb9mOFk7d/N+ft27eHn39extixD9G+fQcAZs/+iBYtWvLmm2+XlGOjRtGMGTOazZs30K5TZ/bv3MmpY8f54INZJc3M7dtfw6hRQ/H3D6hQLCNGDCr17wcffJj77nuQn39ezrlzZ/nyy8U0bhzNUfN5WrRvz3/GPsjChV/wn/+8WqHz/1PPnn2YMOHRK+4zb96n+PmZeO+9j0ua/tq0ac9tt41gxYqfuPnmiyuPmEz+TJ361lU3tWVlmfnf/2bQqlXp7gmTJ79Q8v9Wq5WIiAgeeugB4uNP0aBBVKl9p09/tySxPH06gUWL5qMoClqtlkOHDtClS9dSsfftO6Dk/9u0aYtWqyU0tE7JdZGRkcEPP3zD6NF3MW7cBAC6dOlGTk42X331JbfddmdJvzir1cr48ZPo3/+6knMWJ2+33HI7N954CwChoaHce+9oDh06yJw5XwDQtWsMGzas488/f6tU8qaqKr+eOQQU3a8q46YGHfghfhd/nDtMdmGB3QmgcE1OT97MZjMmU9kmK5PJRGZm5hWP7dy5MyNHjqRhw4YkJSUxd+5c7r//fhYsWEDHjhXvG/Bver1rDsIt7nhcVR2Q3cnKM/tQKeqU29j/ygMVLldu10W04O2Da9idlkCmLY9gT59SjyvKpb+03L3XSI8evWjWrAXz5n16yeRtz57deHv70L17TwA0mqJ1J/v1u44FC+Zhs9lKap6io5uWSdwAQkJCSxI3gMjIoi/jTp26lGzz8/MrqXUplpR0njlzZrJjxzZSU1MoXnq5efPKfXElJZ3nP/95lh49enHvvQ8AkJ+fz759e5g06fGSiZgBGjSIIjg4hEOHDtLsmg7EHTmKt49Pqf6BJpOJa67pRGzs8Us+37/znPffn1mqGTAkpKiz+Z49u2jUqDGNGxe1LBh1HliNRjp3686ePbsq9VpjYnqUu8/27VsYMGAgOp2upEbQz8+PJk2alhq9C9CtWw+H9JEKCAgok7gBrF79M9988xWnTyeQl5dXsj0hIb5U8tahwzWlagQbNmyM1WolPT2N4OAQmjVrwaJFC5g79xO6d+9J8+Yty22iPHhwP1arlf79B5baft11g1i27EeOHTtC+/YXv0MuV7adOl380Xepa7xoewMSEuKvGA8ULQ/27++eQxlnSchNx0unp3/95mUer8h3Qrvg+jTyDSYuO5W1yUcZ2aB9ubHUZDXle9TpydvlqKpa7o3jscceK/Xvvn37MmzYMGbOnMmnn35aqefVajUEBvqUv6MTmUxGZ4fgVKqqsvLMAQDuatmlwu/Xv8stMNCHtsH12ZeayDbzSe5sVvqmm5+vIyVFW+amOr/3fU6dVNVYiWbT4lGOxa/jwQfH8+yzT7F//+4yj2VnZxEUFFTmJhcaGorVaqWwMB9PTz80Gg1BQUFlvlA0Gg1+fn6ltnt6Fn35BgT4l9ru4eGB1WpBry9alPz5558mJyeb8eMnEBERidFoZM6cWZw/f67kuH/G9c9zabWl36f8/HymTJlMYGAgL7/8Oh4eRQlnbm42NpuNGTPeZcaMd8uUVXJyEvmKlcy0NPwDAsq8vuDgEGJjj1/xR15xmbZo0ZyAgMAyj2dnZxEcHFJyDm8PA1mFBfgFBpCVZS517n9ffzpd6feruDxCQoIv+V5oNBf3zcjI5Ntvv+bbb78uE5Onp1ep44ODy763V3Kp90Wj0RAYWPY8f/31B1OnvsKNN97MhAmPYDL5k5qawnPPPY3NVlhqf5Op9LXk5VV0LdlsVvR6LQ888CA6nZaVK1cwb96nBAYGMmrUbYwdO77U5+Sf10dOTtFUIXXqhJY6d506oSWP6/VatFoNXl5e+PmVvscUv78BAaaS4/X6ohotf39TqXMaDAYKCy2XLUtF0aDVavH39y4zw8KO+KKkr0/9ZtQPLXsdXSyjK38njGp6De/sWsOac4e4r72MOgX3/x51evJmMpkwm81ltmdlZdnd383b25s+ffrwyy+/VDoeRVExm3MrfXxV0um0mExGzOY8bLbaO6HnkczzxGYmY9DqiPFvRHr6lecwulK59anTlH2piSw/vpchoa1LPWaxFKAoCjabWmbNRYMTPzpFi3fbt4C3ohTtX/w6unfvTdOmzfj00zm0a9e+1GN+fn6kpaVhsynodFpsNgVVheTkZPR6PR4eXlitSkmt2L/LRlVVVLV0mRWXu82mlNlfUYr2jY8/xdGjh5k27R169epb8nh+fn6p813uXMXnKTZ16mskJiby2WfzMRi8Sh4zGn3QaDTcc8/99O598XmK+fsHkFNowT8oCHNGZpl4U1NTLvm6oajmTafT/qO8y147AH5+JuLjT5Y8ZtDoS87t52e6uN1goKDAUuocGRmZpZ6/uDz+/fqh+L24uK/JZCImpkepJsZi3t7e/yrPS7/Gy7nU+3K5a+S339bQtGkzJk+eAhSVW3GNY3nv67+fR6vVc//947n//vGcPp3Azz8v47PPPqFu3XAGDx56yfP4+voBkJycQlDQxZr7pKRkAHx8/LBaFRSlqBLhUtds0esqW+b/vl9c6vPw7/0VRSEzM5e8PFupx347dRiAzoFRl7zPVfQ7oV9wM95hDevPHOfY2fOEePledt+aztW/R00mY4VqBZ2evEVHR5fp22axWIiPjy/TF64iim8WV8PVF0e+1BdgbbI6oajWrWedJnhqPCpcFpcqt751mvHRob/YkhxHVn4+Rr3hH/tf/bXkyu67bxz/+c8zZba3a9eBRYsWsHnzJnr27ImqFvU/+/PP32nTpl2FO+vbq6CgAAC9/uLUHOfOnWXfvj1ERjaw61wLFnzBn3/+xttvf1BqFCUUTZnSpk1bTp2Ko0WLiWWOtSkKR8znadisKTk52aXmxTObzfz9947L9nmr6O2nXbsO/PXX78TFnaBRo8Z46TwoyM9n17at9Oreu2S/0NA6nDoVV+rYHTsqP2N+p05diIuLpWnT5lX2PlZEQUFBqfdZVeGXX1Ze9XkjIiJ56KFJ/PTTEk6dOnnZ/Vq2bINer+ePP9bQvPnFaWb++GMNRqOxSqaeKc+/k77swgL2phX1re0a1OiK97nyvhPCvQJoExDO/owzrEo4wB2NpF+4u3+POj156927N7NmzSI9Pb1k6PeaNWuwWCz06dPHrnPl5uaydu1a2ra99BxDwv2pqsqvZ6+uA+8/NfYNoZ7Rn7N5mexIjadXWJOrPqe76N27L9HRTdm5cxtG48UmhKIRqa2ZOvVlHn64aLTpTz/9QELCKZ566tkqiycqqiF16oQxe/ZHKIpCfn4ec+d+QmhoxSYlLbZ3724+/XQmAwYMxNvbh/3795U8Vr9+BIGBgUyc+DiPPz6Bl19+gQEDBuLn50dychLbt2+l/6DBBDRtSMfOXWjWrAWvv/4iDz/8KH5+fsyfP6+k1uZqDB06nG+/XcSzzz7JuHETMBq9mLvgcwoLLNxyx10l+/XtO4Dvvvuali1bExkZxerVP5OaWrE1eS9l7NiHePDBe3nqqUcZMeImgoKCSEtLZdeuv2nfvgPXX1+5EZH26ty5K++++3/Mm/cpbdq0Y8uWTezYsb1S53rhhadp3rwlTZs2x2g0snHjOszmzCsOcAkICOCWW0azePFCDAYDbdu2Z8eObfz00xLGjn2o1OfBWbannsSqKkR6BxLhc/km04oaEt66KHlLlOStJnB68jZ69GgWLlzIxIkTmThxIqmpqUyfPp3hw4eXajadMmUKS5cu5eDBok61O3bsYO7cuVx//fWEh4eTlJTEvHnzSE5O5oMPPnDWyxFV7Kj5PPE5aXhq9fQOa3rV59NoNHQPbcwP8bvYmBxbq5I3jUbD/fc/yIsvlp7kWqfT8b//zeDjjz9g1qyPyMvLJTq6CW+99b5DJjm9HIPBwBtvvMW77/4fL730PHXqhDFmzAP8/feOMp3pr+T06QQURWHNmtWsWbO61GPF87y1bduemTM/Y+7cT5g27TUKCwsJDQ2jU6fOBNUNQwGMeg+mT/8f77wzjbffnoafnx+33DKa5OTzbNq04apeq7e3Dx9+OIePPnqP//1vGlarlejmLZg87U3qRNQv2e+++x4kPT2Nzz//FK1Wy4gRN9GkSVNmzfqwUs8bERHJp59+yaefzuLdd6eTl5dHcHAI7dt3JDr66j9PFTVy5M2cOZPIDz98y9dfL6RLl2689tobPPjgGLvP1bZte/744zcWL16IzWYjMjKKV16ZSufOVx5BPnHiY/j5+bF8+VIWLJhHWFhdHnnkCW6//a4rHlddNl0YTd891DETLV8f3pL/HfyNfRmJJOSkE+mAhFA4j0Z1RDvjVfrn8lheXl4MGzaszPJYzz//PD/++CNHjhQN0T516hSvv/46R44cISMjA6PRSMeOHXnkkUdo165yU0dAUVVqWpprrgOn12sJDPQhPT3Hrat7r8aHh//k8+ObGFC3Be90qlizennl9ue5Izy143sivQNZ1v9iM1phoYXU1LMEB9fDw6N6Z4R3FXq9ttZda6dz0jEX5hPq5Uuol/21bJUts6S8LFIKsgkwGAn3DrD7eHdXG681uPR9RlVVhv85k8TcDN7vfCt9wppd8lh7vxMe2vIV21JO8kiLvoxtUv7o5JrI1b9Hg4J83KPPGxStfTd37twr7jN9+nSmT59e8u+oqKhyjxE1i6qqrLkw59HA8KtvMi3WJaQheo2WhNx04nPSaOATVP5BosZyxLJYleGl05d6flF7xeekk5ibgV6jpXNwQ4edd1C9VmxLOcmvZw7W2uStpnDviU5ErXLYfK5oziOtnl51HNe86aP3pENQ0cz7m5LKnxha1Fw2RcGiFI34u5oF6Suj+PnybVYU5zeICCfanFx0H+oQFIm33nG1/v3rNUev0XLUnMTJ7Mr3nRTOJ8mbcBvFM433DGtSalSoI/QILepfWdzPRNROxbVeeq0WvbZ6R2N6aHXoLsxLViC1b7Va8eoxMQ7q71YswOBN15CiybN/OVPxfqTC9UjyJtyCqqqsuTDKdGC9VuXsbb/udYpukttTTlJgq/w6jsK95ZU0mVZ/H0eNRlOq9k3UToWKje2ppwDHDVb4p4HhRffPX84cdMjUWsI5JHkTbuFg5lkSczPw0nnQs459kzdXRFO/OoR6+pKvWNmVVv5SNqJmynNSf7diF5M3qXmrrXanJZBnKyTI4EMzU9ml565Wv7rN8NDqiMtO4XhWssPPL6qHJG/CLRQPVOhdx/FNpnBhypALtW+bk0tPiiq/TmsPZw1WKFacvDlz+TVRvf59f9lU0mTaCK0D1pb9Nz8Pr5IavV+l6dRtSfImXF6piXnDHd9kWqxbSHHyVnTzLJ6B3mIpqLLnFK7DqtgodNJghWLFz1ugFMqghVqi+P6iuzDauKr6u/3TIGk6dXsuMVWIEFdyIOMMZ/MyMeo86FEFTabFuoY2QgMcy0oiOT+LUC8/jEZfsrPTATAYPO1eEN7dKYqmxi8TVizHWoDGZsNDp0OxWVFs5R9zKVdTZhpVRacoKKpKbkEunk5KIp2hNl1rUPSj1GIpIDs7HaPRF61WS2pBNkfM54GqTd56hzXFU6snITedw+ZztPSvV2XPJaqGJG/C5RXXuvUKa1qlzVmBBm9a+NflUOY5tqacZFhEW0ymojnfihO42kar1aIorjeRZVXIKiwgrzAf9AZS8y2VPs/Vlpk1P4cCxUpSXp5Dp4lwdbXpWvsno9G35D5T3GWjhSmMIE+fKntOH70nPes04fdzh/n1zCFJ3tyQJG/CpSmqWtIvY3AVNpkWiwltzKHMc2xJPsGwiLZoNBr8/YPx8wvEVstGAOp0Gvz9vcnMzK0VNSKz9v7MzrQEHmzSg6HBlav1cESZLTu+iWWn9zIkvDXjm/Wq1DncTW271orpdHq02ou9ly42mVZdC0OxQeGtLiRvB3msRb9a16rg7iR5Ey5tT/ppzudn4av3pHs13NBiQhrz+fFNbEmJQ1HVkg7DWq0Wrbb21IJA0TIyXl5e5OXZXHIZGUdSVZX1qSdJt+TSOKBupZdDc0SZNfSvQ2JsFhvTTjLJY0ClzuFuatO1djmKqpYkb1UxRci/9QxrglHnwZm8TPZnnKFtYP3yDxIuQwYsCJf2S+IBAPrVbY6nrup/a7QLrI9R50FqQQ7HspKq/PmEazibZybdkoteo6V5FUzPYI/2gREAHDWfJ9da+eZb4V6OmM+RbsnFW2egfVBElT+fUedB77CmgEzY644keRMuy6oorDl7GLg4OqqqGXR6OgVHAbBFVluoNQ5knAGgqalOtfxIuJIwo4kwLz9sqloSl6j5iqcI6RQShUc1re5RfF9dc/aQjG52M5K8CZe1I/UUaZYcAjyMdAlpWG3P2y300vO9iZprX0YiAK1cpON2ce3b3vREJ0ciqsvmpOprMi3WPTQaX70nSflZ7Ek/XW3PK66eJG/CZf1ypqjJdEC9FtX2SxQu3jx3pcXLZKm1xO60oi+uDkGRTo6kSLsLyZt8odYOOdaCkve6KqcI+TdPnZ6+dZsB0nTqbiR5Ey6pULHx+7kjQPU1mRaL8gmirtGERbGxK1WWyqrp8m2FHMo8C0CHwKrva1QR7S90Ht+bniiTqNYC21NOYVUVIr0DaeATVK3PXbxW9O9nD2FTa+dgEXckyZtwSVuST5BVmE+Ipw/XBDeo1ufWaDTEFK+2kCJNpzXdwYyzWFWFEE8f6nsHODscAJr718VTqyezMI9TOWnODkdUsepYVeFyuoU2wuThRUpBDn/Lj1W3IcmbcEkrEvcDcF29lug01X+ZFt9EZdBCzbf7QnNV+8BIl5nrykOro1VAUf87aTqt+ZyZvHlodfSv2xyQplN3IsmbcDmZljz+utBkOiKynVNi6BLSEA1wPCuZpDyzU2IQ1WNPWgIAHaphegZ7FA9a2JMmyVtNlpCTTkJuOnqNls4hUU6Jobhryu/njmCthatcuCNJ3oTLWX3mABbFRjNTHVqY6jolBn+DkdYB4QBskabTGktRVfZcGNHpKv3dirW70O9Nat5qtg1Jx4GiZN1H7+mUGDoFNyTQ4E2GJZfNybFOiUHYR5I34XJ+StgDwMiI9k5txuoW2giQKUNqsmNZSWQW5mHUedDc3zk/FC6neOTriewUUguynRyNqCrFyVuvsCZOi0Gv1XJD/TYA/BC/y2lxiIqT5bGESzmSeY5DmefQa7QMiWjj1FhiQhrz2bGNZZbKqmqHMs/y65lDHM9KQlWhhX8YvcOa0TYg3GX6ZNUU21JOAnBNUINqnY6mIgIN3jQz1eGoOYntKacYXL+1s0OqUVRVZUfqKdYnHSc2K7lodQ3/ugyp35pGviHVEkOe1cKO1FMA9KzjvOQNYFRUR76K28b688dJyjNTx2hyajziyiR5Ey7lp4S9APSt24xAg7dTY2kbWB8fvYEMSy5HzOdoWcUTuKYV5PC/g7+x8sJgjWIbk2OZe3wTXUIaMrnV9TQ11anSOGqTbReaxKtzEmh7dA5uyFFzEttSTkry5kB70k/zzoE17P/XChbrko7z2bEN3BZ1LY+27FflzZjbUk9iUWyEG/1pXE0J4+U08g3hmqAG/J0Wz9KEPYxv1sup8Ygrk2ZT4TLybIX8nLgPgBER7Z0cTdEorM7BDYGqbzqNzUrmjvVzWZm4Hy0aBoa34sW2Q3ix7RAGh7fGQ6tjW8pJ7tkwj2UXmpXF1SlUbPydWjRYoauLJm/FcW1PPenUOGoKVVX5MnYzD2ycz/6MMxh1HoyIaMfL7YbyQpvB9A5rigp8c2on92yYx/kqHqy0/vyFJtM6TVyiVn1Ug44A/JiwW+Z8c3FS8yZcxqrT+zEX5lPfO4Dudap/yPylxIQ24q/zR9mQdJwHmnSvkuc4Yj7Pw5u/IqMwj4Y+wUztOKJksATAqKhrSMzNYPr+1WxIiuWVPStIyElnYvM+LnHDd1cHMs6Sa7MQ4GGkqZMXo7+ca4IboNdoOZ2bwZncDMJdZB46d2RTFd7Yu4ofE3YDMCS8NU+1uo4QL9+SfW5reC1bU+J4Zfdy4rJTuX/TfD6LubtKyl1V1ZL+bj2c3GRabEC9FvzfgV84l2dmU9IJp/bDE1cmNW/CJaiqytcntwNwe8NOTpnb7VJ6hTUFiqZrSCvIcfj5k/OzeHzbN2QU5tHavx7zetxbKnErVt87gA86387DF5oyPju+kfcP/SGz71+F4ibTTiFR1daf0V4+ek8Z9ewAiqryyu4V/JiwGy0aXmgziDc6jiyVuBXrGtKIeT3GEOUTxNm8TB7f/i3ZhQUOj+lYVhLn87Pw0uqdNkXIv3nq9AyPKJqeafGF+7FwTa7xDSlqve2ppzielYxR58GNkc5vMi1Wz+hPS/+6KKisPX/MoecuVGw8veMHzudn0dAnmFnd7iTgCv38tBoNDzXrzfNtBgEw/8QWvozd4tCYapP1F2o9ilfTcFXFE7duuNDEJuz34eE/+TlxH3qNlunX3MRtDTtdsda6ntGfOd3uIsTTl+NZyfxn908O/6FUfP11DmmIl87Doee+GqMbdkKLhk3JJzhqPu/scMRlSPImXMK845sAGBHRDj8PLydHU1q/C7OPF08c7CizjqxjX0YiJg8v3u98W4Vf9+0NOzG51fUAfHD4D34+vc+hcdUGyflZJZ3Ve1+oXXVVfS/EtzkljnxboZOjcT9L4nfxRexmAF5tP4zrw1tW6Lg6RhPvdboFg1bHuvPHWHxyh0Pj+v3sYcD1rr8In0AG1GsBwIITW50cjbgcSd6E0+1LT2RLShx6jZZ7o7s5O5wy+oU1A4qarXKsjmk+2ZF6ii9iixLWl9sNJcrXvsWo72rchXsadwXg1T0rSqa8EBWz7kItatuA8Es2nbmSZqYw6nqZyLcVyvtsp60pcUzbtxqA8U17MjSirV3Htwmsz5MtBwDw/qHfic1Kdkhcp3PSOZR5Di2akqWpXMm9F+4tqxMPcCY308nRiEuR5E043WfHNwIwNKKNS3bIjvYLJdI7EItiK/nSvxr5tkJe3/MzKjAysn3Jr1x7PdFyAIPCW2FVFSbv/IG47JSrjq26FCo2jmSeY+Xp/Xwdt51Fcdv55cxBTmSlVEs/vuIm8D4XEnNXptFo6HOhdmbt+aNV/nw2VSnz3qw5c4hj5iQUN+pjeSIrhck7fsCqKgwOb83DzXpX6jy3N+xEzzrRWBQbr+1Z4ZBRmGvOHgKK+lsGefpc9fkcrU1gfbqENMSqKnx6bL2zwxGXIKNNhVPtSktg3fljaNFwf3TVjOa8WhqNhsH1W/PpsQ38fHo/Q+pf3eTBc45uICE3nTpefiXNn5Wh1Wh4rf1wzuWZ2ZN+mse2fcP8nvc7fX68y7EqCuuTjrHi9D62JMeRa7Nccr8QTx+GRbTj1qhrCff2d3gcuVYLWy90/u/jYk1Wl9OnbjO+ObWTdeePYVOVKhnQcyo7ja/itvLb2cOkW3IvuY+fhxd9wpoytH5bOodEuczAon9LK8jh8e3fkG0toH1gBK+2H1bpkdkajYaX2t7AqLVz2Jdxhm9P7uSORp2vKr7i5G1gvYo14TrDpOZ92ZbyBctP7+W+6O52tw6IquWanzxRKyiqyrsHfwPgxgbtifINdnJElzf0QsK2JeXEVS1VdNR8nvknivrfvNBmML4eVzcJqKdOz7udbqG+dwCnczN4avt3WGzWqzqno1lsVubHbmHoHx/x1I7v+ePcEXJtFvw8vLgmqAHX12vJ9fVa0iEwAk+tnpSCHL6I3cyNf83ivYO/k2u9dJJXWb+dPYxFsRHpHUi0X6hDz11Vrg1qgJ+HFykFOWx3cNNppiWP1/f8zM1/zea7U3+TbsnFV+/JNUENGHjhvWkfGIG3zkBWYT4rTu9jwtZFjPxzFt+f+psCF7veCmxWnt7xPadzM6jvHcC7nW7BU3d19RR1jCYebdEPgI8O/8W5q5j/7WR2Kocyz6HTaEr607qidoH16V2nCTZV5aMjfzo7HPEvUvMmnGZ14gH2Z5zBW2dgQrM+zg7niqJ8g2kTEM7+jDP8kniQOxt3sfscNlXhv3tXYlNVBtRtQd+6jmmyC/L0YUbn2xmz8Qt2p5/mtb0/M7XDCKfPAaeqKn+eO8J7h37ndG4GAAEGb0ZGtGNgeCta+NctM0WHxWZlY3Isi+K2syP1FPNPbOHPc0eY2nFkyULtV2vF6aJVPIZHtnN6GVWUQadncHgrvjv1N8tP76NbqGNGyG5OPsGLu5aRZimaBqdXnSbc0agznYKjyiwXZlUU9mUk8vPpffx69hCJuRm8sW8Vc46uZ0LzPoyIbOf0mjhVVXltzwp2p5/GV+/JjM63O6xZ8paoa1iZuJ896aeZtn8173e6tVLXz4/xuwHoHhrtkk2m//RIi35sTI7lt7OH2Zx8omTks3A+qXkTTpFWkMPbB9cAcH+TGJfvNA6ULNz80+k9leqX9e3JnezPOIOv3pNn2wx0aGyN/UJ4+9pR6DQaVibuZ86xDQ49v70OZ55j3OaFPL3zB07nZhDi6cPL7Ybyy4BHeaLVAFoF1Lvk3GoGnZ5+dZszp9tdzOh8G3W9TCTkpjN203yWXVg67Wqcyc1ge+opNMAwOzuvO9uIC/Nv/XH28FXPO6aqKnOPbWTS1q9Js+TQyDeEz7vfy4wutxMT2viS67zqtVo6BkXyYrsb+OW6x3im9UDCvPxILsjm9b0/c8e6uWxJPnFVcV2tmUfWsurMAfQaLe90GkVjP8ctOaXVaHip3Q3oNVrWnT/GbxdGi9qjULGx/MKPh5sadHBYbFWlqakOtzfsBMD0/b+4XC1rbSbJm3CKtw78SoYllyZ+oYyJjnF2OBUypH5rvLR6jpqT+Dstwa5jz+Rm8OHhoqaHx1r2o46Xn8Pj6xbaiClthgAw++g6Vv1rjdTqkJKfzat7VnDn+rnsTIvHU6vnwaY9+KnfRG5q0AFDBZuvNBoNvcKa8m2fcQyo2wKrqvDKnuV8ePjPq+o0v/zCtCqdQxpSz+j4/nRVqXVAOI18Q8hXrPx69mClz6OoKv934Fc+OvIXKkVLIn3daywdgyIrfA6jzoM7G3VmWb+JPNXqOvw8vDiWlcSErV/z+PZvOZWdVun4Kuu7UztLBj/9p+0QuoY0cvhzRPuFcv+FlVb+78AvZFry7Dr+r3NHSbfkEuLpS6867tHf8uFmvQnx9CE+J63kHiacT5I3Ue2WnNrFL2cOokXDq+2HXfJXvisKMHiXTDWwKG5bhY9TVZWp+1aRZyvkmqAGjGpwTVWFyM1RHbm3cdF0K6/sWcGO1FNV9lz/VGCzMvf4Rkb+OYufEvagAoPDW/Njv4eZ1Lwv3npDpc7r5+HFW9fezINNewDw+fFNvLR7GYWKze5z5dsK+fbkTgBGusDaufbSaDSMjCyqfVt4YlulkthCxcaLu37imwtzlj3XeiAvtruh0n3CDDo99zTuyrJ+E7ijYeeSWqlb1n7CB4f+qJKVCS7l97OHmb7vFwAebtaLG6uwVmtskx408g0mtSCnpM9uRfxzFZkbI9uj17rH16+fhxcvtxsKwFdx20qW9BLO5R5Xj6gx9qUnMv1A0U12QvPel1wKypUVjzL789wREnLSK3TM8tN72Zx8Ak+tnpfb3VDlSzE91rIf/cKaUajYeHTbNw7v4P5Pqqqy5swhbv5rNh8d/otcm4U2AeHM6z6Gadfc6JDaLa1Gw6TmfXm9w3D0Gi0rE/fzxPZv7R7I8GP8btIsOYQb/Ss8UaurublBR3z1nsRlp/CHnZNG59kKeWrHdyXNim92HMnoqxw1WSzA4M2zbQbyTe9xdA9tjFVVSgad/JSwp0qnGFlz5hDP//0jCio3RrZnfNNeVfZcUDRI6JX2w9AAy07vZVNSbIWO25F6il1pCXhoddwaVXU/4KpCr7CmjL7QfDpl108Om+9OVJ5GdYHFEePi4pg6dSo7d+7EaDQydOhQJk+ejJdX+TPO//jjj3zyySckJiYSFRXFpEmTGDJkSKVjsdkU0tIcv4alI+j1WgIDfUhPzyE9L5dj5iSOZyVxJjeTjMI8sgrzAdBptJg8vAj18iXU04/6PgE09avj9M6xR8zneWjzV2QW5tEvrBnvdLqlWtaU/Ge5Wa1XP0fTpK1fsyn5BIPCWzH9mpuuuO+Z3ExGr/+MrMJ8Hm/Rn/uaVE8Tcb6tkKd3fM+m5BN4afW82/lWuzsbl1du+9MTeffQ7+y60IRcx8uPx1v0Z3D91lX2vm5IOs4zO5eQbyuktX89ZnSpWId0i83KiD9ncj4/iyltB3Nr1LVVEp+jr7VLmXlkLZ8e20ALUxiLeo2tUKf5rMJ8Ht/+LbvSEvDS6nnr2lFVtui4qqqsTzrOOwfWkJBb9AOnlX89nm0zkPaBEZc8prLltipxPy/tXoZNVRlavw2vth9ebTVabx/4lUVx26nrZWJx7wfxNxivuP+DmxawMy2e26Ou5fm2gx0SQ3Vcb8UKbFYe2vIVe9JPU8/oz9zu9zi164GqqpzNM5OQm0ZCTjqJuRmYC/PIKiwomU7HqPOgjpcfYUYTTU11aG4Kw9fTs9rKrDKCgnzQ6cq/hp2evJnNZoYNG0Z4eDgTJ04kLS2NadOm0atXL955550rHrt69Woef/xxxo8fT48ePfjtt99YuHAhn332GT179qxUPK6avKmqyqGsc2xKP8FfCUc4mHEWe9+4IIMPTfxCaeYfRiv/urTyr0ekT1C1JFB/p8bz9M4fyLDk0jagPrO63YGP/uqmyagoR9/gDmee4871c1GBz7vfe9m+QoWKjQc2zWd/xpmS2qjqbCopsFl5ZucPrE86jk6j4ZnWA7kt6toKj5C7XLnFZafw8eG1/H6uqMO2l1bPfU1iuLdxN4yVbB61x770RB7b9g0ZhXlE+QQxs+sd5U7uPPfYRj468hehnr4s7z/pqqeOuJzq+DLNsOQy9PePybVZeK39cEZcaEq9nPN5Zh7ZtpjjWclFIzC73G5X/7bKKlRsfB23nTnH1pNzoZZ0aP02PNqiH2FGU6l97S03RVX59Nh6Zh8tmkB2ZGQ7Xmo3tFpHu+ZZLdy+7jMSctPpXacJ73W+7bL30g1Jx3l02zd4aHUs7zexzOuvrOpM3gDSLbncv/FLTuWkEeblx8dd76i26XaS87M4kHGWAxlnOJBZ9F/zhQqLitJrtLQKqMeQRm3o4h9FI+8Qlxtx7jbJ25w5c5g5cyZ//PEHQUFFkwAuX76cyZMns3LlSqKjoy977JAhQ2jWrBkffPBBybaxY8eSlZXFt99+W6l4XCl5U1WVo+bzrD5zkF/PHORMXullSup6mWhiCiXKJ5hAg3fJ2pg2VSHTkkdyQRbJ+dmczE7ldG76JZM9H72BFqa6tAyoRyv/urT0r0cDByZ0VkVhUdw2Pjz8J1ZVoZV/PWZ3u7Na1y+tihvcf/f+zJL43TQz1WF+j/vLJAOKqvL63p/5KWEPfh5eLO411imrRxQqNl7ds4KVFwYvDKjbgiltB1eoturf5XbMnMT8E1tYlbgfm6qiRcPQiLZMat7HYV9GFRWXncLErV9zLs9MiKcvH3cdTTNT2CX3PWI+z70b5mFRbEztMMLuJZLsUV1fpl8c38wHh//A5OHF170evOxkxrFZyUza+jXn87MI8fTlo66jaX6ZcqoqKfnZfHTkL5Zd6AvpodUxPKIt9zaOKZn41Z5yO5uXWWpJuLsadeGpVtdVy4/QfzuSeY57N36BRbExtkl3HrkwF9w/ZRXmc/u6zzibl8ndjbvydKvrHPb81Z28QdGPgQlbvyYuOwWjzoPJra/npsgODk2CsgrzOZR5jv0ZZ4qStYwznM/PKrOfXqMl0ieQCO9A6nsHlHwP6rVabIpCjs1CUl4WibkZHMo8VzIlTrEI7wCur9eKgeEtaW4Kc4lEzm2St7vvvhs/Pz9mzZpVss1isXDttdfy5JNP8sADD1zyuISEBK677jo++ugjrr/+4iz1P/74Iy+88AKbNm0qSQbt4QrJW0JOOqvPHGBV4oFSSx4ZdR4MbNCKroENuTawAXXs+MLMs1o4kZ3CMXMShzPPcTDzHEfN5ylQyg799tEbaG6qS8sLtXOtAuxP6AoVG7+fPcznxzdxLCsJgIHhrXi13dBqqZ35p6q4waUV5DDqr0/IKMxjWERbXms/vKR8bKrCW/t/5dtTO9Gi4b3Otzp18WlVVZl/YgsfHf4Lq6rg5+HFfdEx3Bp1zRWTaL1ei6evBz8c+pufTu1hy4VVCQD6hjXjkRZ9nTrJbVKemUn/qFF6rf0w+tVtXuoGfCY3g7GbF3Auz0yvOk34oPNtVXqDrq4v00LFxv0bv+RA5lma+IXySbe7SiXkqqryU8Ie/u/Ar+TbCmnkG8xHXe6okhUrKupAxhnePfg7f6fFA6ChaHmy4RFt6RvejLAQ/yuWW1pBDovitvFV3HbybYV4afU833YwIyOdO/jkx/jdvL73ZwAmNOvNuKY9S64xi83Kkzu+Y1PyCcKN/nzXZ3ylB+9cijOSNyiq/X125xK2XxgQ1SYgnHFNe9I9NNru1oWswnyOZJ7nYObZor+MsyXN7f+kRUNjvxBaB4TTOqAebQLCaeJXp8ID3oqbWbeknmBT6gk2nDle6vuvgU9Q0aTU4S1p6lfHaYmc2yRvMTExjBo1ismTJ5faPnToUDp06MAbb7xxyePWrl3L+PHjy9TO7d27l1tvvZWvvvqKTp062R1PVSZviqryzoE1JOVn0SWkIY18g/H18CTfZuV0bjoH0s+wNeUkJ3NSS44xaHX0qtOUQeGt6BvejPDQAId9UK2KQlx2CocufGAqktA1N4VR12gi1MuPUE9fPHV6DFodubZCMiy5JOZmcCDjLJuSY0uqtP09jDzWsp/Df51VVFXd4DYlxfLY9m+wqSrdQxtzb3Q3LDYbX8ZuZmdaPBrg9Q4jXGY+sUOZZ3ll94qSZNpTq6dXWBM6BUcR5ROEv8GITVFILsjmeFYyu9IS2J2eQJ61ECi6eQ6o14J7G3eljYMmzL1aZkseT+z4rqTfXdeQRoyMbE8Dn0D2pJ3m02MbSppXv+gxhoAqXjqsOr9Mz+RmMGbjl6QUZBPm5cf4Zr1obgojPieNr05s40DmWQC6BDfk/669qcpfe0XtSkvgi+ObWPePUYu+ek+61m1EW1M4jXxCCPb0QavRkF6QS1x2KttST7IpKRbrhXVFOwZF8kq7YS6zZNOXsZt5/9AfAPQOa8odDTtjVW3MObqBfRmJeGr1zO1+j8MHaDkreYOi77OFJ7Yy6+g68m1F94gQTx+6hjSmVUA96hlNhHr6otVoUVExF+aTVpBDakEOCbnpnMpOJS47lZTLrFgTbvSnTUD4hWQtnJb+dR2S+BaXWWJyOn+dOcqvZw6xIal0ItfIN5iedZrQ0r8edY0mPLV6sq0FHDcn4aXz4KYGVfdd5jbJW+vWrUv6rf3THXfcQXBwMB999NElj1u2bBnPPPMMGzZsIDT04q//U6dOMXDgQGbOnMmAAQPsjsdmUzCb7Zu7p6IKFRs9fn6bvAsX+uVo0dCtTiNuiGjDgHotSpZQ0um0mExGzOY8bLaq+aBaFYUTWckczDjHwQv9C45kXjqhK0+wpw+3N+rEHY07OfWLoyrLbfXpA7z497Iy5eOl0/Nqh2EMjXSNxK2YTVX4OWEf845t5ngFR4xF+gQyNKINIxq0J9InsIojtF+BzconR9Yx79jmki/3f2rpX5cZ3W6nbjU07VbHZ/Sf4rJSeHTLN5zKKTuvmlHnwUPNe3Ff0xinr3xwKbHmZH6K38PPp/eTdIkmsUtpExDOuOY96Ve3mUs0cf3TV7HbeGf/mjLXoK/ek3e73EJMHcevTlDd19ulpORnM+/YZpYl7CHDznnvioUb/WkdWNTKU/xXVd8ZlyqzXKuFv84d5ZfEg2w4fxxLOVMRrbz+kSq7F5pMRvdO3kaPHk1oaCgffvjhJY8rTt42btxISMjFWbRPnjzJoEGDmDVrFv3797c7HlVVq/SmcCIzheVxe9h2/iQJ2enkWC146fRE+AbSLCCMHvWiianbGH/PK49cqk5WxcaxjGT2pZ7maEYS53LNnM3JJCU/mwJbIRabDW+9gQBPb+p6m2gdXI8e9ZpwbWgDdG4yl9HVOJaRxMd7/2Lb+ZPotVp6hjdhQpveRPq5Rq3Apaiqyu6U06xNPMrOpHgSc9LJtOSj02gINfrR0C+YTnWi6Fq3ES0D67rcF+WlxJlT+P743/waf5D0glwifQMZ2bgDdzbrXOHJgd1RbqGFLw5v5ueT+ziXa6aO0Y/+Ec25v2V3Qoyuv3KJTVHYl5rItvMn2ZF0ivisNFLzc1BQCfT0poFvINfWiaJ/RAtaBtV1drhXdCT9PJ/sX8fW8yfRAD3Dm/BIu75E+Lrejx5Hs9isbDkXx5ZzJziWmcSZnExS8rJRL/S2NhmMhHj5Emz0IdI3kCb+oUT71yHaPxSTofr6QJcny5LPbwmH2ZF0koNpZ0nKy6LAZsXHw5Mm/qH0rd+Mu5p3QevkH0ROT95csdm0qmrerpYr/MpyR1JulSPlZj8ps8qRcqscKTf7uXqZVbTmzek/R6Ojo4mNLT3JocViIT4+nlGjRl32uMaNi6qgT5w4USp5i42NRaPRlDxeGa4498s/2WyKy8foiqTcKkfKzX5SZpUj5VY5Um72c/cyc3qbVu/evdmyZQvp6RdHl6xZswaLxUKfPn0ue1xkZCSNGzdm5cqVpbavWLGCdu3aVWqkqRBCCCGEq3N6s2nxJL3169dn4sSJpKamMn36dHr27Flqkt4pU6awdOlSDh68uCDzqlWrePLJJ3nooYfo3r07v//+O/Pnz7+qSXpVVUVRnL7oxGXpdFqXrOp1dVJulSPlZj8ps8qRcqscKTf7uXKZabWaCvUxdnqzqclk4ssvv2Tq1Kk8+uijeHl5MWzYsDJ94BRFwWYrPQJkyJAh5OfnM3v2bObOnUtUVBTvvfdepRM3KFr8Wadz7c7ZFWkPF2VJuVWOlJv9pMwqR8qtcqTc7OfuZeb0mjchhBBCCFFx7p16CiGEEELUMpK8CSGEEEK4EUnehBBCCCHciCRvQgghhBBuRJI3IYQQQgg3IsmbEEIIIYQbkeRNCCGEEMKNSPImhBBCCOFGJHkTQgghhHAjkrwJIYQQQrgRSd6EEEIIIdyI0xemF5X3+eefs2zZMk6fPo3VaiUyMpLbb7+du+66C41G4+zwXJLNZuPzzz9n7dq1HD9+HJvNRrNmzXjkkUeIiYlxdngua+PGjSxZsoQ9e/aQkJDAXXfdxcsvv+zssFxKXFwcU6dOZefOnRiNRoYOHcrkyZPx8vJydmgu69SpU8ydO5c9e/Zw7NgxGjduzIoVK5wdlktbtWoVy5cv58CBA2RmZhIZGckdd9zB6NGj0WqlPuZy1q9fzyeffMLx48fJzs4mLCyM6667jkceeQQ/Pz9nh2c3Sd7cWFZWFsOGDaNp06Z4eHiwefNmpk6dSnZ2Ng8//LCzw3NJ+fn5fPLJJ9x4442MHTsWvV7Pjz/+yP3338+sWbPo16+fs0N0SevWrePQoUN07tyZzMxMZ4fjcsxmM2PGjCE8PJwZM2aQlpbGtGnTyMjI4J133nF2eC7r2LFjrF27lvbt26MoCqqqOjsklzdv3jzCw8N59tlnCQ4OZuvWrbzxxhskJCTw3HPPOTs8l5WZmUnHjh0ZM2YMJpOJY8eO8eGHH3Ls2DE+//xzZ4dnN40qn5Ya5emnn2b//v388ssvzg7FJdlsNrKzs/H39y/Zpqoqo0aNwsfHhwULFjgxOtelKErJr/r+/fvTt29fqXn7hzlz5jBz5kz++OMPgoKCAFi+fDmTJ09m5cqVREdHOzlC1/TP6+r5559n//79UvNWjrS0tJJrrNi0adP4+uuv2bFjBwaDwUmRuZ9vv/2Wl156iXXr1hEWFubscOwidaw1TGBgIIWFhc4Ow2XpdLpSiRuARqOhRYsWJCUlOSkq1yfNMVe2bt06YmJiSn2pDho0CIPBwNq1a50YmWuT68p+/07cAFq2bElBQQEZGRnVH5AbCwgIAMBqtTo3kEqQT04NYLVaycnJ4a+//mLp0qXce++9zg7JrSiKwq5du6R2RFRabGxsmevHYDDQoEEDYmNjnRSVqC127txJQEAAwcHBzg7F5dlsNgoKCjhw4AAff/wx/fr1o379+s4Oy27S583NnTp1ioEDB5b8e8KECdx3333OC8gNLViwgLi4OF5//XVnhyLclNlsxmQyldluMpmkj6CoUvv27WPJkiVMmjQJnU7n7HBcXr9+/Th//jwAvXr14t1333VyRJUjyZsLycrKqlDTXWRkZEm/hnr16vH999+Tm5vL9u3b+fTTT9FqtTz22GNVHa7LqEy5Fdu2bRtvv/02DzzwAJ07d66qEF3O1ZSZqDhVVWXkt6gyycnJPPbYY7Rt25Zx48Y5Oxy3MGfOHHJzczl+/DgzZ87k4YcfZt68eW6X+Ery5kLWrFnDCy+8UO5+S5cupWXLlkBR00zbtm0B6Nq1K97e3rzzzjvccccdhIaGVmm8rqIy5QZw+PBhJk6cyHXXXcczzzxTlSG6nMqWmbg0k8mE2Wwusz0rK0ua40WVyMrKYty4cXh5eTFr1iw8PDycHZJbaNGiBQDXXHMNrVq1YtSoUaxZs4bBgwc7OTL7SPLmQm6++WZuvvnmqzpH69atsdlsJCYm1prkrTLlFh8fz4MPPkirVq146623al3tiCOuNXFRdHR0mb5tFouF+Ph4Ro0a5aSoRE1VUFDAhAkTSElJ4ZtvviEwMNDZIbmlli1botPpiI+Pd3YodpMBCzXMzp070Wg0REREODsUl5WcnMwDDzxASEgIM2fOlGZBcdV69+7Nli1bSE9PL9m2Zs0aLBYLffr0cWJkoqaxWq08/vjjHD58mM8++8wtO9u7il27dmGz2dzy+1Jq3txUcZX5iBEjiIqKwmq1smXLFhYsWMDtt99OSEiIs0N0Sfn5+Tz44IOkpqby/PPPc/z48VKPd+jQwTmBubjExET27dsHQF5eHvHx8axevRrA7ZobqsLo0aNZuHAhEydOZOLEiaSmpjJ9+nSGDx8uzaZXkJeXVzKVSmJiItnZ2SXXVZcuXS45LUZt9/rrr/Pnn3/yzDPPkJ+fz+7du0sea9KkCb6+vs4LzoU98sgjtGnThubNm+Pl5VWS/DZv3pzrrrvO2eHZTSbpdVMWi4VXXnmFnTt3cv78eby8vGjQoAGjR4/mxhtvdLvOl9Xl9OnTDBgw4LKPHzlypBqjcR9Lliy5bB85KbMi/1wey8vLi2HDhsnyWOW40udx/vz5dO3atZojcn39+/cnMTHxko9JmV3enDlzWLlyJfHx8aiqSv369bn++usZO3asWya8krwJIYQQQrgR6fMmhBBCCOFGJHkTQgghhHAjkrwJIYQQQrgRSd6EEEIIIdyIJG9CCCGEEG5EkjchhBBCCDciyZsQQgghhBuR5E0IIYQQwo1I8iaEEEII4UYkeRNCCCGEcCOSvAkhhBBCuBFJ3oQQQggh3Igkb0IIIYQQbkSSNyGEEEIINyLJmxBCCCGEG5HkTQghhBDCjUjyJoQQQgjhRiR5E0IIIYRwI5K8CSGEEEK4EUnehBBCCCHciCRvQgghhBBuRO/sAFyNqqooilrh/bVajV37CymzypAys5+Umf2kzOwj5WU/KbMr02o1aDSacveT5O1fFEUlLS2nQvvq9VoCA30wm3OxWpUqjqxmkDKzn5SZ/aTM7CdlZh8pL/tJmZUvKMgHna785E2aTYUQQggh3Igkb0IIIYQQbkSaTYUQoopotRq02vKbQOylKPb1zRVC1CySvAkhRBXQajUEBvpUWfKWnp4jCZwQtZQkb0IIUQWKa932n88k12Jz2Hm9DTrahPnLqD0hajFJ3oQQogrlWmxkWazODkNUAZvNhsViwWaTkZMVoSga8vN1WCwF2Gy174eHTqdHq3XMUANJ3oQQQgg7qKpKenoKZ8/mSOJmp5QULYpSe8vMaPTFZAqq0FxuVyLJmxBCCGEHszmNvLwc/P0D0ekMV/1FXJvodJpaWeumqioWSwHZ2ekA+PsHX9X5JHkTQgghKkhRbOTlZePrG4ifn79MNmsnvV5ba8vMYPAEIDs7HT+/wKtqQpV53oQQQogKstmKBp8UfxELYY/i68Zmu7p+sJK8CSGEEHaSplJRGY66biR5E0IIIYRwI5K8CSGEELXQ3Lmf0LNnJ3r27ESvXp0ZNKgPY8aM5t13/4+TJ+NK7fvII+N59tknKnzuv//ewfz5n9sVT8+enVi0aEGln/NKjh07wty5n5Cfn19q+99/76Bnz04cPnzQIc9TXWTAghBCCFFLeXp68sEHswHIy8shNvY4y5b9yPLlS3n++ZcYNOgGAJ5++nl0uorX9+zatZPFixdy770PVPiY2bPnUbduPfteQAUdO3aUefM+ZdSo2/Hy8irZ3rx5C2bPnkdUVKMqed6qIsmbEEIIUUtptVratGlb8u/Onbtx00238uyzTzB9+n9p06Yd9etH0KhR4yqLoaCgAE9Pz1JxVBcfH1+nPO/VkmZTIdyETqdFr3fsX1WsuymEcG+enp488cQzFBYWsmLFT0DZJsykpPO89NLzDB8+kP79u3PrrSOYMeN/QFFz7Lx5n5KXl1fSLPvII+MB+PTT2Vx/fS8OHtzPQw/dT//+3fnhh2+Ass2mxVatWsFtt42kf/8ePPLIeOLjT5Y8dvbsGXr27MSff/5W6ph33/0/brllOAArVy7nzTdfA2DYsOvo2bNTyWOXajYtKCjgww/f48Ybh9CvXwz33ns7v/66utT533jjVe655zb+/nsH999/J9dd15Nx4+7l8OFDdpd3ZUjNmxAuTqPRoKoqJpPR4eeWBc6FcAxVhdxc5zy3tzc4evBro0aNCQ2tw/79ey/5+NSpr5CSkswTT0wmMDCI8+fPceRIUeIyfPiNJCcnsWbN6pImWR8fn5JjCwsLef31l7jttjt56KFJ+PmZLhvHkSOHSUw8zcMPPwrAp5/O5KmnHmXRoh8wGAwVei0xMT0ZM2YsX345l//970N8fHwxGDwuu//rr7/I5s2bGDduAo0bR/P777/y+usvoig2Bg8eWrJfWloqH3zwDnfddR8+Pj7Mnv0hU6ZM5ttvf0Kvr9r0SpI3IVycVqtBo9FwICmTnAJZ4FxULXv6NVWUoqg1+hpTVRg2zJvt23VOef4uXawsX57n8ASuTp0w0tJSL/nYoUMHeOihSQwYMLBk25Ahw0qOCw2tU6ZJtpjVamX8+En0739duTGkp6fx0UdziIxsAEDTps24665bWLVqBSNH3lyh1xEYGEj9+hEANG/ekoCAgMvue/z4Mdau/ZOnnnqOm2++FYCuXWNISUnms89ml0rezGYzH344h8aNowEwGAw8+eQkDhzYT/v2HSoUW2VJ8iaEm8iRBc5FFZIa3quj0dS816aq6mXnJWvWrAVff70QnU5P585diYiItOvcMTE9KrRfo0bRJYkbQGRkAxo1iubAgX0VTt7ssWfPLgAGDLi+1PbrrhvEm2++xvnz5wgLqwtASEhoSeJWFGtRv8Dk5PMOj+vfJHkTQgghNbxXQaOB5cvzalSzKUByclKpxOmfXnttGnPmfMycOTP53/+m06BBFA89NIk+ffqXe14vLy+Mxor9SAgMDLzkttTUS9cIXq2sLDM6nQ5//4BS24OCitYiNZvNJcmbr69vqX30+qKmWIvFUiWxlXquKn8GIYQQbkNqeCtHo4F/dOtyeydOxJKcnFTSFPpvISEhTJnyCoqicOTIIb78ci4vv/wCixb9UNJEeTn2rDKQnp5+yW3Nm7cAKOn3VlhY+po1m80Vfo5/Mpn8sdlsmM2ZmEz+JduLm49Npsv3z6tOMtpUCCGEECUKCgp4//23MRgMDB9+4xX31Wq1tGzZmnHjJmKz2UhMPA2Ah4eHQ2qg4uJiSUiIL/l3QkI8cXGxtGrVBoDAwCA8PDw4deripMIWi4W9e3eXOs/FWrGCKz5fu3YdAPjjjzWltv/++xrq1q1XUuvmbJWuebNYLBUe6SGEEEII16MoCvv37wMgLy+XEyeKJuk9cyaRKVNeoV698DLHZGdn89RTjzBo0A00aBCF1Wrl+++/wdfXj2bNimrEoqIaYbPZ+Pbbr2nbth0+Pj40aNDQ7vgCA4N4/vmnePDBh1FV+OyzWYSEhJbUCGq1Wnr37ssPP3xLREQk/v4BfP/94jLnadiw6LmXLPmOXr364uXlRXR0kzL7NWnSlL59+/Phh++Rn59Po0bR/PHHGrZu3cSLL75md/xVpdLJW+/evbn11lu54447CA8v++YKIYQQwrUVFBTw8MP3o9FoMBq9qVu3Ltde25k333yHqKiGlzzGYDAQHd2EH374hvPnz+Hp6UWLFi15772PSkZy9ujRi5tuupWFC78gPT2N9u078tFHc+yOr3nzFvTp05+ZM2eQmppCq1ZtmDz5BTw9PUv2eeKJZ3nrrTd4//238fb24c477yUiIpJNmzaU7NOsWQseeGA8K1b8xKJF86lTJ4zvv19+yed86aX/MmfOTL7+eiGZmRlERjbg5Zf/y8CBQ+yOv6poVFWtVA/SF154gVWrVlFYWEjfvn25++67iYmJcXR81c5mU0hLy6nQvnq9lsBAH9LTc7BalSqOrGaQMrOfp6cek8nIttNpZBU4ri+Sn0FPl8igGvleuMJ1VhzDtoQ0h/Yhq6r3Ta6ziikstJCaepbg4HoYjV414jVVJ71eW6vL7J/Xj4dH2dbLoCCfCk3XU+k+b9OmTWPt2rU88cQTHD58mAceeIAhQ4awcOFCsrOzK3taIYQQQghxBVc1YMHf359x48bx22+/8dFHH1GvXj3eeOMNevfuzeuvv05sbKyj4hRCCCGEEDhotKlGo2HAgAFMnjyZzp07k5uby6JFixg2bBiPPvpolc3HIoS4erJmqhBCuJernufNarWyevVqvvrqK3bv3k29evWYPHkyN9xwA7///jszZ87k2WefZe7cuY6IVwjhIAadVmbUF0IIN1Tp5O38+fMsXryY7777jpSUFDp16sT777/P9ddfj1ZbVKF3zz33EBYWxjPPPOOwgIUQjqGXGfWFEMItVTp569+/PzqdjqFDh3LvvffSsmXLS+4XGRlJcHBwpQMUQlQtmVFfCPtVcqIGUcs56rqpdPI2adIkRo8eTVBQ0BX3a9myJX/88Udln0YIIYRwGTqdDiiaqd/b2/FdDkTNVrzCg053db3WKn10eHj4Zdcny8jI4K+//uLGG2+s7OmFEEIIl6PV6jAafcnOzkCn06DTGexaq7O2UxQNNlvtq7VUVRWLpYDs7HSMRt+S7mWVVenk7YUXXuCbb74hMDCwzGOnT5/mhRdekORNCCFEjWMyBaHVasjOzsBmq70TzlaGVqtFUWpvmRmNvphMV26xrIhKJ29XarctKCgoqVoWQgghahKNRkNgYAgmUwQpKWZJ4CpIp9Pg7+9NZmZurax90+n0V13jVsyu5O3MmTMkJiaW/PvgwYMUFBSU2ic/P59vv/2WevXqOSRAIYQQwhXpdDoMBkOtXu7JHnq9Fi8vL/LybFJmV8mu5G3JkiV89NFHaDRFUwy89tprZfYprpH7z3/+45gIhRBCCCFECbuStyFDhtC0aVNUVeWJJ57gqaeeIioqqtQ+BoOBpk2bEhER4dBAhRBCCCGEnclbdHQ00dHRQNHC9H379r3kgAUhhBBCCFE1Kj1g4aabbnJkHEIIIYQQogLsSt4++ugjbr31VsLCwvjoo4+uuK9Go2HSpEkVOm9cXBxTp05l586dGI1Ghg4dyuTJk/Hy8rrsMdnZ2cybN49169YRFxeHXq+ndevWPPXUU7Ru3dqelyWEEEII4TbsTt569+7t0OTNbDYzZswYwsPDmTFjBmlpaUybNo2MjAzeeeedyx535swZvvnmG0aNGsVjjz2G1Wpl/vz5jB49msWLF0sCJ4QQQogaya7k7fDhw5f8/6uxePFizGYzS5cuLVlqS6fTMXnyZCZMmFDSx+7fIiIiWLNmDUbjxeVJunfvzoABA1i4cCHTpk1zSHxCCNeh1WrQasufzV6n05b6b3kURUVRat+8U0II93R1i2s5wLp164iJiSm1RuqgQYOYMmUKa9euvWzy5u3tXWabp6cn0dHRJCUlVVm8Qgjn0Go1BAb6VCh5K2YyVWztSUVRSU/PkQROCOEWKp28FRQUUFhYiK+vb8m2lStXcvDgQbp370737t0rdJ7Y2FhGjRpVapvBYKBBgwbExsbaFVNubi6HDh1i5MiRdh0nhHB9xbVu+89nkmuxXXlnDeh1Wqw2BcrJx7wNOtqE+aPVaiR5E0K4hUonb8888wze3t5Mnz4dgPnz5/Pmm28CMHfuXGbPnk2fPn3KPY/ZbMZkMpXZbjKZyMzMtCum999/n7y8PO6++267jvs3vb5iTS32Ns0IKbPKKK5pKpoc24EnvnCuqjqvo9/j4vPlFtrILrReOQSNBp2iYrMpV1zKr2jn0ud3lJLzaXCL8q3q66ymfeblXmY/KTPHqXTytm/fPiZPnlzy7wULFjBixAhefvllpkyZwty5cyuUvF2Oqqpo7LiDLF++nC+//JKXX365zMTB9ihumrFHRZtmxEVSZvbTaTXo9Y5bM1h3YY09R59Xf+HGXFXvsV6nrXC8FfmSuFy8ViucPg0nT0J8PCQlQXLyxb/0dMjLg9zci/9VFNBqi5I1rRZ0OtB7+uPlq+Lto+Ljp+JrUggKVQkKVQiuoxAUqhAWrhAarqCvwB25qsvX3a4HZ6upr6sqSZldvUonb2lpaYSFhQGQkJBAQkIC//vf//D19eWWW27hueeeq9B5TCYTZrO5zPasrKzL9nf7t40bN/LCCy8wduxY7rrrroq/iEtQFBWzObdC++p0WkwmI2ZznixMXEFSZvbz8NDh6+uFTVGxWstpLrSDTVEu/Nex57VeqMFx9HtcfO1YbUq58Wo0GnQ6bYVq3tKztGw8ATt2WDh4UMPhw1ri4jScOaPBZnNEFVTFEiG9h0pYfRv1o4r+oppaiW5ppVFzK8Z/dPGtqvKtquusquJ1NrmX2U/KrHwmk7FiPzor+wReXl5kZWUBsHPnTry9vWnbti1QNHAgN7diCVB0dHSZvm0Wi4X4+PgyfeEuZe/evTzyyCMMHjyYZ555xs5XcWn2LphrsymyyK6dpMwqrviDrKoq5bUA2uXCuarqvFX2HqtUIN6iHf792nKzNRzdp+fQHg8O7/HgyF49KeeLkytDmbN4eqpERKjUr69Qp45KcPDFv4AAFW9vFS8vMBqL/qvTFdW+FdXAafHxMbL9hJnUDIXcHA25ORqyMrSkp2hJTdKSnqwlNVlLUqKOwkINiSf1JJ4sfVvWaFTCo2xEt7DStI2Vzl0V2g51fPlW9XVWUz/zNfV1VSUps6tX6eStWbNmfPXVV4SHh7No0SK6du1a0sx59uxZQkJCKnSe3r17M2vWLNLT00uW2lqzZg0Wi6XcZtfY2FjGjRvHNddcw7Rp0+xqZhVC1HwZqRp2bzGwa4sHB3YaOHVMh6KUvU9ERkKzZlaaN1do0cJG48YKUVEqoaEq2kp2z9HrITAQbHWsZFmu3EfPZoOU81rOntKReErH6ZM6ThzWc+KwnvQUXUlSt241zAUe9YB27bzo1MlG1642evSwIisVClF7VDp5mzhxIg8//DA33ngjHh4ezJs3r+Sxv/76q8KT5I4ePZqFCxcyceJEJk6cSGpqKtOnT2f48OGlmk2nTJnC0qVLOXjwIACpqamMHTsWDw8PHnzwQQ4cOFCyr8FgoFWrVpV9aUIIN5WfR1GyttnAni0Gjh8se4sLrWejZYdCWrYvpEV7K+3aQv/WgaSnFzitNkCng7Dwor5vHWIKSz2WnqIh9pAHsYf1HN6t5+DfBlKTtezcqWPnTh2ffFJUO9ehg0KfPlb69rXRqZMNQ9mKRCFEDVHp5C0mJoaVK1dy4MABWrZsSWRkZMlj3bp1o2XLlhU6j8lk4ssvv2Tq1Kk8+uijeHl5MWzYsFKDIQAURcFmu9gP4/jx45w9exaA++67r9S+9evX548//qjkKxNCuJPUJC1b/jCw+XdP/t5kwFJQumatYTMr13S30K6LhZYdrATXKZ2g+RqcPt3lFQWGqHTqZaFTLwsAvh566tiC+PXXfLZs0bJ5s44jR3Ts2lX09/774O2t0ru3lRtusHL99TaCg2UKFCFqEo1a7jj62sVmU0hLy6nQvnq9lsBAH9LTc6T9voKkzOzn6anHZDKy7XQaWQVXbn6zR5iPJ23q+jv8vH4GPV0igxz+HhdfO9sS0th/QGX9L55s+t2To/s8Su1XJ9xG514Wru1ppW2XfALLSVyqI97ymk3tcal4z57VsHatjr/+0rNunY6UlIttvVqtSrduNoYMsTJ4sJWoqEuXR1VdZ1VVvs4m9zL7SZmVLyjIp2oHLBRLTU0lMTGRgoKCMo917tz5ak8vhBAAnDihYfVqmLfAROyR0reuFu0LiRlQQEz/Aho1t6HVgl6vw2p1cOd7F1Wvnsro0VZGj7aiKHDggJbVq/WsWqVn/34dmzbp2bRJz0svQZs2Nm6+uZCbbrJSv34tKBwhaqBKJ29JSUk8++yzbN26tcxjxXO0HTp06KqCE0LUbmfOaPjxRz1Ll3qwZ0/xqFA9eg+VTj0t9Li+gK79LASFyq/4YlottG2r0LathWeesRAfrylJ5DZv1rF/f9Hf669Dt25Wbr7ZyvDhVsLDnR25EKKiKp28/fe//+XQoUNMnjyZ5s2bY5DesUIIB8jLg9Wr9Xz9tQdr1+pQ1aI+bDqdyoABGjpfn02n/nn4+UutUUU0aKAyfnwh48cXkpqqYcUKPUuW6Nm8Wc+WLUV/U6aoDBigMG4c1O3o7IiFEOWpdPK2bds2nn322QrNxSaEEFeiqrBrl5avv/bgxx89MJsvDjoorh268UYbTZv6sC3BQpZFErfKCA5WGTOmkDFjCklM1LB0qZ4lSzzYt0/HL7/o+OUXCAwOYMDIfIbcmkdUU8dN1iuEcJxKJ28ajYZ69eo5MhYhRC2Tng6LF3uwaJEHR45cXIkgIkLhttsKuf32Qho1KkrUKrrmsKiY+vVVJk0qZNKkQo4e1fLDDwYWL/bg7Fkt33/uzfefe9OifSFDbs2j79ACfPwkYRbCVVQ6eRs8eDB//vkn3bt3d2Q8QogaTlXh77+1fPGFgZ9+0pOfX1TL5uWlMnSolTvuKKRnT1ulJ8cV9mvWTOHVV6289ZYHHyzI4sevDWz508DhCytRzHpDZcDIfEbclUd0S8eNRBVCVE6lk7chQ4bw0ksvoaoq/fr1IyAgoMw+FZ2oVwhR8+XkwJIlHnzxRVEzXbE2bWyMGVPITTcVYjI5MUCBXg+9ri+kQ+880lM0/PqjkV++9yI+Vs/Pi438vNhI62stjLw7j16DCvCQrs5COEWlk7cxY8YAsHDhQr766qtSj8loUyFEsaNHtXzxhQfffONBVlZRLZunp8rIkVbuu8/CtdcqyMp2ricwROX2cbnc9mAue7d58NNCIxvXeHJgp4EDOw0EBCvccHseQ0fnERYuo32FqE6VTt6mTZvmyDiEEDWIqsJvv+mYOdOTv/66eJtp2FBhzBgLd9xRSFCQEwMUFabRQPuuhbTvWkjKeS0rv/Hi52+MpJ7XsWimD4tnexMzwMLIe3LpGFMoibgQ1aDSydtNN93kyDiEEDVAQT78/r0n98+Hgwe9gKIZ/gcOtHLffYX07St92dxZSJjCvY/lcueEXDb95smyr4zs3mJg4xpPNq7xpHGLQm6+L4/+w/MxeDo7WiFqLocs6nfixAnS09Np2bIl3t7ejjilEMKNpKdoWLbQm2VfGclML8rOfH1V7rqrkAcftFx2SSbhnvQe0HtIAb2HFHDqmI6fFhr5dYmRE4c9eOd5Dz5725fhd+Yx4q5c/GTyXyEc7qqSt6VLl/Luu++SnJwMwPfff0/r1q15/PHH6dGjB7fddptDghRCuKYTR3T8MM+bP37yorCwqL2sbn0bzzylY9SoXLy9pS9UTRfV1MZjr2Vz/1M5rPzGyNL5RpLP6VjwYVGT6qCbLLzxH4iMdHakQtQclW7AWLVqFc8//zytWrUqGXVarHXr1qxatcohAQohXIuiwLa1Bp4bE8D4ocH88r2RwkINLdoX8uIHmfywPpOnnkJGjtYyfv4qt4/PZcGfqfzn/UxatC+ksFDDim89ad8ebrzRi99/90Cr1aLXO+ZPq5UOdqJ2qnTN25w5c7j55pt58803sdlsvP766yWPNW7cmAULFjgkQCGEayjIh9+WevHDPG/iY4tuHVqtSs+BBdzyQC6trima/0uvd0hvDOGm9B7Qb1gB/YYVcPBvPcvn+/L7Sg/WrdOxbp2OZs3g8cdhzBjw8bm651IUlfT0HBRFmuVF7VLpu2xsbCyTJ0++5GMBAQFkZGRU9tRCCBeSlqxl2VdGlv+jP5u3j8KQ2/K58d5c6kVK06i4tFbXWOnXKw+/AgOvvlXA9ws9OHpUy6RJ8MIUhZvuLuCWMfnUqWt/8uVt0NEmzB+tViPJm6h1Kp28GY1GsrKyLvnY+fPn8ff3r3RQQgjnu1R/trD6Nm4ak8uQW/NluSRRYVFRMOGFHG4eb+OXH7xY8oU3ZxN0fPmxkYWfeNFvaAGj7s+laRtZvUGIiqh08taxY0e++uorBg0aVOaxJUuW0KVLl6sKTAhR/RQFdqw38P3n3vy98eL0+a06FjLq/lx6DixAJ62iopK8fVVuGpPHiLvz2PJH0XW2b7uB337y4refvGjf1cItD+TStZ9FppQR4goqfRueNGkSd955J7fccgvDhw9Ho9Hw66+/8uGHH7Jjxw6+++47R8YphKhCBfmwZqkXS/7dn21QAbfcf7E/mxCOoNNBj+st9LjewpF9en6Y581fP3uyZ6uBPVsN1G9o5eb78hh4cx7Gap59SqvVVGgghE6nLfXf8iiKKs27wmEqnby1bduWTz/9lNdee43p06cD8MknnxAVFcWcOXNo1qyZw4IUQlSNs2dh9ttGlizwLNWf7Ybbi/qz1Y2Q/myiajVva2XKu2YenKzlp4VGVnxtJPGkng9f9eOL93wYdkceI+/OI6Ru1V+LWq2GwEAfu0axmkzGCu0ngyuEI11VA0i3bt1YtWoV8fHxpKSkEBgYSKNGjRwVmxCiihw/qGfGAiOrlkJhYdGXj/RnE85UJ1xh3LM53D0p90K/OCNn4vV8PduHbz/zrpZ+ccW1bvvPZ5JrsV15Zw3odVqsNgXK+bjI4ArhaJVK3tLS0li8eDE7duwgKSkJgDp16tC1a1duu+02AgMDHRqkEOLq2Wyw5Q8DP8zzZu+2i/3Z2nUq5MYxufS4XvqzCecz+qjceG8ew+8q6hf3w+fe7L1Ev7jrBlVdTVyuxUaW5cpJokYDer0Oq9WGKvmYqGZ236o3b97Mo48+SnZ2NjqdjsDAQFRVJS4ujk2bNvH555/z0Ucf0blz56qIVwhhp7wcDat/8OLHCzUZAFqdyqARhbz6vAHCs8gqkD5twrVcql/c2pUX+8XNaWTj+ckwYgR4yjqqopaxazxPWloaTzzxBH5+frz//vvs2LGDDRs2sHHjRnbs2MG7776L0WjkscceIz09vapiFkJUwPkzWj6Z7sPonsF8/LofZ+L1+JoUbh+fw1d/pfLWzDxkULhwB8X94hb+mcrt43PwNSkkxOmYNAnatvVm6lQDZ8/Kagui9rCr5u37779HURS+/vpr6tatW+oxo9HIDTfcQIcOHRg5ciTff/8948aNc2iwQogrU1XYv8ODH+cb2fCrJ4qt6AvNmaP3hHCU0HoX+8Wt/cmbH7/0ITZWw4wZnsycaeDGG608/LCFdu1koI2o2eyqeduwYQOjRo0qk7j9U3h4ODfffDPr16+/6uCEEBWTl6NhxddejB8WxJN3BLJulReKTUPH7hamzslg3q9pjLxbEjdRMxh9VG69r4AjR2DhwnxiYqxYrRq+/96D667zYfhwIz/+qMdicXakQlQNu2reTpw4wT333FPufp06deLnn3+udFBCiIo5Hadj2VdGfvnBi5ysot9inl4q/Ufkc+M9eUS3lL5soubS6eCGG2wMHFjI7t1aZs82sGyZnq1bi/5CQhTuuaeQe+4pJCJCRhWImsOu5M1sNhMUFFTufkFBQZjN5koHJYS4PJsNtv5p4KcF3uz8xyoI4Q2sjLg7j0Gj8vHzly8qUbt06KAwe3Y+r76qYcECDxYs8ODcOS3vvefJBx8YGDjQyv33F9Knj01WbxBuz67kzWKx4OHhUf5J9XoKCwsrHZQQoqyksxqWLPZm5TdGzifqANBoVLr2tTDi7jw69ZIlhYSoW1flmWcsPPGEhdWr9XzxhQfr1+tZvdqD1as9aNRI4b77LIweXYjMaiXcld1ThZw4cQKdTlfuPkKIq2e1wu+/a/nqK1i5MgBFKRqA4BegMOTWPIbfmUe9SOmcLcS/eXjA8OFWhg+3cvSoli+/9GDxYg/i4rS88ooXb77pydChVu68s5CePaU2TrgXu5O3F154odx9VFVFo5Fh20JUVlychkWLir5szp8v/lbR0LazhSG35tPnhnw8vZwaohBuo1kzhTfeKGDKlAKWLPFg3jwP9u/XsWSJB0uWeNCggcIddxRy1102qY0TbsGu5G3atGlVFYcQtV5uLqxapWfRoqJmnmIhISr33aeh89AMgiNl+JwQleXjA/fcU8jddxeyZ4+Wr74qSt7i47X83/958tZbKoMGQe+RHnTsY8XDUP45hXAGu5K3m266qariEKJWstlg40Yd333nwYoVenJyimqsNRqVfv1s3HVXISNGQEiIkW2nFbIKnBywEDWARlM0wKFDhwJee62AFSv0fP21Bxs36lm9Glav9sM/0Ie+w/IZMCKflh2sSGOScCWykqEQTnDwoJbvvvNgyRI9Z89e7GzToIHCbbcVcuedF6c2MBjkYypEVfH2httus3LbbVbi43UsWeLNp3MVks9r+WmBNz8t8Ca8gZUBIwoYMDKfiEblLFhfzbRaDVqt4zNLRVFRFBm17qrkW0GIanLypIblyz344Qc9Bw9eHPQTEKAyYkQht95qpUsXm/zCF8JJGjdWeeMNGPpgBmv/1PL7T15sXOPJmXg9Cz7Ss+AjH5q1LWTAiHz6Dy+gTj3nxqvVaggM9Kmy5C09PUcSOBclyZsQVejECQ0rVniwbJmevXsvJmweHirXX2/l1lutXHedVRbWFsKF6PXQpY+FLn0s5OXCpt88+X2ZFzvWGzi6z4Oj+zz4ZJov7bpY6XF9Pj0HFhBar/pHfRfXuu0/n0muxXE1gt4GHW3C/NFqNZK8uShJ3oRwsNhYDcuWebB8uZ79+y8mbFqtSo8eNkaMsDJihMwxJYQ7MHpT1GQ6ooCMVA1rV3rx+zIvDu7yYPeWor+P/+tHi/aF9B6ST69BBdU+fU+uxUaWRVZTqU0keRPiKlmtsGOHjl9/1bFmjZ4jRy4mbDqdSs+eNoYPt3LDDVZCQuRXrBDuKiBYZeQ9eYy8J4+kM1o2rjGydqUHB/724PCeor850/1o0qqQngML6NrPQpNWklQJx5PkTYhKMJvhzz/1/PKLnt9/15OefrHPiV6v0qtXUQ3b4MFWgoMlYROipgmrr3Dbg/ncfF8OKee1bPjVkw2/eLJnmwfHDxb9ffE+BNex0aN/IWNuhU6dwGh0duSiJpDkTYgKsNlg924ta9fqWbtWx/btOqzWiwlbQIBK//5WBg2y0r+/FX9/JwYrhKhWwXUURt6dx8i788hM07Dpd0+2/OHJzo0epCbpWLZYx7LF4OHhTbduNgYMsNK/v43mzRUZoCQqRZI3IS5BVYtGhxYnaxs26MnMLH2XbdrUxsCBNgYOtNK5sw29fJqEqPX8g1SG3JrPkFvzsRTAvh0e7Fpn5O/1Xhw9qmH9ej3r1+t59VUIDVXo1ctGz542eva0EhWlSjInKkS+boQAFAWOHtWyebOOrVt1bNmi48yZ0osd+vur9OxppU8fG336WGnUSJpDhRCXZ/CEa3sU0refSpdIL3buzOWXX7SsWaNn61YdyclalizRsmSJBwCRkUpJItetm42ICEnmxKVJ8iZqpYIC2L9fy5YtRcna1q2l+61BUd+1zp1tJclahw4KOt1lTiiEEOVo3Fhl3LhCxo0rpKAA/v5bx/r1RX87d+pISNDy9ddavv66KJmrW1ehc2dbyV/btgoGWbJLIMmbqAVstqJatd27tezapWP3bh0HDmgpLCydrHl7q1x7rY2uXW1062bj2mtt+Pg4KWghRI3m6QkxMTZiYmw8+yzk5MDWrTo2bCjqprFvn5Zz57QsX65l+XKPC8eodOhgo1MnhQ4dbHTsqNKxo5NfiHAKSd5EjZKfX5SoHTyo5cABHXv2aNm7V0dubtm2h6Aghc6dFbp1K2qiaNdOwcPDCUELIWo9Hx/o399G//42wEJuLuzZUzQ4avt2HTt2aElN1bJ1q56tWy8e5+cHTVr50ahlIU1bW2naupDIxjZ08u1eo8nbK9yS1Qrx8RqOHNFx6FBRsnbokJbYWC2KUjZR8/FRad/eRocOCv/f3p3HRHH3fwB/zywsy+GiC8V2EXhklRaUim1pofXBqm2sEU3VmppqNGgxildrsa02MbHiVTW2oiIxtfX4eVQjprVqgn/Uowcm1ljtD9qyi+XQcsMsx7Kw833+GHdhuQoKzox+XslkZr7LDG9mF/jMzHdmRo92ICbGgdBQ6k9CCFEmH5/WI3OAdBFVQQGHq1elU6y3bklnEKxWDtdzPHE9p3XP01PLEGpqQdhwB/4zrAVhw6Xpp0Ic1PXjEUHFG1EsxoCyMg5mM+8aLBZp/vbtjqc9nQwGEVFRIiIjRURHOzB6tIhhw6i/GiFEvThO6jMXHt6CWbOcN/7lUVrqi5PZdbj5G4+/fvdA/v97oLGehznXE+Zc91MJzqIuJNwBY5gDwWHS2BjqgOEJum2JmiiieCsoKEBaWhquXbsGb29vTJ48GampqdDpdP+6bFZWFjIzM1FSUoKwsDAsWbIEkyZNegipyYNiDKio4FBczKGoiEdREYfiYt41XVTEo66u678m3t4MJpNUpEVFORAVJRVtQUF0RI0Q8ujz8ABGjgQa/O3471SpoBNF4J8iDW7/pcHf+R74+y8P3P5Lg0KzB+xNXKdFHQDofEQYQ6VCLmwoQ9xIICDAA089JSI4WERAAB7476pGw//7F5Eekb14EwQB8+bNg9FoxM6dO1FVVYVNmzahpqYG27Zt63bZ8+fP4+OPP8bChQvxyiuv4MKFC3j//fcxYMAAjBkz5iH9BKQ9xqQnEJSW8igt5fDPPxxKSzmUlvIoL+dRWQmUlHijpIRDY2P3fw14niEkRCrS2g9GIwNPfwsIIcSF5yEdTQtz4OXX7K52hwMoLZaKupLbGpQUanD3bw+UFGpQVsLD1sDDksfDkueJKwD+DwDg5VpepwOGDAFCQ4GQECA4GBg82H148klg4MDuizzGGDjau35gshdvx44dgyAIOH36NAwGAwBAo9EgNTUVixcvhslk6nLZL774Am+88QY++OADAEBcXBwKCgqwc+dOKt76AGPSLTWsVg5WK1BTw6GqShqqq92nq6s5VFa2Ttts//bL2Vp1PfmkiCFDGEJDRQwZ0naaISxMhJdXN6shhBDyrzSa1qKuvWY7UFqiwZ1CDUr+1qD2jhYNVV7409KCOyU8qsp52GxAfr40dMdTyzAoQIQhkGFQoAj/gQx6fwb9QIbAQGBEmDe8vDTw9WUYNIjB3196Qg1dLNY7shdvly5dQnx8vKtwA4CJEydizZo1uHjxYpfFW1FRESwWC1auXOnWnpiYiNWrV6OqqsptnY8qZ4FlswE2G4fGRmncfr5te2Mj0NjIoa6OQ12dszhrna6r41wFW9tHQPWWXs8weLCIwYMZgoIYBg9mMBoZTCYv+Pk1IijIgeBgRsUZIYTIyFMLDBnqwJChUmE32FfEyCe9cLVYgLWpBfYmoKKUR/ldDcrv8ii7q0FlGY/qCh41FTyqK6UCr97Ko9nOoeyuBmV3u/uOXmh7VA+QbtXk58fg5wf4+TH4+rZO+/kx+Pi0Tvv5Sd1mdDpAp5P+hzindTrplire3tJYmn/wU75KI3vxZjabMWPGDLc2rVaL0NBQmM3mLpezWCwAgPDwcLd2k8kExhgsFosii7djxzxcz8VsbpaumrTb4Tbf3Aw0N3NtXmudb11GmrfZAMb6/1Pp3EtyDgEBrdMGQ+vYOf3EE9IvW3seHjwGDfJCdbWIlhZ6QgEhhCid1gswhoowhordfp29CaiubFPUVfCwChysNdLYJmjANXmhvFxEVRVQW8u5HjvY0MChoYFDWVn//AzOQs7TUzrK5+kp9RnsbF4au087Xxs+XERKSrPsxaDsxZsgCNDr9R3a9Xo9amtru1zO+Vr7Zf3vPRG8u2W7w/McDIae3ZnV+eb5+3uD9aAOYQyYPJnD5Mn99a5LHfWdA8/Dbb79wPOtgzTP2kzDbboVd2+4P73dZqR1m8U8NRBiH240zb0V9/V6+Xvr9ff37rN1thVj7FleDkBPfiql5O2p/svbP58HNX7OHvfPWH++Z1qNdFGFtFoGgEEU4RoYazvmOmlzH3c3uP+v4tqN75+/v7bfnmXN8z3LJ3vx1pWedmps/zXs3gftfjtEchwHjaZ3y/K96DXf7kBhH3vQD+XD25XozTYjEm0/XanVX+vtr/eY8krUlldN20FNWQH1v2fqu42T/P+/ZE+g1+shCEKHdqvV2ukROaeujrA519XdsoQQQgghaiV78WYymTr0bbPb7SgsLOz2SlNnXzdn3zcns9kMjuM69IUjhBBCCHkUyF68JSQk4JdffkF1dbWrLTs7G3a7HWPHju1yuZCQEISHh+Ps2bNu7WfOnMGzzz6ryIsVCCGEEEIelOzF26xZszBgwACkpKTg8uXLOH36NNavX48pU6a4HXlbs2YNoqKi3JZdvnw5zp07hx07diAnJwcbN27Ejz/+iOXLlz/sH4MQQggh5KGQ/YIFvV6PAwcOIC0tDcuWLYNOp0NiYiJSU1Pdvk4URTgc7jcXnDRpEmw2G/bu3Ysvv/wSYWFh2LFjB92glxBCCCGPLI4xumEDIYQQQohayH7alBBCCCGE9BwVb4QQQgghKkLFGyGEEEKIilDxRgghhBCiIlS8EUIIIYSoCBVvhBBCCCEqQsVbP7h16xYiIyMxevRouaMolsPhwL59+zBnzhzExcUhNjYWs2fPxs8//yx3NMUoKCjAggULEBMTg/j4eKSlpcFms8kdS7HOnTuHlJQUjB07FjExMZgyZQqOHDkCURTljqYK9fX1SEhIwNNPP42bN2/KHUfxTpw4galTpyI6Ohrx8fFYtGiR3JEU7cKFC5g5cyaee+45vPzyy1i6dGmHx1uSnpP9Jr2PGsYY1q9fD4PBgIaGBrnjKJbNZkNmZibefPNNLFiwAB4eHsjKykJSUhIyMjIwbtw4uSPKShAEzJs3D0ajETt37kRVVRU2bdqEmpoabNu2Te54ivTVV1/BaDTiww8/REBAAHJycrBhwwYUFRXho48+kjue4u3Zs6fDjdBJ59LT0/H1119j0aJFGDVqFGpra3H58mW5YynWTz/9hKVLl2Lq1Kl47733IAgCdu3ahaSkJHz//ffw8/OTO6L6MNKnTpw4wV5//XW2fft2FhMTI3ccxWppaWE1NTVubaIosmnTprE5c+bIlEo5MjMz2ahRo1hlZaWr7dtvv2UREREsPz9fxmTK1XZbOW3cuJFFR0ezpqYmGRKpR35+PouJiWFHjx5lERER7LfffpM7kmLl5+ezyMhIdvnyZbmjqMaaNWvYuHHjmCiKrrYbN26wiIgI9sMPP8iYTL3otGkfEgQB27dvx+rVq+Hp6Sl3HEXTaDTw9/d3a+M4Ds888wzKyspkSqUcly5dQnx8PAwGg6tt4sSJ0Gq1uHjxoozJlKvttnKKjIxEU1MTampqHn4gFdmwYQNmzZqFoUOHyh1F8U6dOoWQkBB6DGMvtLS0wNfXFxzHudoGDBggYyL1o+KtD33++ecYMWLEY3/K736Joojr16/DZDLJHUV2ZrO5w3bQarUIDQ2F2WyWKZX6XLt2DQMHDkRAQIDcURTr/PnzyMvLw5IlS+SOogo3btxAREQEdu/ejfj4eIwcORJz5sxBbm6u3NEU66233oLFYsGhQ4cgCAKKi4uxZcsWmEwmxMfHyx1Plah46yO5ubk4efIkVq9eLXcU1Tp06BAKCgqQlJQkdxTZCYIAvV7foV2v16O2tlaGROpz8+ZNnDp1CvPmzYNGo5E7jiI1NjZi8+bNWLlyJfU76qHy8nJcuXIF3333HdatW4f09HQ0NjYiKSkJgiDIHU+RYmNjsWvXLuzYsQOxsbGYMGECioqKsH//fmi1WrnjqRJdsNAFq9Xao9N3ISEh8PT0xKeffop33nnnsT5q1Jtt1v4X9urVq9i6dSvmz5+P2NjY/oqoeowxt1MPpHPl5eVYvnw5oqOjkZycLHccxcrIyEBAQACmT58udxTVYIyhoaEB6enpGD58OABgxIgRmDBhAo4fP06ft078+uuvWLVqFWbMmIHx48ejrq4Oe/fuRXJyMo4ePUo7DveBircuZGdn9+go2unTp2GxWGA2m7Ft2zbXnldTUxMA6QiKl5cXvLy8+jWvEvRmm0VGRrrm8/LykJKSgtdeew2rVq3qz4iqodfrO92Lt1qtj/UOQk9YrVYkJydDp9MhIyOD+p92oaSkBPv378fu3btRV1cHAK4r5BsaGlBfXw9fX185IyqSv78/AgMDXYUbAAQFBSE8PBz5+fkyJlOutLQ0xMXF4ZNPPnG1Pf/880hISMCJEyfobMt9oOKtC9OnT+/x3uiFCxdQW1uL8ePHd3gtNjYWycnJSE1N7euIitObbeZUWFiId999F1FRUfjss8/oqNI9JpOpQ982u92OwsJCzJgxQ6ZUytfU1ITFixejoqICx48fx6BBg+SOpFjFxcVobm7GwoULO7w2d+5cjBo1Ct98840MyZTNZDLhzp07HdoZY+B56onUGbPZ3OH/o8FgQFBQEAoLC2VKpW5UvPWBadOm4cUXX3Rry8rKwtmzZ7Fv3z4YjUaZkilbeXk55s+fj8DAQOzZs4f6PrSRkJCAjIwMVFdXuwqQ7Oxs2O12jB07VuZ0ytTS0oIVK1YgLy8Phw8fRnBwsNyRFC0yMhIHDx50a8vNzcWmTZuwbt06REdHy5RM2V599VVkZWXhzz//REREBACgtLQUFouFTj93wWg04vfff3drKy8vR1lZGf2e3ieOMcbkDvEoSk9Px/79+3H9+nW5oyiSzWbD22+/jcLCQmzduhWBgYFur8fExMgTTCEEQUBiYiKCg4ORkpKCyspKbN68GWPGjKGb9HZh7dq1OH78OFatWoUXXnjB7bVhw4ZRv5oeyMnJwdy5c3Hy5Ekq3rrgcDgwc+ZM1NfXY8WKFdBqtdi9ezcqKytx/vx5+Pj4yB1RcQ4fPoz169dj9uzZmDBhAgRBQGZmJu7cuYMzZ84gKChI7oiqQ0feiCwqKiqQl5cHAJ3eouCPP/542JEURa/X48CBA0hLS8OyZcug0+mQmJj4WJx+v19XrlwBAGzdurXDawcPHsRLL730sCORR5BGo8G+ffuwceNGrF27Fi0tLYiNjcX27dupcOvC7Nmz4enpiSNHjiArKws+Pj6Ijo7Gli1bqHC7T3TkjRBCCCFERah3JSGEEEKIilDxRgghhBCiIlS8EUIIIYSoCBVvhBBCCCEqQsUbIYQQQoiKUPFGCCGEEKIiVLwRQgghhKgIFW+EEEIIISpCxRshhBBCiIpQ8UYIIYQQoiJUvBFCCCGEqAgVb4QQQgghKvI/iibXIODQbBAAAAAASUVORK5CYII=",
          "text/plain": "<Figure size 640x480 with 3 Axes>"
         },
         "metadata": {},
         "output_type": "display_data"
        }
       ]
      }
     },
     "e3261ee91dcc490bad3df59a52e0e37e": {
      "model_module": "@jupyter-widgets/controls",
      "model_module_version": "1.5.0",
      "model_name": "SliderStyleModel",
      "state": {
       "_model_module": "@jupyter-widgets/controls",
       "_model_module_version": "1.5.0",
       "_model_name": "SliderStyleModel",
       "_view_count": null,
       "_view_module": "@jupyter-widgets/base",
       "_view_module_version": "1.2.0",
       "_view_name": "StyleView",
       "description_width": "",
       "handle_color": null
      }
     },
     "e37f70ba0a6041e8892c80334e7ae8da": {
      "model_module": "@jupyter-widgets/controls",
      "model_module_version": "1.5.0",
      "model_name": "IntSliderModel",
      "state": {
       "_dom_classes": [],
       "_model_module": "@jupyter-widgets/controls",
       "_model_module_version": "1.5.0",
       "_model_name": "IntSliderModel",
       "_view_count": null,
       "_view_module": "@jupyter-widgets/controls",
       "_view_module_version": "1.5.0",
       "_view_name": "IntSliderView",
       "continuous_update": true,
       "description": "m",
       "description_tooltip": null,
       "disabled": false,
       "layout": "IPY_MODEL_514ee742be154487bddf1d2fdf50ece7",
       "max": 5000,
       "min": 50,
       "orientation": "horizontal",
       "readout": true,
       "readout_format": "d",
       "step": 1,
       "style": "IPY_MODEL_14a1f713c3b542de940cd9d6fadc2fe2",
       "value": 1000
      }
     },
     "eced6df37a65426c936e3b82457169d8": {
      "model_module": "@jupyter-widgets/base",
      "model_module_version": "1.2.0",
      "model_name": "LayoutModel",
      "state": {
       "_model_module": "@jupyter-widgets/base",
       "_model_module_version": "1.2.0",
       "_model_name": "LayoutModel",
       "_view_count": null,
       "_view_module": "@jupyter-widgets/base",
       "_view_module_version": "1.2.0",
       "_view_name": "LayoutView",
       "align_content": null,
       "align_items": null,
       "align_self": null,
       "border": null,
       "bottom": null,
       "display": null,
       "flex": null,
       "flex_flow": null,
       "grid_area": null,
       "grid_auto_columns": null,
       "grid_auto_flow": null,
       "grid_auto_rows": null,
       "grid_column": null,
       "grid_gap": null,
       "grid_row": null,
       "grid_template_areas": null,
       "grid_template_columns": null,
       "grid_template_rows": null,
       "height": null,
       "justify_content": null,
       "justify_items": null,
       "left": null,
       "margin": null,
       "max_height": null,
       "max_width": null,
       "min_height": null,
       "min_width": null,
       "object_fit": null,
       "object_position": null,
       "order": null,
       "overflow": null,
       "overflow_x": null,
       "overflow_y": null,
       "padding": null,
       "right": null,
       "top": null,
       "visibility": null,
       "width": null
      }
     },
     "ee4558bc2b944858bce019c602b38ac3": {
      "model_module": "@jupyter-widgets/base",
      "model_module_version": "1.2.0",
      "model_name": "LayoutModel",
      "state": {
       "_model_module": "@jupyter-widgets/base",
       "_model_module_version": "1.2.0",
       "_model_name": "LayoutModel",
       "_view_count": null,
       "_view_module": "@jupyter-widgets/base",
       "_view_module_version": "1.2.0",
       "_view_name": "LayoutView",
       "align_content": null,
       "align_items": null,
       "align_self": null,
       "border": null,
       "bottom": null,
       "display": null,
       "flex": null,
       "flex_flow": null,
       "grid_area": null,
       "grid_auto_columns": null,
       "grid_auto_flow": null,
       "grid_auto_rows": null,
       "grid_column": null,
       "grid_gap": null,
       "grid_row": null,
       "grid_template_areas": null,
       "grid_template_columns": null,
       "grid_template_rows": null,
       "height": null,
       "justify_content": null,
       "justify_items": null,
       "left": null,
       "margin": null,
       "max_height": null,
       "max_width": null,
       "min_height": null,
       "min_width": null,
       "object_fit": null,
       "object_position": null,
       "order": null,
       "overflow": null,
       "overflow_x": null,
       "overflow_y": null,
       "padding": null,
       "right": null,
       "top": null,
       "visibility": null,
       "width": null
      }
     },
     "f1cc1fa2241f479c809d9c5d22eb89c0": {
      "model_module": "@jupyter-widgets/output",
      "model_module_version": "1.0.0",
      "model_name": "OutputModel",
      "state": {
       "_dom_classes": [],
       "_model_module": "@jupyter-widgets/output",
       "_model_module_version": "1.0.0",
       "_model_name": "OutputModel",
       "_view_count": null,
       "_view_module": "@jupyter-widgets/output",
       "_view_module_version": "1.0.0",
       "_view_name": "OutputView",
       "layout": "IPY_MODEL_104f60ab33fc4b5eb304bc73af1a19ae",
       "msg_id": "",
       "outputs": [
        {
         "data": {
          "image/png": "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",
          "text/plain": "<Figure size 640x480 with 1 Axes>"
         },
         "metadata": {},
         "output_type": "display_data"
        }
       ]
      }
     }
    },
    "version_major": 2,
    "version_minor": 0
   }
  }
 },
 "nbformat": 4,
 "nbformat_minor": 5
}
