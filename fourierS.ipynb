{
 "cells": [
  {
   "cell_type": "code",
   "execution_count": 35,
   "metadata": {},
   "outputs": [],
   "source": [
    "import numpy as np\n",
    "import scipy as sp\n",
    "from scipy.integrate import quad_vec\n",
    "import matplotlib.pyplot as plt\n",
    "from manim import *\n",
    "import ipywidgets\n",
    "\n",
    "config.media_width = \"75%\"\n",
    "config.verbosity = \"WARNING\"\n",
    "#HYPERPARAMETERS\n",
    "z_func = lambda t: (t-3)**2-4.5+3j*np.sin(2*np.pi*t/6)\n",
    "T = 6\n",
    "N = 3\n",
    "dx = 0.01"
   ]
  },
  {
   "cell_type": "markdown",
   "metadata": {},
   "source": [
    "## 1. Find Fourier Coefficients\n",
    "$$\n",
    "    c_{n} = \\frac{1}{T} \\int_{0}^{T} \\boldsymbol{z} (t) e^{-2\\pi ifnt} dt\n",
    "$$\n",
    "\n",
    "The Fourier coefficients represent all the frequency information of the T-periodic function $\\boldsymbol{z}(t)$. The idea behind the coefficients is to assume that the periodic function can be broken down into sinusodal functions then find the amplitude of every T-periodic sinusiod that could potentially be included in the function. The magnitude of the nth coefficient represents the radius of the spinning vector with frequency f*n while the angle determines the starting angle for their period. "
   ]
  },
  {
   "cell_type": "code",
   "execution_count": 36,
   "metadata": {},
   "outputs": [
    {
     "name": "stdout",
     "output_type": "stream",
     "text": [
      "[ 0.01823781-5.27355937e-16j  0.02251582-7.03141249e-16j\n",
      "  0.02849658-1.43403807e-16j  0.03722003-2.63677968e-16j\n",
      "  0.05066059-2.86807615e-16j  0.07295125-2.59052039e-16j\n",
      "  0.11398633-1.11022302e-16j  0.20264237-5.18104078e-16j\n",
      "  0.45594533-1.20274161e-16j  0.32378131-4.81096644e-16j\n",
      " -1.5       -7.40148683e-17j  3.32378131+8.88178420e-16j\n",
      "  0.45594533+2.96059473e-16j  0.20264237+5.92118946e-16j\n",
      "  0.11398633+2.22044605e-16j  0.07295125+1.85037171e-16j\n",
      "  0.05066059-4.25585493e-16j  0.03722003-2.59052039e-16j\n",
      "  0.02849658+1.11022302e-16j  0.02251582-4.53341068e-16j\n",
      "  0.01823781+3.70074342e-16j]\n"
     ]
    }
   ],
   "source": [
    "#Integrals with complex numbers\n",
    "def complex_quadrature_vec(func, a, b, **kwargs):\n",
    "    def real_func(x):\n",
    "        return np.real(func(x))\n",
    "    def imag_func(x):\n",
    "        return np.imag(func(x))\n",
    "    real_integral = quad_vec(real_func, a, b, **kwargs)\n",
    "    imag_integral = quad_vec(imag_func, a, b, **kwargs)\n",
    "    return real_integral[0] + 1j*imag_integral[0]\n",
    "\n",
    "#Compute integrals (in parralel)\n",
    "def fourier_coefficients(z_func,T,N):\n",
    "    n = np.arange(-N, N+1)\n",
    "    func = lambda t: z_func(t)*np.exp(-2j*n*np.pi*t/T)\n",
    "    return complex_quadrature_vec(func,0,T)/T\n",
    "\n",
    "\n",
    "c = fourier_coefficients(z_func,T,N)\n",
    "print(c)"
   ]
  },
  {
   "cell_type": "markdown",
   "metadata": {},
   "source": [
    "## 2. Compute Fourier Series\n",
    "\n",
    "$$ \n",
    "    z_{N} (t) = \\sum_{n=-N}^{N} c_{n} e^{2\\pi ifnt} \n",
    "$$"
   ]
  },
  {
   "cell_type": "code",
   "execution_count": 37,
   "metadata": {},
   "outputs": [],
   "source": [
    "# use matrix multiplication to compute approximation through time in parallel\n",
    "def compute_z_n(c,T,dx,N):\n",
    "    t = np.linspace(0,T,int(T/dx+1))\n",
    "    t = np.reshape(t, (len(t),1))\n",
    "\n",
    "    n = np.arange(-N, N+1)\n",
    "    n = np.reshape(n, (1,len(n)))\n",
    "\n",
    "    t_n_matrix = np.matmul(t,n)\n",
    "    exp_matrix = np.exp(2j*np.pi*t_n_matrix/T)\n",
    "\n",
    "    c = np.reshape(c, (len(c),1))\n",
    "\n",
    "    z_n = np.matmul(exp_matrix,c)\n",
    "    z_n = np.reshape(z_n, (len(t),))\n",
    "    \n",
    "    return z_n\n",
    "\n",
    "z_n = compute_z_n(c,T,dx,N)\n",
    "\n",
    "z_n_func = lambda x: z_n[int(x/dx)]"
   ]
  },
  {
   "cell_type": "markdown",
   "metadata": {},
   "source": [
    "## 3. Plot The Results\n",
    "\n",
    "Try increasing the value of N to get better approximations\n",
    "$$ \\lim_{N \\to \\infty} z_{N} (t) = \\boldsymbol{z} (t)"
   ]
  },
  {
   "cell_type": "code",
   "execution_count": 38,
   "metadata": {},
   "outputs": [],
   "source": [
    "t = np.linspace(0,T,int(T/dx+1))\n",
    "z = z_func(t)\n",
    "\n",
    "def plot_fourier(N=N):\n",
    "    c = fourier_coefficients(z_func,T,N)\n",
    "    z_n = compute_z_n(c,T,dx,N)\n",
    "    fig = plt.figure()\n",
    "    ax = fig.add_axes([0.1,0.1,0.9,0.9])\n",
    "\n",
    "    ax.plot(np.real(z),np.imag(z),label = 'z')\n",
    "    ax.plot(np.real(z_n),np.imag(z_n),label = 'z_n')\n",
    "\n",
    "    ax.legend(loc=0)"
   ]
  },
  {
   "cell_type": "code",
   "execution_count": 42,
   "metadata": {},
   "outputs": [
    {
     "data": {
      "application/vnd.jupyter.widget-view+json": {
       "model_id": "f46cbd3a35e14560839469be1968242d",
       "version_major": 2,
       "version_minor": 0
      },
      "text/plain": [
       "interactive(children=(IntSlider(value=10, description='N', max=50), Output()), _dom_classes=('widget-interact'…"
      ]
     },
     "metadata": {},
     "output_type": "display_data"
    },
    {
     "data": {
      "text/plain": [
       "<function __main__.plot_fourier(N=10)>"
      ]
     },
     "execution_count": 42,
     "metadata": {},
     "output_type": "execute_result"
    }
   ],
   "source": [
    "ipywidgets.interact(plot_fourier, N = (0,50,1)) #number of spinning vectors = 2N+1"
   ]
  },
  {
   "cell_type": "code",
   "execution_count": 40,
   "metadata": {},
   "outputs": [],
   "source": [
    "radius = np.sqrt(np.real(c)**2+np.imag(c)**2)\n",
    "def get_angle(c):\n",
    "    return np.imag(np.log(c))\n",
    "argument = get_angle(c)"
   ]
  },
  {
   "cell_type": "code",
   "execution_count": 43,
   "metadata": {},
   "outputs": [
    {
     "name": "stderr",
     "output_type": "stream",
     "text": [
      "                                                                                            \r"
     ]
    },
    {
     "data": {
      "text/html": [
       "<video src=\"media/jupyter/FourierSeries@2023-07-21@00-47-44.mp4\" controls autoplay loop style=\"max-width: 75%;\"  >\n",
       "      Your browser does not support the <code>video</code> element.\n",
       "    </video>"
      ],
      "text/plain": [
       "<IPython.core.display.Video object>"
      ]
     },
     "metadata": {},
     "output_type": "display_data"
    }
   ],
   "source": [
    "%%manim -ql FourierSeries\n",
    "\n",
    "\n",
    "#Animation\n",
    "class FourierSeries(Scene):\n",
    "    def get_vector_order(self):\n",
    "        order = [0]\n",
    "        s = 1\n",
    "        for i in range(2*N):\n",
    "            order.append(s*(1+i//2))\n",
    "            s = -s\n",
    "        return order\n",
    "\n",
    "    def compute_vector_path(self, prev_path,ts, n):\n",
    "        return prev_path + c[n+N]*np.exp(2j*np.pi*n*ts/T)\n",
    "\n",
    "    def get_center_funcs(self):\n",
    "        def functionize(path):\n",
    "                return lambda x: path[int(x/dx)]\n",
    "        \n",
    "        ts = np.linspace(0,T,int(T/dx+1))\n",
    "        prev_path = [0 for _ in range(len(ts))]\n",
    "        center_funcs = []\n",
    "        order = self.get_vector_order()\n",
    "\n",
    "        for n in order:\n",
    "            center_func = functionize(prev_path)\n",
    "            center_funcs.append(center_func)\n",
    "            prev_path = self.compute_vector_path(prev_path, ts, n)\n",
    "        return center_funcs\n",
    "    \n",
    "    def get_vectors_and_circles(self):\n",
    "        center_funcs = self.get_center_funcs()\n",
    "        order = self.get_vector_order()\n",
    "        vectors = VGroup()\n",
    "        circles = VGroup()\n",
    "\n",
    "        for i, n in enumerate(order):\n",
    "            center_func = center_funcs[i]\n",
    "            \n",
    "            vector = self.get_vector(n,center_func)\n",
    "            circle = self.get_circle(i,n,center_func)\n",
    "            vectors.add(vector)\n",
    "            circles.add(circle)\n",
    "        return vectors, circles\n",
    "\n",
    "    def vector_updater(self,vector,n,center_func):\n",
    "        time = self.time.get_value()\n",
    "        phase = argument[n+N]\n",
    "        rad = radius[n+N]\n",
    "        start_pos = vector.get_start()\n",
    "        end_pos = [np.real(center_func(time)),np.imag(center_func(time)),0]\n",
    "\n",
    "        vector.set_angle(phase+time*2*np.pi*n/T)\n",
    "        vector.set_length(rad)\n",
    "        vector.shift(end_pos-start_pos)\n",
    "\n",
    "        return vector\n",
    "    \n",
    "    def get_vector(self, n, center_func):\n",
    "        phase = argument[n+N]\n",
    "        rad = radius[n+N]\n",
    "        beg_pos = [np.real(center_func(0)),np.imag(center_func(0)),0]\n",
    "\n",
    "        vector = Vector(RIGHT, buff = 0, fill_opacity = 0.75)\n",
    "        vector.set_length(rad)\n",
    "        vector.tip.scale(min(1.5,rad))\n",
    "        vector.set_angle(phase)\n",
    "        vector.shift(beg_pos)\n",
    "        vector.add_updater(lambda vector, n=n, center_func=center_func: self.vector_updater(vector,n,center_func))\n",
    "        \n",
    "        return vector\n",
    "    \n",
    "    def get_circle(self, i, n, center_func):\n",
    "        rad = radius[n+N]\n",
    "        beg_pos = [np.real(center_func(0)),np.imag(center_func(0)),0]\n",
    "\n",
    "        circle = Circle(radius = rad, color = BLUE_D, stroke_width = 2,stroke_opacity = 0.5).shift(beg_pos).shift(2*RIGHT)\n",
    "        circle.add_updater(lambda circle, center_func=center_func: self.circle_updater(circle,center_func))\n",
    "        return circle\n",
    "\n",
    "    def circle_updater(self,circle,center_func):\n",
    "        time = self.time.get_value()\n",
    "        start_pos = circle.get_center()\n",
    "        end_pos = [np.real(center_func(time)),np.imag(center_func(time)),0]\n",
    "\n",
    "        circle.shift(end_pos-start_pos)\n",
    "        return circle\n",
    "\n",
    "    def construct(self):\n",
    "        self.time = ValueTracker(0)\n",
    "        vectors, circles = self.get_vectors_and_circles()\n",
    "\n",
    "        z_parametric = always_redraw(\n",
    "            lambda: ParametricFunction(lambda t: (np.real(z_n_func(t)), np.imag(z_n_func(t)), 0), t_range=[0,self.time.get_value()], color = YELLOW)\n",
    "            )\n",
    "        \n",
    "        self.add(vectors, circles, z_parametric)\n",
    "        self.play(self.time.animate.set_value(T),run_time = 6, rate_func = linear)\n",
    "\n",
    "        \n",
    "\n",
    "\n",
    "\n",
    "\n",
    "            \n",
    "        "
   ]
  }
 ],
 "metadata": {
  "kernelspec": {
   "display_name": "Python 3",
   "language": "python",
   "name": "python3"
  },
  "language_info": {
   "codemirror_mode": {
    "name": "ipython",
    "version": 3
   },
   "file_extension": ".py",
   "mimetype": "text/x-python",
   "name": "python",
   "nbconvert_exporter": "python",
   "pygments_lexer": "ipython3",
   "version": "3.10.6"
  },
  "orig_nbformat": 4
 },
 "nbformat": 4,
 "nbformat_minor": 2
}
